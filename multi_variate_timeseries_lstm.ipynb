{
 "cells": [
  {
   "cell_type": "code",
   "execution_count": 1,
   "metadata": {},
   "outputs": [],
   "source": [
    "import torch\n",
    "import os\n",
    "from torch import nn\n",
    "from torch.utils.data import DataLoader\n",
    "import pandas as pd\n",
    "import numpy as np\n",
    "from torch.utils.data import DataLoader, TensorDataset\n",
    "from tqdm.auto import tqdm\n",
    "import matplotlib.pyplot as plt\n",
    "from sklearn.metrics import r2_score"
   ]
  },
  {
   "cell_type": "code",
   "execution_count": 2,
   "metadata": {},
   "outputs": [],
   "source": [
    "device = torch.device(\"cuda\" if torch.cuda.is_available() else \"cpu\")"
   ]
  },
  {
   "cell_type": "code",
   "execution_count": 3,
   "metadata": {},
   "outputs": [],
   "source": [
    "df = pd.read_csv('jennatimeserieslstm/jena_climate_2009_2016.csv')"
   ]
  },
  {
   "cell_type": "code",
   "execution_count": 4,
   "metadata": {},
   "outputs": [
    {
     "data": {
      "text/html": [
       "<div>\n",
       "<style scoped>\n",
       "    .dataframe tbody tr th:only-of-type {\n",
       "        vertical-align: middle;\n",
       "    }\n",
       "\n",
       "    .dataframe tbody tr th {\n",
       "        vertical-align: top;\n",
       "    }\n",
       "\n",
       "    .dataframe thead th {\n",
       "        text-align: right;\n",
       "    }\n",
       "</style>\n",
       "<table border=\"1\" class=\"dataframe\">\n",
       "  <thead>\n",
       "    <tr style=\"text-align: right;\">\n",
       "      <th></th>\n",
       "      <th>Date Time</th>\n",
       "      <th>p (mbar)</th>\n",
       "      <th>T (degC)</th>\n",
       "      <th>Tpot (K)</th>\n",
       "      <th>Tdew (degC)</th>\n",
       "      <th>rh (%)</th>\n",
       "      <th>VPmax (mbar)</th>\n",
       "      <th>VPact (mbar)</th>\n",
       "      <th>VPdef (mbar)</th>\n",
       "      <th>sh (g/kg)</th>\n",
       "      <th>H2OC (mmol/mol)</th>\n",
       "      <th>rho (g/m**3)</th>\n",
       "      <th>wv (m/s)</th>\n",
       "      <th>max. wv (m/s)</th>\n",
       "      <th>wd (deg)</th>\n",
       "    </tr>\n",
       "  </thead>\n",
       "  <tbody>\n",
       "    <tr>\n",
       "      <th>0</th>\n",
       "      <td>01.01.2009 00:10:00</td>\n",
       "      <td>996.52</td>\n",
       "      <td>-8.02</td>\n",
       "      <td>265.40</td>\n",
       "      <td>-8.90</td>\n",
       "      <td>93.3</td>\n",
       "      <td>3.33</td>\n",
       "      <td>3.11</td>\n",
       "      <td>0.22</td>\n",
       "      <td>1.94</td>\n",
       "      <td>3.12</td>\n",
       "      <td>1307.75</td>\n",
       "      <td>1.03</td>\n",
       "      <td>1.75</td>\n",
       "      <td>152.3</td>\n",
       "    </tr>\n",
       "    <tr>\n",
       "      <th>1</th>\n",
       "      <td>01.01.2009 00:20:00</td>\n",
       "      <td>996.57</td>\n",
       "      <td>-8.41</td>\n",
       "      <td>265.01</td>\n",
       "      <td>-9.28</td>\n",
       "      <td>93.4</td>\n",
       "      <td>3.23</td>\n",
       "      <td>3.02</td>\n",
       "      <td>0.21</td>\n",
       "      <td>1.89</td>\n",
       "      <td>3.03</td>\n",
       "      <td>1309.80</td>\n",
       "      <td>0.72</td>\n",
       "      <td>1.50</td>\n",
       "      <td>136.1</td>\n",
       "    </tr>\n",
       "    <tr>\n",
       "      <th>2</th>\n",
       "      <td>01.01.2009 00:30:00</td>\n",
       "      <td>996.53</td>\n",
       "      <td>-8.51</td>\n",
       "      <td>264.91</td>\n",
       "      <td>-9.31</td>\n",
       "      <td>93.9</td>\n",
       "      <td>3.21</td>\n",
       "      <td>3.01</td>\n",
       "      <td>0.20</td>\n",
       "      <td>1.88</td>\n",
       "      <td>3.02</td>\n",
       "      <td>1310.24</td>\n",
       "      <td>0.19</td>\n",
       "      <td>0.63</td>\n",
       "      <td>171.6</td>\n",
       "    </tr>\n",
       "    <tr>\n",
       "      <th>3</th>\n",
       "      <td>01.01.2009 00:40:00</td>\n",
       "      <td>996.51</td>\n",
       "      <td>-8.31</td>\n",
       "      <td>265.12</td>\n",
       "      <td>-9.07</td>\n",
       "      <td>94.2</td>\n",
       "      <td>3.26</td>\n",
       "      <td>3.07</td>\n",
       "      <td>0.19</td>\n",
       "      <td>1.92</td>\n",
       "      <td>3.08</td>\n",
       "      <td>1309.19</td>\n",
       "      <td>0.34</td>\n",
       "      <td>0.50</td>\n",
       "      <td>198.0</td>\n",
       "    </tr>\n",
       "    <tr>\n",
       "      <th>4</th>\n",
       "      <td>01.01.2009 00:50:00</td>\n",
       "      <td>996.51</td>\n",
       "      <td>-8.27</td>\n",
       "      <td>265.15</td>\n",
       "      <td>-9.04</td>\n",
       "      <td>94.1</td>\n",
       "      <td>3.27</td>\n",
       "      <td>3.08</td>\n",
       "      <td>0.19</td>\n",
       "      <td>1.92</td>\n",
       "      <td>3.09</td>\n",
       "      <td>1309.00</td>\n",
       "      <td>0.32</td>\n",
       "      <td>0.63</td>\n",
       "      <td>214.3</td>\n",
       "    </tr>\n",
       "  </tbody>\n",
       "</table>\n",
       "</div>"
      ],
      "text/plain": [
       "             Date Time  p (mbar)  T (degC)  Tpot (K)  Tdew (degC)  rh (%)  \\\n",
       "0  01.01.2009 00:10:00    996.52     -8.02    265.40        -8.90    93.3   \n",
       "1  01.01.2009 00:20:00    996.57     -8.41    265.01        -9.28    93.4   \n",
       "2  01.01.2009 00:30:00    996.53     -8.51    264.91        -9.31    93.9   \n",
       "3  01.01.2009 00:40:00    996.51     -8.31    265.12        -9.07    94.2   \n",
       "4  01.01.2009 00:50:00    996.51     -8.27    265.15        -9.04    94.1   \n",
       "\n",
       "   VPmax (mbar)  VPact (mbar)  VPdef (mbar)  sh (g/kg)  H2OC (mmol/mol)  \\\n",
       "0          3.33          3.11          0.22       1.94             3.12   \n",
       "1          3.23          3.02          0.21       1.89             3.03   \n",
       "2          3.21          3.01          0.20       1.88             3.02   \n",
       "3          3.26          3.07          0.19       1.92             3.08   \n",
       "4          3.27          3.08          0.19       1.92             3.09   \n",
       "\n",
       "   rho (g/m**3)  wv (m/s)  max. wv (m/s)  wd (deg)  \n",
       "0       1307.75      1.03           1.75     152.3  \n",
       "1       1309.80      0.72           1.50     136.1  \n",
       "2       1310.24      0.19           0.63     171.6  \n",
       "3       1309.19      0.34           0.50     198.0  \n",
       "4       1309.00      0.32           0.63     214.3  "
      ]
     },
     "execution_count": 4,
     "metadata": {},
     "output_type": "execute_result"
    }
   ],
   "source": [
    "df.head()"
   ]
  },
  {
   "cell_type": "code",
   "execution_count": 5,
   "metadata": {},
   "outputs": [
    {
     "data": {
      "text/html": [
       "<div>\n",
       "<style scoped>\n",
       "    .dataframe tbody tr th:only-of-type {\n",
       "        vertical-align: middle;\n",
       "    }\n",
       "\n",
       "    .dataframe tbody tr th {\n",
       "        vertical-align: top;\n",
       "    }\n",
       "\n",
       "    .dataframe thead th {\n",
       "        text-align: right;\n",
       "    }\n",
       "</style>\n",
       "<table border=\"1\" class=\"dataframe\">\n",
       "  <thead>\n",
       "    <tr style=\"text-align: right;\">\n",
       "      <th></th>\n",
       "      <th>Date Time</th>\n",
       "      <th>p (mbar)</th>\n",
       "      <th>T (degC)</th>\n",
       "      <th>Tpot (K)</th>\n",
       "      <th>Tdew (degC)</th>\n",
       "      <th>rh (%)</th>\n",
       "      <th>VPmax (mbar)</th>\n",
       "      <th>VPact (mbar)</th>\n",
       "      <th>VPdef (mbar)</th>\n",
       "      <th>sh (g/kg)</th>\n",
       "      <th>H2OC (mmol/mol)</th>\n",
       "      <th>rho (g/m**3)</th>\n",
       "      <th>wv (m/s)</th>\n",
       "      <th>max. wv (m/s)</th>\n",
       "      <th>wd (deg)</th>\n",
       "    </tr>\n",
       "  </thead>\n",
       "  <tbody>\n",
       "    <tr>\n",
       "      <th>5</th>\n",
       "      <td>01.01.2009 01:00:00</td>\n",
       "      <td>996.50</td>\n",
       "      <td>-8.05</td>\n",
       "      <td>265.38</td>\n",
       "      <td>-8.78</td>\n",
       "      <td>94.4</td>\n",
       "      <td>3.33</td>\n",
       "      <td>3.14</td>\n",
       "      <td>0.19</td>\n",
       "      <td>1.96</td>\n",
       "      <td>3.15</td>\n",
       "      <td>1307.86</td>\n",
       "      <td>0.21</td>\n",
       "      <td>0.63</td>\n",
       "      <td>192.7</td>\n",
       "    </tr>\n",
       "    <tr>\n",
       "      <th>11</th>\n",
       "      <td>01.01.2009 02:00:00</td>\n",
       "      <td>996.62</td>\n",
       "      <td>-8.88</td>\n",
       "      <td>264.54</td>\n",
       "      <td>-9.77</td>\n",
       "      <td>93.2</td>\n",
       "      <td>3.12</td>\n",
       "      <td>2.90</td>\n",
       "      <td>0.21</td>\n",
       "      <td>1.81</td>\n",
       "      <td>2.91</td>\n",
       "      <td>1312.25</td>\n",
       "      <td>0.25</td>\n",
       "      <td>0.63</td>\n",
       "      <td>190.3</td>\n",
       "    </tr>\n",
       "    <tr>\n",
       "      <th>17</th>\n",
       "      <td>01.01.2009 03:00:00</td>\n",
       "      <td>996.84</td>\n",
       "      <td>-8.81</td>\n",
       "      <td>264.59</td>\n",
       "      <td>-9.66</td>\n",
       "      <td>93.5</td>\n",
       "      <td>3.13</td>\n",
       "      <td>2.93</td>\n",
       "      <td>0.20</td>\n",
       "      <td>1.83</td>\n",
       "      <td>2.94</td>\n",
       "      <td>1312.18</td>\n",
       "      <td>0.18</td>\n",
       "      <td>0.63</td>\n",
       "      <td>167.2</td>\n",
       "    </tr>\n",
       "    <tr>\n",
       "      <th>23</th>\n",
       "      <td>01.01.2009 04:00:00</td>\n",
       "      <td>996.99</td>\n",
       "      <td>-9.05</td>\n",
       "      <td>264.34</td>\n",
       "      <td>-10.02</td>\n",
       "      <td>92.6</td>\n",
       "      <td>3.07</td>\n",
       "      <td>2.85</td>\n",
       "      <td>0.23</td>\n",
       "      <td>1.78</td>\n",
       "      <td>2.85</td>\n",
       "      <td>1313.61</td>\n",
       "      <td>0.10</td>\n",
       "      <td>0.38</td>\n",
       "      <td>240.0</td>\n",
       "    </tr>\n",
       "    <tr>\n",
       "      <th>29</th>\n",
       "      <td>01.01.2009 05:00:00</td>\n",
       "      <td>997.46</td>\n",
       "      <td>-9.63</td>\n",
       "      <td>263.72</td>\n",
       "      <td>-10.65</td>\n",
       "      <td>92.2</td>\n",
       "      <td>2.94</td>\n",
       "      <td>2.71</td>\n",
       "      <td>0.23</td>\n",
       "      <td>1.69</td>\n",
       "      <td>2.71</td>\n",
       "      <td>1317.19</td>\n",
       "      <td>0.40</td>\n",
       "      <td>0.88</td>\n",
       "      <td>157.0</td>\n",
       "    </tr>\n",
       "  </tbody>\n",
       "</table>\n",
       "</div>"
      ],
      "text/plain": [
       "              Date Time  p (mbar)  T (degC)  Tpot (K)  Tdew (degC)  rh (%)  \\\n",
       "5   01.01.2009 01:00:00    996.50     -8.05    265.38        -8.78    94.4   \n",
       "11  01.01.2009 02:00:00    996.62     -8.88    264.54        -9.77    93.2   \n",
       "17  01.01.2009 03:00:00    996.84     -8.81    264.59        -9.66    93.5   \n",
       "23  01.01.2009 04:00:00    996.99     -9.05    264.34       -10.02    92.6   \n",
       "29  01.01.2009 05:00:00    997.46     -9.63    263.72       -10.65    92.2   \n",
       "\n",
       "    VPmax (mbar)  VPact (mbar)  VPdef (mbar)  sh (g/kg)  H2OC (mmol/mol)  \\\n",
       "5           3.33          3.14          0.19       1.96             3.15   \n",
       "11          3.12          2.90          0.21       1.81             2.91   \n",
       "17          3.13          2.93          0.20       1.83             2.94   \n",
       "23          3.07          2.85          0.23       1.78             2.85   \n",
       "29          2.94          2.71          0.23       1.69             2.71   \n",
       "\n",
       "    rho (g/m**3)  wv (m/s)  max. wv (m/s)  wd (deg)  \n",
       "5        1307.86      0.21           0.63     192.7  \n",
       "11       1312.25      0.25           0.63     190.3  \n",
       "17       1312.18      0.18           0.63     167.2  \n",
       "23       1313.61      0.10           0.38     240.0  \n",
       "29       1317.19      0.40           0.88     157.0  "
      ]
     },
     "execution_count": 5,
     "metadata": {},
     "output_type": "execute_result"
    }
   ],
   "source": [
    "df = df[5::6]\n",
    "df.head()\n"
   ]
  },
  {
   "cell_type": "code",
   "execution_count": 6,
   "metadata": {},
   "outputs": [
    {
     "data": {
      "text/html": [
       "<div>\n",
       "<style scoped>\n",
       "    .dataframe tbody tr th:only-of-type {\n",
       "        vertical-align: middle;\n",
       "    }\n",
       "\n",
       "    .dataframe tbody tr th {\n",
       "        vertical-align: top;\n",
       "    }\n",
       "\n",
       "    .dataframe thead th {\n",
       "        text-align: right;\n",
       "    }\n",
       "</style>\n",
       "<table border=\"1\" class=\"dataframe\">\n",
       "  <thead>\n",
       "    <tr style=\"text-align: right;\">\n",
       "      <th></th>\n",
       "      <th>Date Time</th>\n",
       "      <th>p (mbar)</th>\n",
       "      <th>T (degC)</th>\n",
       "      <th>Tpot (K)</th>\n",
       "      <th>Tdew (degC)</th>\n",
       "      <th>rh (%)</th>\n",
       "      <th>VPmax (mbar)</th>\n",
       "      <th>VPact (mbar)</th>\n",
       "      <th>VPdef (mbar)</th>\n",
       "      <th>sh (g/kg)</th>\n",
       "      <th>H2OC (mmol/mol)</th>\n",
       "      <th>rho (g/m**3)</th>\n",
       "      <th>wv (m/s)</th>\n",
       "      <th>max. wv (m/s)</th>\n",
       "      <th>wd (deg)</th>\n",
       "    </tr>\n",
       "  </thead>\n",
       "  <tbody>\n",
       "    <tr>\n",
       "      <th>5</th>\n",
       "      <td>01.01.2009 01:00:00</td>\n",
       "      <td>996.50</td>\n",
       "      <td>-8.05</td>\n",
       "      <td>265.38</td>\n",
       "      <td>-8.78</td>\n",
       "      <td>94.40</td>\n",
       "      <td>3.33</td>\n",
       "      <td>3.14</td>\n",
       "      <td>0.19</td>\n",
       "      <td>1.96</td>\n",
       "      <td>3.15</td>\n",
       "      <td>1307.86</td>\n",
       "      <td>0.21</td>\n",
       "      <td>0.63</td>\n",
       "      <td>192.7</td>\n",
       "    </tr>\n",
       "    <tr>\n",
       "      <th>11</th>\n",
       "      <td>01.01.2009 02:00:00</td>\n",
       "      <td>996.62</td>\n",
       "      <td>-8.88</td>\n",
       "      <td>264.54</td>\n",
       "      <td>-9.77</td>\n",
       "      <td>93.20</td>\n",
       "      <td>3.12</td>\n",
       "      <td>2.90</td>\n",
       "      <td>0.21</td>\n",
       "      <td>1.81</td>\n",
       "      <td>2.91</td>\n",
       "      <td>1312.25</td>\n",
       "      <td>0.25</td>\n",
       "      <td>0.63</td>\n",
       "      <td>190.3</td>\n",
       "    </tr>\n",
       "    <tr>\n",
       "      <th>17</th>\n",
       "      <td>01.01.2009 03:00:00</td>\n",
       "      <td>996.84</td>\n",
       "      <td>-8.81</td>\n",
       "      <td>264.59</td>\n",
       "      <td>-9.66</td>\n",
       "      <td>93.50</td>\n",
       "      <td>3.13</td>\n",
       "      <td>2.93</td>\n",
       "      <td>0.20</td>\n",
       "      <td>1.83</td>\n",
       "      <td>2.94</td>\n",
       "      <td>1312.18</td>\n",
       "      <td>0.18</td>\n",
       "      <td>0.63</td>\n",
       "      <td>167.2</td>\n",
       "    </tr>\n",
       "    <tr>\n",
       "      <th>23</th>\n",
       "      <td>01.01.2009 04:00:00</td>\n",
       "      <td>996.99</td>\n",
       "      <td>-9.05</td>\n",
       "      <td>264.34</td>\n",
       "      <td>-10.02</td>\n",
       "      <td>92.60</td>\n",
       "      <td>3.07</td>\n",
       "      <td>2.85</td>\n",
       "      <td>0.23</td>\n",
       "      <td>1.78</td>\n",
       "      <td>2.85</td>\n",
       "      <td>1313.61</td>\n",
       "      <td>0.10</td>\n",
       "      <td>0.38</td>\n",
       "      <td>240.0</td>\n",
       "    </tr>\n",
       "    <tr>\n",
       "      <th>29</th>\n",
       "      <td>01.01.2009 05:00:00</td>\n",
       "      <td>997.46</td>\n",
       "      <td>-9.63</td>\n",
       "      <td>263.72</td>\n",
       "      <td>-10.65</td>\n",
       "      <td>92.20</td>\n",
       "      <td>2.94</td>\n",
       "      <td>2.71</td>\n",
       "      <td>0.23</td>\n",
       "      <td>1.69</td>\n",
       "      <td>2.71</td>\n",
       "      <td>1317.19</td>\n",
       "      <td>0.40</td>\n",
       "      <td>0.88</td>\n",
       "      <td>157.0</td>\n",
       "    </tr>\n",
       "    <tr>\n",
       "      <th>...</th>\n",
       "      <td>...</td>\n",
       "      <td>...</td>\n",
       "      <td>...</td>\n",
       "      <td>...</td>\n",
       "      <td>...</td>\n",
       "      <td>...</td>\n",
       "      <td>...</td>\n",
       "      <td>...</td>\n",
       "      <td>...</td>\n",
       "      <td>...</td>\n",
       "      <td>...</td>\n",
       "      <td>...</td>\n",
       "      <td>...</td>\n",
       "      <td>...</td>\n",
       "      <td>...</td>\n",
       "    </tr>\n",
       "    <tr>\n",
       "      <th>420521</th>\n",
       "      <td>31.12.2016 19:10:00</td>\n",
       "      <td>1002.18</td>\n",
       "      <td>-0.98</td>\n",
       "      <td>272.01</td>\n",
       "      <td>-5.36</td>\n",
       "      <td>72.00</td>\n",
       "      <td>5.69</td>\n",
       "      <td>4.09</td>\n",
       "      <td>1.59</td>\n",
       "      <td>2.54</td>\n",
       "      <td>4.08</td>\n",
       "      <td>1280.70</td>\n",
       "      <td>0.87</td>\n",
       "      <td>1.36</td>\n",
       "      <td>190.6</td>\n",
       "    </tr>\n",
       "    <tr>\n",
       "      <th>420527</th>\n",
       "      <td>31.12.2016 20:10:00</td>\n",
       "      <td>1001.40</td>\n",
       "      <td>-1.40</td>\n",
       "      <td>271.66</td>\n",
       "      <td>-6.84</td>\n",
       "      <td>66.29</td>\n",
       "      <td>5.51</td>\n",
       "      <td>3.65</td>\n",
       "      <td>1.86</td>\n",
       "      <td>2.27</td>\n",
       "      <td>3.65</td>\n",
       "      <td>1281.87</td>\n",
       "      <td>1.02</td>\n",
       "      <td>1.92</td>\n",
       "      <td>225.4</td>\n",
       "    </tr>\n",
       "    <tr>\n",
       "      <th>420533</th>\n",
       "      <td>31.12.2016 21:10:00</td>\n",
       "      <td>1001.19</td>\n",
       "      <td>-2.75</td>\n",
       "      <td>270.32</td>\n",
       "      <td>-6.90</td>\n",
       "      <td>72.90</td>\n",
       "      <td>4.99</td>\n",
       "      <td>3.64</td>\n",
       "      <td>1.35</td>\n",
       "      <td>2.26</td>\n",
       "      <td>3.63</td>\n",
       "      <td>1288.02</td>\n",
       "      <td>0.71</td>\n",
       "      <td>1.56</td>\n",
       "      <td>158.7</td>\n",
       "    </tr>\n",
       "    <tr>\n",
       "      <th>420539</th>\n",
       "      <td>31.12.2016 22:10:00</td>\n",
       "      <td>1000.65</td>\n",
       "      <td>-2.89</td>\n",
       "      <td>270.22</td>\n",
       "      <td>-7.15</td>\n",
       "      <td>72.30</td>\n",
       "      <td>4.93</td>\n",
       "      <td>3.57</td>\n",
       "      <td>1.37</td>\n",
       "      <td>2.22</td>\n",
       "      <td>3.57</td>\n",
       "      <td>1288.03</td>\n",
       "      <td>0.35</td>\n",
       "      <td>0.68</td>\n",
       "      <td>216.7</td>\n",
       "    </tr>\n",
       "    <tr>\n",
       "      <th>420545</th>\n",
       "      <td>31.12.2016 23:10:00</td>\n",
       "      <td>1000.11</td>\n",
       "      <td>-3.93</td>\n",
       "      <td>269.23</td>\n",
       "      <td>-8.09</td>\n",
       "      <td>72.60</td>\n",
       "      <td>4.56</td>\n",
       "      <td>3.31</td>\n",
       "      <td>1.25</td>\n",
       "      <td>2.06</td>\n",
       "      <td>3.31</td>\n",
       "      <td>1292.41</td>\n",
       "      <td>0.56</td>\n",
       "      <td>1.00</td>\n",
       "      <td>202.6</td>\n",
       "    </tr>\n",
       "  </tbody>\n",
       "</table>\n",
       "<p>70091 rows × 15 columns</p>\n",
       "</div>"
      ],
      "text/plain": [
       "                  Date Time  p (mbar)  T (degC)  Tpot (K)  Tdew (degC)  \\\n",
       "5       01.01.2009 01:00:00    996.50     -8.05    265.38        -8.78   \n",
       "11      01.01.2009 02:00:00    996.62     -8.88    264.54        -9.77   \n",
       "17      01.01.2009 03:00:00    996.84     -8.81    264.59        -9.66   \n",
       "23      01.01.2009 04:00:00    996.99     -9.05    264.34       -10.02   \n",
       "29      01.01.2009 05:00:00    997.46     -9.63    263.72       -10.65   \n",
       "...                     ...       ...       ...       ...          ...   \n",
       "420521  31.12.2016 19:10:00   1002.18     -0.98    272.01        -5.36   \n",
       "420527  31.12.2016 20:10:00   1001.40     -1.40    271.66        -6.84   \n",
       "420533  31.12.2016 21:10:00   1001.19     -2.75    270.32        -6.90   \n",
       "420539  31.12.2016 22:10:00   1000.65     -2.89    270.22        -7.15   \n",
       "420545  31.12.2016 23:10:00   1000.11     -3.93    269.23        -8.09   \n",
       "\n",
       "        rh (%)  VPmax (mbar)  VPact (mbar)  VPdef (mbar)  sh (g/kg)  \\\n",
       "5        94.40          3.33          3.14          0.19       1.96   \n",
       "11       93.20          3.12          2.90          0.21       1.81   \n",
       "17       93.50          3.13          2.93          0.20       1.83   \n",
       "23       92.60          3.07          2.85          0.23       1.78   \n",
       "29       92.20          2.94          2.71          0.23       1.69   \n",
       "...        ...           ...           ...           ...        ...   \n",
       "420521   72.00          5.69          4.09          1.59       2.54   \n",
       "420527   66.29          5.51          3.65          1.86       2.27   \n",
       "420533   72.90          4.99          3.64          1.35       2.26   \n",
       "420539   72.30          4.93          3.57          1.37       2.22   \n",
       "420545   72.60          4.56          3.31          1.25       2.06   \n",
       "\n",
       "        H2OC (mmol/mol)  rho (g/m**3)  wv (m/s)  max. wv (m/s)  wd (deg)  \n",
       "5                  3.15       1307.86      0.21           0.63     192.7  \n",
       "11                 2.91       1312.25      0.25           0.63     190.3  \n",
       "17                 2.94       1312.18      0.18           0.63     167.2  \n",
       "23                 2.85       1313.61      0.10           0.38     240.0  \n",
       "29                 2.71       1317.19      0.40           0.88     157.0  \n",
       "...                 ...           ...       ...            ...       ...  \n",
       "420521             4.08       1280.70      0.87           1.36     190.6  \n",
       "420527             3.65       1281.87      1.02           1.92     225.4  \n",
       "420533             3.63       1288.02      0.71           1.56     158.7  \n",
       "420539             3.57       1288.03      0.35           0.68     216.7  \n",
       "420545             3.31       1292.41      0.56           1.00     202.6  \n",
       "\n",
       "[70091 rows x 15 columns]"
      ]
     },
     "execution_count": 6,
     "metadata": {},
     "output_type": "execute_result"
    }
   ],
   "source": [
    "df"
   ]
  },
  {
   "cell_type": "code",
   "execution_count": 7,
   "metadata": {},
   "outputs": [],
   "source": [
    "df.index = pd.to_datetime(df.pop('Date Time'), format='%d.%m.%Y %H:%M:%S')"
   ]
  },
  {
   "cell_type": "code",
   "execution_count": 8,
   "metadata": {},
   "outputs": [
    {
     "data": {
      "text/html": [
       "<div>\n",
       "<style scoped>\n",
       "    .dataframe tbody tr th:only-of-type {\n",
       "        vertical-align: middle;\n",
       "    }\n",
       "\n",
       "    .dataframe tbody tr th {\n",
       "        vertical-align: top;\n",
       "    }\n",
       "\n",
       "    .dataframe thead th {\n",
       "        text-align: right;\n",
       "    }\n",
       "</style>\n",
       "<table border=\"1\" class=\"dataframe\">\n",
       "  <thead>\n",
       "    <tr style=\"text-align: right;\">\n",
       "      <th></th>\n",
       "      <th>p (mbar)</th>\n",
       "      <th>T (degC)</th>\n",
       "      <th>Tpot (K)</th>\n",
       "      <th>Tdew (degC)</th>\n",
       "      <th>rh (%)</th>\n",
       "      <th>VPmax (mbar)</th>\n",
       "      <th>VPact (mbar)</th>\n",
       "      <th>VPdef (mbar)</th>\n",
       "      <th>sh (g/kg)</th>\n",
       "      <th>H2OC (mmol/mol)</th>\n",
       "      <th>rho (g/m**3)</th>\n",
       "      <th>wv (m/s)</th>\n",
       "      <th>max. wv (m/s)</th>\n",
       "      <th>wd (deg)</th>\n",
       "    </tr>\n",
       "    <tr>\n",
       "      <th>Date Time</th>\n",
       "      <th></th>\n",
       "      <th></th>\n",
       "      <th></th>\n",
       "      <th></th>\n",
       "      <th></th>\n",
       "      <th></th>\n",
       "      <th></th>\n",
       "      <th></th>\n",
       "      <th></th>\n",
       "      <th></th>\n",
       "      <th></th>\n",
       "      <th></th>\n",
       "      <th></th>\n",
       "      <th></th>\n",
       "    </tr>\n",
       "  </thead>\n",
       "  <tbody>\n",
       "    <tr>\n",
       "      <th>2009-01-01 01:00:00</th>\n",
       "      <td>996.50</td>\n",
       "      <td>-8.05</td>\n",
       "      <td>265.38</td>\n",
       "      <td>-8.78</td>\n",
       "      <td>94.40</td>\n",
       "      <td>3.33</td>\n",
       "      <td>3.14</td>\n",
       "      <td>0.19</td>\n",
       "      <td>1.96</td>\n",
       "      <td>3.15</td>\n",
       "      <td>1307.86</td>\n",
       "      <td>0.21</td>\n",
       "      <td>0.63</td>\n",
       "      <td>192.7</td>\n",
       "    </tr>\n",
       "    <tr>\n",
       "      <th>2009-01-01 02:00:00</th>\n",
       "      <td>996.62</td>\n",
       "      <td>-8.88</td>\n",
       "      <td>264.54</td>\n",
       "      <td>-9.77</td>\n",
       "      <td>93.20</td>\n",
       "      <td>3.12</td>\n",
       "      <td>2.90</td>\n",
       "      <td>0.21</td>\n",
       "      <td>1.81</td>\n",
       "      <td>2.91</td>\n",
       "      <td>1312.25</td>\n",
       "      <td>0.25</td>\n",
       "      <td>0.63</td>\n",
       "      <td>190.3</td>\n",
       "    </tr>\n",
       "    <tr>\n",
       "      <th>2009-01-01 03:00:00</th>\n",
       "      <td>996.84</td>\n",
       "      <td>-8.81</td>\n",
       "      <td>264.59</td>\n",
       "      <td>-9.66</td>\n",
       "      <td>93.50</td>\n",
       "      <td>3.13</td>\n",
       "      <td>2.93</td>\n",
       "      <td>0.20</td>\n",
       "      <td>1.83</td>\n",
       "      <td>2.94</td>\n",
       "      <td>1312.18</td>\n",
       "      <td>0.18</td>\n",
       "      <td>0.63</td>\n",
       "      <td>167.2</td>\n",
       "    </tr>\n",
       "    <tr>\n",
       "      <th>2009-01-01 04:00:00</th>\n",
       "      <td>996.99</td>\n",
       "      <td>-9.05</td>\n",
       "      <td>264.34</td>\n",
       "      <td>-10.02</td>\n",
       "      <td>92.60</td>\n",
       "      <td>3.07</td>\n",
       "      <td>2.85</td>\n",
       "      <td>0.23</td>\n",
       "      <td>1.78</td>\n",
       "      <td>2.85</td>\n",
       "      <td>1313.61</td>\n",
       "      <td>0.10</td>\n",
       "      <td>0.38</td>\n",
       "      <td>240.0</td>\n",
       "    </tr>\n",
       "    <tr>\n",
       "      <th>2009-01-01 05:00:00</th>\n",
       "      <td>997.46</td>\n",
       "      <td>-9.63</td>\n",
       "      <td>263.72</td>\n",
       "      <td>-10.65</td>\n",
       "      <td>92.20</td>\n",
       "      <td>2.94</td>\n",
       "      <td>2.71</td>\n",
       "      <td>0.23</td>\n",
       "      <td>1.69</td>\n",
       "      <td>2.71</td>\n",
       "      <td>1317.19</td>\n",
       "      <td>0.40</td>\n",
       "      <td>0.88</td>\n",
       "      <td>157.0</td>\n",
       "    </tr>\n",
       "    <tr>\n",
       "      <th>...</th>\n",
       "      <td>...</td>\n",
       "      <td>...</td>\n",
       "      <td>...</td>\n",
       "      <td>...</td>\n",
       "      <td>...</td>\n",
       "      <td>...</td>\n",
       "      <td>...</td>\n",
       "      <td>...</td>\n",
       "      <td>...</td>\n",
       "      <td>...</td>\n",
       "      <td>...</td>\n",
       "      <td>...</td>\n",
       "      <td>...</td>\n",
       "      <td>...</td>\n",
       "    </tr>\n",
       "    <tr>\n",
       "      <th>2016-12-31 19:10:00</th>\n",
       "      <td>1002.18</td>\n",
       "      <td>-0.98</td>\n",
       "      <td>272.01</td>\n",
       "      <td>-5.36</td>\n",
       "      <td>72.00</td>\n",
       "      <td>5.69</td>\n",
       "      <td>4.09</td>\n",
       "      <td>1.59</td>\n",
       "      <td>2.54</td>\n",
       "      <td>4.08</td>\n",
       "      <td>1280.70</td>\n",
       "      <td>0.87</td>\n",
       "      <td>1.36</td>\n",
       "      <td>190.6</td>\n",
       "    </tr>\n",
       "    <tr>\n",
       "      <th>2016-12-31 20:10:00</th>\n",
       "      <td>1001.40</td>\n",
       "      <td>-1.40</td>\n",
       "      <td>271.66</td>\n",
       "      <td>-6.84</td>\n",
       "      <td>66.29</td>\n",
       "      <td>5.51</td>\n",
       "      <td>3.65</td>\n",
       "      <td>1.86</td>\n",
       "      <td>2.27</td>\n",
       "      <td>3.65</td>\n",
       "      <td>1281.87</td>\n",
       "      <td>1.02</td>\n",
       "      <td>1.92</td>\n",
       "      <td>225.4</td>\n",
       "    </tr>\n",
       "    <tr>\n",
       "      <th>2016-12-31 21:10:00</th>\n",
       "      <td>1001.19</td>\n",
       "      <td>-2.75</td>\n",
       "      <td>270.32</td>\n",
       "      <td>-6.90</td>\n",
       "      <td>72.90</td>\n",
       "      <td>4.99</td>\n",
       "      <td>3.64</td>\n",
       "      <td>1.35</td>\n",
       "      <td>2.26</td>\n",
       "      <td>3.63</td>\n",
       "      <td>1288.02</td>\n",
       "      <td>0.71</td>\n",
       "      <td>1.56</td>\n",
       "      <td>158.7</td>\n",
       "    </tr>\n",
       "    <tr>\n",
       "      <th>2016-12-31 22:10:00</th>\n",
       "      <td>1000.65</td>\n",
       "      <td>-2.89</td>\n",
       "      <td>270.22</td>\n",
       "      <td>-7.15</td>\n",
       "      <td>72.30</td>\n",
       "      <td>4.93</td>\n",
       "      <td>3.57</td>\n",
       "      <td>1.37</td>\n",
       "      <td>2.22</td>\n",
       "      <td>3.57</td>\n",
       "      <td>1288.03</td>\n",
       "      <td>0.35</td>\n",
       "      <td>0.68</td>\n",
       "      <td>216.7</td>\n",
       "    </tr>\n",
       "    <tr>\n",
       "      <th>2016-12-31 23:10:00</th>\n",
       "      <td>1000.11</td>\n",
       "      <td>-3.93</td>\n",
       "      <td>269.23</td>\n",
       "      <td>-8.09</td>\n",
       "      <td>72.60</td>\n",
       "      <td>4.56</td>\n",
       "      <td>3.31</td>\n",
       "      <td>1.25</td>\n",
       "      <td>2.06</td>\n",
       "      <td>3.31</td>\n",
       "      <td>1292.41</td>\n",
       "      <td>0.56</td>\n",
       "      <td>1.00</td>\n",
       "      <td>202.6</td>\n",
       "    </tr>\n",
       "  </tbody>\n",
       "</table>\n",
       "<p>70091 rows × 14 columns</p>\n",
       "</div>"
      ],
      "text/plain": [
       "                     p (mbar)  T (degC)  Tpot (K)  Tdew (degC)  rh (%)  \\\n",
       "Date Time                                                                \n",
       "2009-01-01 01:00:00    996.50     -8.05    265.38        -8.78   94.40   \n",
       "2009-01-01 02:00:00    996.62     -8.88    264.54        -9.77   93.20   \n",
       "2009-01-01 03:00:00    996.84     -8.81    264.59        -9.66   93.50   \n",
       "2009-01-01 04:00:00    996.99     -9.05    264.34       -10.02   92.60   \n",
       "2009-01-01 05:00:00    997.46     -9.63    263.72       -10.65   92.20   \n",
       "...                       ...       ...       ...          ...     ...   \n",
       "2016-12-31 19:10:00   1002.18     -0.98    272.01        -5.36   72.00   \n",
       "2016-12-31 20:10:00   1001.40     -1.40    271.66        -6.84   66.29   \n",
       "2016-12-31 21:10:00   1001.19     -2.75    270.32        -6.90   72.90   \n",
       "2016-12-31 22:10:00   1000.65     -2.89    270.22        -7.15   72.30   \n",
       "2016-12-31 23:10:00   1000.11     -3.93    269.23        -8.09   72.60   \n",
       "\n",
       "                     VPmax (mbar)  VPact (mbar)  VPdef (mbar)  sh (g/kg)  \\\n",
       "Date Time                                                                  \n",
       "2009-01-01 01:00:00          3.33          3.14          0.19       1.96   \n",
       "2009-01-01 02:00:00          3.12          2.90          0.21       1.81   \n",
       "2009-01-01 03:00:00          3.13          2.93          0.20       1.83   \n",
       "2009-01-01 04:00:00          3.07          2.85          0.23       1.78   \n",
       "2009-01-01 05:00:00          2.94          2.71          0.23       1.69   \n",
       "...                           ...           ...           ...        ...   \n",
       "2016-12-31 19:10:00          5.69          4.09          1.59       2.54   \n",
       "2016-12-31 20:10:00          5.51          3.65          1.86       2.27   \n",
       "2016-12-31 21:10:00          4.99          3.64          1.35       2.26   \n",
       "2016-12-31 22:10:00          4.93          3.57          1.37       2.22   \n",
       "2016-12-31 23:10:00          4.56          3.31          1.25       2.06   \n",
       "\n",
       "                     H2OC (mmol/mol)  rho (g/m**3)  wv (m/s)  max. wv (m/s)  \\\n",
       "Date Time                                                                     \n",
       "2009-01-01 01:00:00             3.15       1307.86      0.21           0.63   \n",
       "2009-01-01 02:00:00             2.91       1312.25      0.25           0.63   \n",
       "2009-01-01 03:00:00             2.94       1312.18      0.18           0.63   \n",
       "2009-01-01 04:00:00             2.85       1313.61      0.10           0.38   \n",
       "2009-01-01 05:00:00             2.71       1317.19      0.40           0.88   \n",
       "...                              ...           ...       ...            ...   \n",
       "2016-12-31 19:10:00             4.08       1280.70      0.87           1.36   \n",
       "2016-12-31 20:10:00             3.65       1281.87      1.02           1.92   \n",
       "2016-12-31 21:10:00             3.63       1288.02      0.71           1.56   \n",
       "2016-12-31 22:10:00             3.57       1288.03      0.35           0.68   \n",
       "2016-12-31 23:10:00             3.31       1292.41      0.56           1.00   \n",
       "\n",
       "                     wd (deg)  \n",
       "Date Time                      \n",
       "2009-01-01 01:00:00     192.7  \n",
       "2009-01-01 02:00:00     190.3  \n",
       "2009-01-01 03:00:00     167.2  \n",
       "2009-01-01 04:00:00     240.0  \n",
       "2009-01-01 05:00:00     157.0  \n",
       "...                       ...  \n",
       "2016-12-31 19:10:00     190.6  \n",
       "2016-12-31 20:10:00     225.4  \n",
       "2016-12-31 21:10:00     158.7  \n",
       "2016-12-31 22:10:00     216.7  \n",
       "2016-12-31 23:10:00     202.6  \n",
       "\n",
       "[70091 rows x 14 columns]"
      ]
     },
     "execution_count": 8,
     "metadata": {},
     "output_type": "execute_result"
    }
   ],
   "source": [
    "df"
   ]
  },
  {
   "cell_type": "code",
   "execution_count": 9,
   "metadata": {},
   "outputs": [
    {
     "data": {
      "text/html": [
       "<div>\n",
       "<style scoped>\n",
       "    .dataframe tbody tr th:only-of-type {\n",
       "        vertical-align: middle;\n",
       "    }\n",
       "\n",
       "    .dataframe tbody tr th {\n",
       "        vertical-align: top;\n",
       "    }\n",
       "\n",
       "    .dataframe thead th {\n",
       "        text-align: right;\n",
       "    }\n",
       "</style>\n",
       "<table border=\"1\" class=\"dataframe\">\n",
       "  <thead>\n",
       "    <tr style=\"text-align: right;\">\n",
       "      <th></th>\n",
       "      <th>p (mbar)</th>\n",
       "      <th>T (degC)</th>\n",
       "      <th>Tpot (K)</th>\n",
       "      <th>Tdew (degC)</th>\n",
       "      <th>rh (%)</th>\n",
       "      <th>VPmax (mbar)</th>\n",
       "      <th>VPact (mbar)</th>\n",
       "      <th>VPdef (mbar)</th>\n",
       "      <th>sh (g/kg)</th>\n",
       "      <th>H2OC (mmol/mol)</th>\n",
       "      <th>rho (g/m**3)</th>\n",
       "      <th>wv (m/s)</th>\n",
       "      <th>max. wv (m/s)</th>\n",
       "      <th>wd (deg)</th>\n",
       "    </tr>\n",
       "    <tr>\n",
       "      <th>Date Time</th>\n",
       "      <th></th>\n",
       "      <th></th>\n",
       "      <th></th>\n",
       "      <th></th>\n",
       "      <th></th>\n",
       "      <th></th>\n",
       "      <th></th>\n",
       "      <th></th>\n",
       "      <th></th>\n",
       "      <th></th>\n",
       "      <th></th>\n",
       "      <th></th>\n",
       "      <th></th>\n",
       "      <th></th>\n",
       "    </tr>\n",
       "  </thead>\n",
       "  <tbody>\n",
       "    <tr>\n",
       "      <th>2009-01-01 01:00:00</th>\n",
       "      <td>996.50</td>\n",
       "      <td>-8.05</td>\n",
       "      <td>265.38</td>\n",
       "      <td>-8.78</td>\n",
       "      <td>94.4</td>\n",
       "      <td>3.33</td>\n",
       "      <td>3.14</td>\n",
       "      <td>0.19</td>\n",
       "      <td>1.96</td>\n",
       "      <td>3.15</td>\n",
       "      <td>1307.86</td>\n",
       "      <td>0.21</td>\n",
       "      <td>0.63</td>\n",
       "      <td>192.7</td>\n",
       "    </tr>\n",
       "    <tr>\n",
       "      <th>2009-01-01 02:00:00</th>\n",
       "      <td>996.62</td>\n",
       "      <td>-8.88</td>\n",
       "      <td>264.54</td>\n",
       "      <td>-9.77</td>\n",
       "      <td>93.2</td>\n",
       "      <td>3.12</td>\n",
       "      <td>2.90</td>\n",
       "      <td>0.21</td>\n",
       "      <td>1.81</td>\n",
       "      <td>2.91</td>\n",
       "      <td>1312.25</td>\n",
       "      <td>0.25</td>\n",
       "      <td>0.63</td>\n",
       "      <td>190.3</td>\n",
       "    </tr>\n",
       "    <tr>\n",
       "      <th>2009-01-01 03:00:00</th>\n",
       "      <td>996.84</td>\n",
       "      <td>-8.81</td>\n",
       "      <td>264.59</td>\n",
       "      <td>-9.66</td>\n",
       "      <td>93.5</td>\n",
       "      <td>3.13</td>\n",
       "      <td>2.93</td>\n",
       "      <td>0.20</td>\n",
       "      <td>1.83</td>\n",
       "      <td>2.94</td>\n",
       "      <td>1312.18</td>\n",
       "      <td>0.18</td>\n",
       "      <td>0.63</td>\n",
       "      <td>167.2</td>\n",
       "    </tr>\n",
       "    <tr>\n",
       "      <th>2009-01-01 04:00:00</th>\n",
       "      <td>996.99</td>\n",
       "      <td>-9.05</td>\n",
       "      <td>264.34</td>\n",
       "      <td>-10.02</td>\n",
       "      <td>92.6</td>\n",
       "      <td>3.07</td>\n",
       "      <td>2.85</td>\n",
       "      <td>0.23</td>\n",
       "      <td>1.78</td>\n",
       "      <td>2.85</td>\n",
       "      <td>1313.61</td>\n",
       "      <td>0.10</td>\n",
       "      <td>0.38</td>\n",
       "      <td>240.0</td>\n",
       "    </tr>\n",
       "    <tr>\n",
       "      <th>2009-01-01 05:00:00</th>\n",
       "      <td>997.46</td>\n",
       "      <td>-9.63</td>\n",
       "      <td>263.72</td>\n",
       "      <td>-10.65</td>\n",
       "      <td>92.2</td>\n",
       "      <td>2.94</td>\n",
       "      <td>2.71</td>\n",
       "      <td>0.23</td>\n",
       "      <td>1.69</td>\n",
       "      <td>2.71</td>\n",
       "      <td>1317.19</td>\n",
       "      <td>0.40</td>\n",
       "      <td>0.88</td>\n",
       "      <td>157.0</td>\n",
       "    </tr>\n",
       "  </tbody>\n",
       "</table>\n",
       "</div>"
      ],
      "text/plain": [
       "                     p (mbar)  T (degC)  Tpot (K)  Tdew (degC)  rh (%)  \\\n",
       "Date Time                                                                \n",
       "2009-01-01 01:00:00    996.50     -8.05    265.38        -8.78    94.4   \n",
       "2009-01-01 02:00:00    996.62     -8.88    264.54        -9.77    93.2   \n",
       "2009-01-01 03:00:00    996.84     -8.81    264.59        -9.66    93.5   \n",
       "2009-01-01 04:00:00    996.99     -9.05    264.34       -10.02    92.6   \n",
       "2009-01-01 05:00:00    997.46     -9.63    263.72       -10.65    92.2   \n",
       "\n",
       "                     VPmax (mbar)  VPact (mbar)  VPdef (mbar)  sh (g/kg)  \\\n",
       "Date Time                                                                  \n",
       "2009-01-01 01:00:00          3.33          3.14          0.19       1.96   \n",
       "2009-01-01 02:00:00          3.12          2.90          0.21       1.81   \n",
       "2009-01-01 03:00:00          3.13          2.93          0.20       1.83   \n",
       "2009-01-01 04:00:00          3.07          2.85          0.23       1.78   \n",
       "2009-01-01 05:00:00          2.94          2.71          0.23       1.69   \n",
       "\n",
       "                     H2OC (mmol/mol)  rho (g/m**3)  wv (m/s)  max. wv (m/s)  \\\n",
       "Date Time                                                                     \n",
       "2009-01-01 01:00:00             3.15       1307.86      0.21           0.63   \n",
       "2009-01-01 02:00:00             2.91       1312.25      0.25           0.63   \n",
       "2009-01-01 03:00:00             2.94       1312.18      0.18           0.63   \n",
       "2009-01-01 04:00:00             2.85       1313.61      0.10           0.38   \n",
       "2009-01-01 05:00:00             2.71       1317.19      0.40           0.88   \n",
       "\n",
       "                     wd (deg)  \n",
       "Date Time                      \n",
       "2009-01-01 01:00:00     192.7  \n",
       "2009-01-01 02:00:00     190.3  \n",
       "2009-01-01 03:00:00     167.2  \n",
       "2009-01-01 04:00:00     240.0  \n",
       "2009-01-01 05:00:00     157.0  "
      ]
     },
     "execution_count": 9,
     "metadata": {},
     "output_type": "execute_result"
    }
   ],
   "source": [
    "df.head()"
   ]
  },
  {
   "cell_type": "code",
   "execution_count": 10,
   "metadata": {},
   "outputs": [],
   "source": [
    "temp = df['T (degC)']"
   ]
  },
  {
   "cell_type": "code",
   "execution_count": 11,
   "metadata": {},
   "outputs": [
    {
     "data": {
      "text/plain": [
       "<Axes: xlabel='Date Time'>"
      ]
     },
     "execution_count": 11,
     "metadata": {},
     "output_type": "execute_result"
    },
    {
     "data": {
      "image/png": "[encoded data removed]",
      "text/plain": [
       "<Figure size 640x480 with 1 Axes>"
      ]
     },
     "metadata": {},
     "output_type": "display_data"
    }
   ],
   "source": [
    "temp.plot()"
   ]
  },
  {
   "cell_type": "code",
   "execution_count": 12,
   "metadata": {},
   "outputs": [],
   "source": [
    "def df_to_x_y(df, window_size=5):\n",
    "    df_as_numpy = df.to_numpy()\n",
    "    X = []\n",
    "    y = []\n",
    "    for i in range(len(df_as_numpy) - window_size):\n",
    "        row = [[a] for a in df_as_numpy[i:i+window_size]]\n",
    "        X.append(row)\n",
    "        label = df_as_numpy[i+window_size]\n",
    "        y.append(label)\n",
    "    return np.array(X), np.array(y)"
   ]
  },
  {
   "cell_type": "code",
   "execution_count": 13,
   "metadata": {},
   "outputs": [],
   "source": [
    "WINDOW_SIZE = 5\n",
    "X, y = df_to_x_y(temp, window_size=WINDOW_SIZE) "
   ]
  },
  {
   "cell_type": "code",
   "execution_count": 14,
   "metadata": {},
   "outputs": [
    {
     "data": {
      "text/plain": [
       "((70086, 5, 1), (70086,))"
      ]
     },
     "execution_count": 14,
     "metadata": {},
     "output_type": "execute_result"
    }
   ],
   "source": [
    "X.shape, y.shape"
   ]
  },
  {
   "cell_type": "code",
   "execution_count": 15,
   "metadata": {},
   "outputs": [],
   "source": [
    "X_train = X[:60000]\n",
    "y_train = y[:60000]\n",
    "X_val = X[60000:65000]\n",
    "y_val = y[60000:65000]\n",
    "X_test = X[65000:]\n",
    "y_test = y[65000:]"
   ]
  },
  {
   "cell_type": "code",
   "execution_count": 16,
   "metadata": {},
   "outputs": [],
   "source": [
    "X_train = torch.tensor(X_train).float()"
   ]
  },
  {
   "cell_type": "code",
   "execution_count": 17,
   "metadata": {},
   "outputs": [
    {
     "data": {
      "text/plain": [
       "torch.Tensor"
      ]
     },
     "execution_count": 17,
     "metadata": {},
     "output_type": "execute_result"
    }
   ],
   "source": [
    "type(X_train)"
   ]
  },
  {
   "cell_type": "code",
   "execution_count": 18,
   "metadata": {},
   "outputs": [
    {
     "data": {
      "text/plain": [
       "tensor([[[-8.0500],\n",
       "         [-8.8800],\n",
       "         [-8.8100],\n",
       "         [-9.0500],\n",
       "         [-9.6300]],\n",
       "\n",
       "        [[-8.8800],\n",
       "         [-8.8100],\n",
       "         [-9.0500],\n",
       "         [-9.6300],\n",
       "         [-9.6700]],\n",
       "\n",
       "        [[-8.8100],\n",
       "         [-9.0500],\n",
       "         [-9.6300],\n",
       "         [-9.6700],\n",
       "         [-9.1700]],\n",
       "\n",
       "        ...,\n",
       "\n",
       "        [[ 2.0200],\n",
       "         [ 2.2700],\n",
       "         [ 4.7100],\n",
       "         [ 6.0700],\n",
       "         [ 9.8800]],\n",
       "\n",
       "        [[ 2.2700],\n",
       "         [ 4.7100],\n",
       "         [ 6.0700],\n",
       "         [ 9.8800],\n",
       "         [13.5300]],\n",
       "\n",
       "        [[ 4.7100],\n",
       "         [ 6.0700],\n",
       "         [ 9.8800],\n",
       "         [13.5300],\n",
       "         [15.4300]]])"
      ]
     },
     "execution_count": 18,
     "metadata": {},
     "output_type": "execute_result"
    }
   ],
   "source": [
    "X_train"
   ]
  },
  {
   "cell_type": "code",
   "execution_count": 19,
   "metadata": {},
   "outputs": [],
   "source": [
    "y_train = torch.tensor(y_train).float()"
   ]
  },
  {
   "cell_type": "code",
   "execution_count": 20,
   "metadata": {},
   "outputs": [],
   "source": [
    "X_test = torch.tensor(X_test).float()\n",
    "X_val = torch.tensor(X_val).float()\n",
    "y_val = torch.tensor(y_val).float()\n",
    "y_test = torch.tensor(y_test).float()"
   ]
  },
  {
   "cell_type": "code",
   "execution_count": 21,
   "metadata": {},
   "outputs": [
    {
     "data": {
      "text/plain": [
       "(torch.Tensor,\n",
       " torch.Tensor,\n",
       " torch.Tensor,\n",
       " torch.Tensor,\n",
       " torch.Tensor,\n",
       " torch.Tensor)"
      ]
     },
     "execution_count": 21,
     "metadata": {},
     "output_type": "execute_result"
    }
   ],
   "source": [
    "type(X_train), type(X_test), type(X_val), type(y_train), type(y_test), type(y_val)"
   ]
  },
  {
   "cell_type": "code",
   "execution_count": 22,
   "metadata": {},
   "outputs": [],
   "source": [
    "train = TensorDataset(X_train, y_train)\n",
    "val = TensorDataset(X_val, y_val)\n",
    "test = TensorDataset(X_test, y_test)"
   ]
  },
  {
   "cell_type": "code",
   "execution_count": 23,
   "metadata": {},
   "outputs": [
    {
     "data": {
      "text/plain": [
       "<torch.utils.data.dataset.TensorDataset at 0x728bf057b850>"
      ]
     },
     "execution_count": 23,
     "metadata": {},
     "output_type": "execute_result"
    }
   ],
   "source": [
    "train"
   ]
  },
  {
   "cell_type": "code",
   "execution_count": 24,
   "metadata": {},
   "outputs": [],
   "source": [
    "train_dataloader = DataLoader(train, batch_size=32, shuffle=False)\n",
    "val_dataloader = DataLoader(val, batch_size=1, shuffle=False)\n",
    "test_dataloader = DataLoader(test, batch_size=1, shuffle=False)"
   ]
  },
  {
   "cell_type": "code",
   "execution_count": 25,
   "metadata": {},
   "outputs": [],
   "source": [
    "#for batch_idx, (inp, labels) in enumerate(train_data_test):\n",
    "    #print(f'for batch: {batch_idx}\\ninputs: {inp}\\nlabels: {labels}')"
   ]
  },
  {
   "cell_type": "code",
   "execution_count": 26,
   "metadata": {},
   "outputs": [
    {
     "data": {
      "text/plain": [
       "(torch.Size([60000, 5, 1]),\n",
       " torch.Size([60000]),\n",
       " torch.Size([5000, 5, 1]),\n",
       " torch.Size([5000]),\n",
       " torch.Size([5086, 5, 1]),\n",
       " torch.Size([5086]))"
      ]
     },
     "execution_count": 26,
     "metadata": {},
     "output_type": "execute_result"
    }
   ],
   "source": [
    "X_train.shape, y_train.shape, X_val.shape, y_val.shape, X_test.shape, y_test.shape"
   ]
  },
  {
   "cell_type": "code",
   "execution_count": 27,
   "metadata": {},
   "outputs": [
    {
     "name": "stdout",
     "output_type": "stream",
     "text": [
      "tensor([[-8.0500],\n",
      "        [-8.8800],\n",
      "        [-8.8100],\n",
      "        [-9.0500],\n",
      "        [-9.6300]])\n",
      "tensor(-9.6700)\n"
     ]
    }
   ],
   "source": [
    "for batch_idx, (data, target) in enumerate(train):\n",
    "    print(data)\n",
    "    print(target)\n",
    "    break"
   ]
  },
  {
   "cell_type": "code",
   "execution_count": 28,
   "metadata": {},
   "outputs": [],
   "source": [
    "class Forecast(nn.Module):\n",
    "    def __init__(self, input_size, hidden_size, num_layers, output_size):\n",
    "        super(Forecast, self).__init__()\n",
    "        self.hidden_size = hidden_size\n",
    "        self.num_layers = num_layers\n",
    "        self.lstm = nn.LSTM(input_size, self.hidden_size, self.num_layers, batch_first=True)\n",
    "        self.linear_1 = nn.Linear(hidden_size, 8)\n",
    "        self.linear_2 = nn.Linear(8, output_size)\n",
    "        self.relu= nn.ReLU()\n",
    "        \n",
    "    def forward(self, x):\n",
    "        h0 = torch.zeros(self.num_layers, x.size(0), self.hidden_size).to(device).float()\n",
    "        c0 = torch.zeros(self.num_layers, x.size(0), self.hidden_size).to(device).float()\n",
    "        \n",
    "        out, _ = self.lstm(x, (h0, c0))\n",
    "        out = out[:, -1, :]\n",
    "        out = self.relu(self.linear_1(out))\n",
    "        out = self.linear_2(out)\n",
    "        return out"
   ]
  },
  {
   "cell_type": "code",
   "execution_count": 29,
   "metadata": {},
   "outputs": [],
   "source": [
    "model = Forecast(input_size=1, hidden_size=64, num_layers=1, output_size=1).to(device)"
   ]
  },
  {
   "cell_type": "code",
   "execution_count": 30,
   "metadata": {},
   "outputs": [],
   "source": [
    "criterion = nn.MSELoss()\n",
    "optimizer = torch.optim.Adam(params=model.parameters(), lr=0.0001)"
   ]
  },
  {
   "cell_type": "code",
   "execution_count": 31,
   "metadata": {},
   "outputs": [],
   "source": [
    "N_EPOCHS = 20\n",
    "N_BATCH_SIZE = 64"
   ]
  },
  {
   "cell_type": "code",
   "execution_count": 32,
   "metadata": {},
   "outputs": [
    {
     "data": {
      "application/vnd.jupyter.widget-view+json": {
       "model_id": "076f533607a7415fa5e94cca0b0839ae",
       "version_major": 2,
       "version_minor": 0
      },
      "text/plain": [
       "Epoch 1:   0%|          | 0/1875 [00:00<?, ?batch/s]"
      ]
     },
     "metadata": {},
     "output_type": "display_data"
    },
    {
     "name": "stdout",
     "output_type": "stream",
     "text": [
      "Epoch: 0, Step: 0, Loss: 0.018418575032552082\n"
     ]
    },
    {
     "data": {
      "application/vnd.jupyter.widget-view+json": {
       "model_id": "0621eae9055d4dbdaee773d3c281d7da",
       "version_major": 2,
       "version_minor": 0
      },
      "text/plain": [
       "Epoch 2:   0%|          | 0/1875 [00:00<?, ?batch/s]"
      ]
     },
     "metadata": {},
     "output_type": "display_data"
    },
    {
     "name": "stdout",
     "output_type": "stream",
     "text": [
      "Epoch: 1, Step: 0, Loss: 54.94246842804452\n"
     ]
    },
    {
     "data": {
      "application/vnd.jupyter.widget-view+json": {
       "model_id": "19b083684d244707950b6728f0fe15a4",
       "version_major": 2,
       "version_minor": 0
      },
      "text/plain": [
       "Epoch 3:   0%|          | 0/1875 [00:00<?, ?batch/s]"
      ]
     },
     "metadata": {},
     "output_type": "display_data"
    },
    {
     "name": "stdout",
     "output_type": "stream",
     "text": [
      "Epoch: 2, Step: 0, Loss: 8.665717329460383\n"
     ]
    },
    {
     "data": {
      "application/vnd.jupyter.widget-view+json": {
       "model_id": "5bf9e3a0c6994d338f87e6fd9540565d",
       "version_major": 2,
       "version_minor": 0
      },
      "text/plain": [
       "Epoch 4:   0%|          | 0/1875 [00:00<?, ?batch/s]"
      ]
     },
     "metadata": {},
     "output_type": "display_data"
    },
    {
     "name": "stdout",
     "output_type": "stream",
     "text": [
      "Epoch: 3, Step: 0, Loss: 5.005281706141929\n"
     ]
    },
    {
     "data": {
      "application/vnd.jupyter.widget-view+json": {
       "model_id": "01d76010f00e41b386d2feac982a37ca",
       "version_major": 2,
       "version_minor": 0
      },
      "text/plain": [
       "Epoch 5:   0%|          | 0/1875 [00:00<?, ?batch/s]"
      ]
     },
     "metadata": {},
     "output_type": "display_data"
    },
    {
     "name": "stdout",
     "output_type": "stream",
     "text": [
      "Epoch: 4, Step: 0, Loss: 3.0464932095617057\n"
     ]
    },
    {
     "data": {
      "application/vnd.jupyter.widget-view+json": {
       "model_id": "ea01e54ae33242b783ff2bcfce2b86b8",
       "version_major": 2,
       "version_minor": 0
      },
      "text/plain": [
       "Epoch 6:   0%|          | 0/1875 [00:00<?, ?batch/s]"
      ]
     },
     "metadata": {},
     "output_type": "display_data"
    },
    {
     "name": "stdout",
     "output_type": "stream",
     "text": [
      "Epoch: 5, Step: 0, Loss: 1.517550676819682\n"
     ]
    },
    {
     "data": {
      "application/vnd.jupyter.widget-view+json": {
       "model_id": "bce55814df3e4a558734f7cd76f2961f",
       "version_major": 2,
       "version_minor": 0
      },
      "text/plain": [
       "Epoch 7:   0%|          | 0/1875 [00:00<?, ?batch/s]"
      ]
     },
     "metadata": {},
     "output_type": "display_data"
    },
    {
     "name": "stdout",
     "output_type": "stream",
     "text": [
      "Epoch: 6, Step: 0, Loss: 0.9918740940839053\n"
     ]
    },
    {
     "data": {
      "application/vnd.jupyter.widget-view+json": {
       "model_id": "743e425c34d840a9b1cc76b988c07955",
       "version_major": 2,
       "version_minor": 0
      },
      "text/plain": [
       "Epoch 8:   0%|          | 0/1875 [00:00<?, ?batch/s]"
      ]
     },
     "metadata": {},
     "output_type": "display_data"
    },
    {
     "name": "stdout",
     "output_type": "stream",
     "text": [
      "Epoch: 7, Step: 0, Loss: 0.8151633216996987\n"
     ]
    },
    {
     "data": {
      "application/vnd.jupyter.widget-view+json": {
       "model_id": "adbecfa3959a40ae98c1d552ab287e28",
       "version_major": 2,
       "version_minor": 0
      },
      "text/plain": [
       "Epoch 9:   0%|          | 0/1875 [00:00<?, ?batch/s]"
      ]
     },
     "metadata": {},
     "output_type": "display_data"
    },
    {
     "name": "stdout",
     "output_type": "stream",
     "text": [
      "Epoch: 8, Step: 0, Loss: 0.7402710090979934\n"
     ]
    },
    {
     "data": {
      "application/vnd.jupyter.widget-view+json": {
       "model_id": "6b8339218d2643d499fd96e641ca6e87",
       "version_major": 2,
       "version_minor": 0
      },
      "text/plain": [
       "Epoch 10:   0%|          | 0/1875 [00:00<?, ?batch/s]"
      ]
     },
     "metadata": {},
     "output_type": "display_data"
    },
    {
     "name": "stdout",
     "output_type": "stream",
     "text": [
      "Epoch: 9, Step: 0, Loss: 0.7032978775853912\n"
     ]
    },
    {
     "data": {
      "application/vnd.jupyter.widget-view+json": {
       "model_id": "9b4f2ec03f6b417ea23f945c1f392ddf",
       "version_major": 2,
       "version_minor": 0
      },
      "text/plain": [
       "Epoch 11:   0%|          | 0/1875 [00:00<?, ?batch/s]"
      ]
     },
     "metadata": {},
     "output_type": "display_data"
    },
    {
     "name": "stdout",
     "output_type": "stream",
     "text": [
      "Epoch: 10, Step: 0, Loss: 0.6820513562437147\n"
     ]
    },
    {
     "data": {
      "application/vnd.jupyter.widget-view+json": {
       "model_id": "decba607417e49a2b93614d0ee6fd486",
       "version_major": 2,
       "version_minor": 0
      },
      "text/plain": [
       "Epoch 12:   0%|          | 0/1875 [00:00<?, ?batch/s]"
      ]
     },
     "metadata": {},
     "output_type": "display_data"
    },
    {
     "name": "stdout",
     "output_type": "stream",
     "text": [
      "Epoch: 11, Step: 0, Loss: 0.6685582199191054\n"
     ]
    },
    {
     "data": {
      "application/vnd.jupyter.widget-view+json": {
       "model_id": "e13b7487d41c43089e54a71dbffbc5cc",
       "version_major": 2,
       "version_minor": 0
      },
      "text/plain": [
       "Epoch 13:   0%|          | 0/1875 [00:00<?, ?batch/s]"
      ]
     },
     "metadata": {},
     "output_type": "display_data"
    },
    {
     "name": "stdout",
     "output_type": "stream",
     "text": [
      "Epoch: 12, Step: 0, Loss: 0.6596021083588401\n"
     ]
    },
    {
     "data": {
      "application/vnd.jupyter.widget-view+json": {
       "model_id": "21b74467c5ef4d888e4047640c25783f",
       "version_major": 2,
       "version_minor": 0
      },
      "text/plain": [
       "Epoch 14:   0%|          | 0/1875 [00:00<?, ?batch/s]"
      ]
     },
     "metadata": {},
     "output_type": "display_data"
    },
    {
     "name": "stdout",
     "output_type": "stream",
     "text": [
      "Epoch: 13, Step: 0, Loss: 0.6534462637913724\n"
     ]
    },
    {
     "data": {
      "application/vnd.jupyter.widget-view+json": {
       "model_id": "97be88bdd7e24e22b0b1829ae6b15db9",
       "version_major": 2,
       "version_minor": 0
      },
      "text/plain": [
       "Epoch 15:   0%|          | 0/1875 [00:00<?, ?batch/s]"
      ]
     },
     "metadata": {},
     "output_type": "display_data"
    },
    {
     "name": "stdout",
     "output_type": "stream",
     "text": [
      "Epoch: 14, Step: 0, Loss: 0.6488651972795526\n"
     ]
    },
    {
     "data": {
      "application/vnd.jupyter.widget-view+json": {
       "model_id": "aedc08ff2da54b8ebce7ee0067deb272",
       "version_major": 2,
       "version_minor": 0
      },
      "text/plain": [
       "Epoch 16:   0%|          | 0/1875 [00:00<?, ?batch/s]"
      ]
     },
     "metadata": {},
     "output_type": "display_data"
    },
    {
     "name": "stdout",
     "output_type": "stream",
     "text": [
      "Epoch: 15, Step: 0, Loss: 0.6452846381341417\n"
     ]
    },
    {
     "data": {
      "application/vnd.jupyter.widget-view+json": {
       "model_id": "278ee688a87346fd9d0d1ba9db674bf6",
       "version_major": 2,
       "version_minor": 0
      },
      "text/plain": [
       "Epoch 17:   0%|          | 0/1875 [00:00<?, ?batch/s]"
      ]
     },
     "metadata": {},
     "output_type": "display_data"
    },
    {
     "name": "stdout",
     "output_type": "stream",
     "text": [
      "Epoch: 16, Step: 0, Loss: 0.6424692808409532\n"
     ]
    },
    {
     "data": {
      "application/vnd.jupyter.widget-view+json": {
       "model_id": "14ba4edd99994ac0b2a7aab7b5267f53",
       "version_major": 2,
       "version_minor": 0
      },
      "text/plain": [
       "Epoch 18:   0%|          | 0/1875 [00:00<?, ?batch/s]"
      ]
     },
     "metadata": {},
     "output_type": "display_data"
    },
    {
     "name": "stdout",
     "output_type": "stream",
     "text": [
      "Epoch: 17, Step: 0, Loss: 0.6400891838500897\n"
     ]
    },
    {
     "data": {
      "application/vnd.jupyter.widget-view+json": {
       "model_id": "3c5cfe3aa49d43dc8205b206a86ab261",
       "version_major": 2,
       "version_minor": 0
      },
      "text/plain": [
       "Epoch 19:   0%|          | 0/1875 [00:00<?, ?batch/s]"
      ]
     },
     "metadata": {},
     "output_type": "display_data"
    },
    {
     "name": "stdout",
     "output_type": "stream",
     "text": [
      "Epoch: 18, Step: 0, Loss: 0.63821970551759\n"
     ]
    },
    {
     "data": {
      "application/vnd.jupyter.widget-view+json": {
       "model_id": "23bdae7d9f704b648df7c7af09dc72ea",
       "version_major": 2,
       "version_minor": 0
      },
      "text/plain": [
       "Epoch 20:   0%|          | 0/1875 [00:00<?, ?batch/s]"
      ]
     },
     "metadata": {},
     "output_type": "display_data"
    },
    {
     "name": "stdout",
     "output_type": "stream",
     "text": [
      "Epoch: 19, Step: 0, Loss: 0.6365033925587932\n",
      "Loss: 2.6123978547446236\n"
     ]
    }
   ],
   "source": [
    "#training loop\n",
    "model.train()\n",
    "running_loss = 0\n",
    "total_loss = 0\n",
    "\n",
    "for epoch in range(N_EPOCHS):\n",
    "    for batch_idx, (data, target) in enumerate(tqdm(train_dataloader, desc=f'Epoch {epoch+1}', unit='batch')):\n",
    "        data = data.to(device)\n",
    "        target = target.to(device)\n",
    "\n",
    "        optimizer.zero_grad()\n",
    "        \n",
    "        outputs = model(data)\n",
    "        loss = criterion(outputs.view(-1), target)\n",
    "        \n",
    "        loss.backward()\n",
    "\n",
    "        optimizer.step()\n",
    "\n",
    "        running_loss += loss.item()\n",
    "        total_loss += loss.item()\n",
    "\n",
    "        if batch_idx == 0:\n",
    "            print(f'Epoch: {epoch}, Step: {batch_idx}, Loss: {running_loss/len(train_dataloader)}')\n",
    "            running_loss = 0\n",
    "    \n",
    "print('Loss:', total_loss/len(train_dataloader.dataset))"
   ]
  },
  {
   "cell_type": "code",
   "execution_count": 33,
   "metadata": {},
   "outputs": [
    {
     "data": {
      "text/plain": [
       "1875"
      ]
     },
     "execution_count": 33,
     "metadata": {},
     "output_type": "execute_result"
    }
   ],
   "source": [
    "len(train_dataloader)"
   ]
  },
  {
   "cell_type": "code",
   "execution_count": 34,
   "metadata": {},
   "outputs": [
    {
     "data": {
      "text/plain": [
       "2.6123978547446236"
      ]
     },
     "execution_count": 34,
     "metadata": {},
     "output_type": "execute_result"
    }
   ],
   "source": [
    "total_loss/len(train_dataloader.dataset)"
   ]
  },
  {
   "cell_type": "code",
   "execution_count": 35,
   "metadata": {},
   "outputs": [
    {
     "data": {
      "application/vnd.jupyter.widget-view+json": {
       "model_id": "30270371d264470ea08d34c83ecbd98c",
       "version_major": 2,
       "version_minor": 0
      },
      "text/plain": [
       "  0%|          | 0/5000 [00:00<?, ?batch/s]"
      ]
     },
     "metadata": {},
     "output_type": "display_data"
    },
    {
     "name": "stdout",
     "output_type": "stream",
     "text": [
      "Step: 0, Loss: 0.00040655031204223633\n",
      "Val Loss: 0.5258670039380705\n"
     ]
    }
   ],
   "source": [
    "#validation loop\n",
    "model.eval()\n",
    "val_loss = 0\n",
    "running_val_loss = 0\n",
    "with torch.no_grad():\n",
    "    for batch_idx, (data, target) in enumerate(tqdm(val_dataloader, unit='batch')):\n",
    "        data = data.to(device)\n",
    "        target = target.to(device)\n",
    "        \n",
    "        outputs = model(data)\n",
    "        loss = criterion(outputs.view(-1), target)\n",
    "        \n",
    "        val_loss += loss.item()\n",
    "        running_val_loss += loss.item()\n",
    "\n",
    "        if batch_idx == 0:\n",
    "            print(f'Step: {batch_idx}, Loss: {running_val_loss/len(val_dataloader)}')\n",
    "            running_val_loss = 0\n",
    "\n",
    "print('Val Loss:', val_loss/len(val_dataloader.dataset))"
   ]
  },
  {
   "cell_type": "code",
   "execution_count": 36,
   "metadata": {},
   "outputs": [
    {
     "data": {
      "application/vnd.jupyter.widget-view+json": {
       "model_id": "ba06d5765e6f47fca3254dd27288adde",
       "version_major": 2,
       "version_minor": 0
      },
      "text/plain": [
       "  0%|          | 0/5086 [00:00<?, ?batch/s]"
      ]
     },
     "metadata": {},
     "output_type": "display_data"
    }
   ],
   "source": [
    "#test loop\n",
    "model.eval()\n",
    "pred = []\n",
    "real = []\n",
    "with torch.no_grad():\n",
    "    for batch_idx, (data, target) in enumerate(tqdm(test_dataloader, unit='batch')):\n",
    "        data = data.to(device)\n",
    "        target = target.to(device)\n",
    "        \n",
    "        outputs = model(data)\n",
    "        pred.append(outputs.item())\n",
    "        real.append(target.item())"
   ]
  },
  {
   "cell_type": "code",
   "execution_count": 37,
   "metadata": {},
   "outputs": [
    {
     "data": {
      "text/plain": [
       "5086"
      ]
     },
     "execution_count": 37,
     "metadata": {},
     "output_type": "execute_result"
    }
   ],
   "source": [
    "len(pred)"
   ]
  },
  {
   "cell_type": "code",
   "execution_count": 38,
   "metadata": {},
   "outputs": [
    {
     "data": {
      "text/plain": [
       "[13.989999771118164,\n",
       " 13.460000038146973,\n",
       " 12.930000305175781,\n",
       " 12.430000305175781,\n",
       " 12.170000076293945,\n",
       " 11.550000190734863,\n",
       " 11.59000015258789,\n",
       " 14.220000267028809,\n",
       " 17.8700008392334,\n",
       " 19.1200008392334,\n",
       " 20.75,\n",
       " 21.56999969482422,\n",
       " 21.43000030517578,\n",
       " 22.329999923706055,\n",
       " 24.030000686645508,\n",
       " 22.889999389648438,\n",
       " 22.200000762939453,\n",
       " 21.760000228881836,\n",
       " 20.549999237060547,\n",
       " 19.309999465942383,\n",
       " 18.43000030517578,\n",
       " 18.06999969482422,\n",
       " 17.040000915527344,\n",
       " 16.8700008392334,\n",
       " 16.420000076293945,\n",
       " 16.18000030517578,\n",
       " 16.139999389648438,\n",
       " 16.110000610351562,\n",
       " 16.1299991607666,\n",
       " 15.970000267028809,\n",
       " 16.290000915527344,\n",
       " 16.8700008392334,\n",
       " 17.639999389648438,\n",
       " 18.729999542236328,\n",
       " 18.850000381469727,\n",
       " 18.68000030517578,\n",
       " 19.450000762939453,\n",
       " 20.15999984741211,\n",
       " 19.469999313354492,\n",
       " 17.5,\n",
       " 17.139999389648438,\n",
       " 17.8799991607666,\n",
       " 17.719999313354492,\n",
       " 17.459999084472656,\n",
       " 17.5,\n",
       " 16.979999542236328,\n",
       " 15.699999809265137,\n",
       " 14.979999542236328,\n",
       " 14.09000015258789,\n",
       " 13.359999656677246,\n",
       " 12.90999984741211,\n",
       " 12.229999542236328,\n",
       " 12.270000457763672,\n",
       " 12.489999771118164,\n",
       " 13.220000267028809,\n",
       " 13.970000267028809,\n",
       " 14.699999809265137,\n",
       " 15.109999656677246,\n",
       " 15.25,\n",
       " 15.729999542236328,\n",
       " 15.850000381469727,\n",
       " 16.270000457763672,\n",
       " 17.260000228881836,\n",
       " 18.969999313354492,\n",
       " 20.389999389648438,\n",
       " 20.440000534057617,\n",
       " 19.270000457763672,\n",
       " 19.420000076293945,\n",
       " 18.1200008392334,\n",
       " 16.950000762939453,\n",
       " 16.549999237060547,\n",
       " 15.800000190734863,\n",
       " 15.069999694824219,\n",
       " 14.5,\n",
       " 14.3100004196167,\n",
       " 13.869999885559082,\n",
       " 13.800000190734863,\n",
       " 13.729999542236328,\n",
       " 13.880000114440918,\n",
       " 14.720000267028809,\n",
       " 15.420000076293945,\n",
       " 15.630000114440918,\n",
       " 17.09000015258789,\n",
       " 18.530000686645508,\n",
       " 18.600000381469727,\n",
       " 20.600000381469727,\n",
       " 19.40999984741211,\n",
       " 18.18000030517578,\n",
       " 17.670000076293945,\n",
       " 19.479999542236328,\n",
       " 17.049999237060547,\n",
       " 17.489999771118164,\n",
       " 17.200000762939453,\n",
       " 17.200000762939453,\n",
       " 16.780000686645508,\n",
       " 16.1299991607666,\n",
       " 15.930000305175781,\n",
       " 15.520000457763672,\n",
       " 15.270000457763672,\n",
       " 15.069999694824219,\n",
       " 14.880000114440918,\n",
       " 14.979999542236328,\n",
       " 15.489999771118164,\n",
       " 16.790000915527344,\n",
       " 18.190000534057617,\n",
       " 19.170000076293945,\n",
       " 19.959999084472656,\n",
       " 21.1299991607666,\n",
       " 20.739999771118164,\n",
       " 21.239999771118164,\n",
       " 22.030000686645508,\n",
       " 20.950000762939453,\n",
       " 19.760000228881836,\n",
       " 22.350000381469727,\n",
       " 20.510000228881836,\n",
       " 19.280000686645508,\n",
       " 19.06999969482422,\n",
       " 18.239999771118164,\n",
       " 17.649999618530273,\n",
       " 17.18000030517578,\n",
       " 16.309999465942383,\n",
       " 15.550000190734863,\n",
       " 14.920000076293945,\n",
       " 14.039999961853027,\n",
       " 14.1899995803833,\n",
       " 13.850000381469727,\n",
       " 13.960000038146973,\n",
       " 14.260000228881836,\n",
       " 15.75,\n",
       " 18.450000762939453,\n",
       " 21.469999313354492,\n",
       " 22.639999389648438,\n",
       " 24.149999618530273,\n",
       " 24.43000030517578,\n",
       " 25.34000015258789,\n",
       " 25.459999084472656,\n",
       " 26.06999969482422,\n",
       " 25.579999923706055,\n",
       " 24.770000457763672,\n",
       " 23.270000457763672,\n",
       " 22.1200008392334,\n",
       " 19.770000457763672,\n",
       " 18.299999237060547,\n",
       " 16.989999771118164,\n",
       " 16.190000534057617,\n",
       " 15.550000190734863,\n",
       " 14.720000267028809,\n",
       " 13.869999885559082,\n",
       " 13.270000457763672,\n",
       " 13.0,\n",
       " 13.270000457763672,\n",
       " 13.979999542236328,\n",
       " 18.049999237060547,\n",
       " 20.510000228881836,\n",
       " 22.34000015258789,\n",
       " 23.1299991607666,\n",
       " 23.920000076293945,\n",
       " 24.43000030517578,\n",
       " 24.489999771118164,\n",
       " 24.6299991607666,\n",
       " 24.649999618530273,\n",
       " 24.6200008392334,\n",
       " 23.530000686645508,\n",
       " 23.020000457763672,\n",
       " 21.6299991607666,\n",
       " 19.90999984741211,\n",
       " 18.25,\n",
       " 16.469999313354492,\n",
       " 15.09000015258789,\n",
       " 13.75,\n",
       " 13.130000114440918,\n",
       " 12.220000267028809,\n",
       " 11.270000457763672,\n",
       " 12.210000038146973,\n",
       " 14.220000267028809,\n",
       " 15.84000015258789,\n",
       " 18.75,\n",
       " 21.0,\n",
       " 22.469999313354492,\n",
       " 23.40999984741211,\n",
       " 23.610000610351562,\n",
       " 24.06999969482422,\n",
       " 24.459999084472656,\n",
       " 24.809999465942383,\n",
       " 24.989999771118164,\n",
       " 24.739999771118164,\n",
       " 24.56999969482422,\n",
       " 23.1200008392334,\n",
       " 21.90999984741211,\n",
       " 19.670000076293945,\n",
       " 17.670000076293945,\n",
       " 16.43000030517578,\n",
       " 15.180000305175781,\n",
       " 13.949999809265137,\n",
       " 13.100000381469727,\n",
       " 12.329999923706055,\n",
       " 11.170000076293945,\n",
       " 12.220000267028809,\n",
       " 12.15999984741211,\n",
       " 15.630000114440918,\n",
       " 18.610000610351562,\n",
       " 19.989999771118164,\n",
       " 21.079999923706055,\n",
       " 22.190000534057617,\n",
       " 22.850000381469727,\n",
       " 23.739999771118164,\n",
       " 24.049999237060547,\n",
       " 24.719999313354492,\n",
       " 24.809999465942383,\n",
       " 23.1200008392334,\n",
       " 22.34000015258789,\n",
       " 22.020000457763672,\n",
       " 20.149999618530273,\n",
       " 18.299999237060547,\n",
       " 16.350000381469727,\n",
       " 14.869999885559082,\n",
       " 13.869999885559082,\n",
       " 13.779999732971191,\n",
       " 13.979999542236328,\n",
       " 13.140000343322754,\n",
       " 12.59000015258789,\n",
       " 12.15999984741211,\n",
       " 12.350000381469727,\n",
       " 14.390000343322754,\n",
       " 13.819999694824219,\n",
       " 14.670000076293945,\n",
       " 14.770000457763672,\n",
       " 16.030000686645508,\n",
       " 16.6200008392334,\n",
       " 16.579999923706055,\n",
       " 17.139999389648438,\n",
       " 17.520000457763672,\n",
       " 17.559999465942383,\n",
       " 17.81999969482422,\n",
       " 18.959999084472656,\n",
       " 18.440000534057617,\n",
       " 16.579999923706055,\n",
       " 15.819999694824219,\n",
       " 15.109999656677246,\n",
       " 14.09000015258789,\n",
       " 13.609999656677246,\n",
       " 11.899999618530273,\n",
       " 10.90999984741211,\n",
       " 10.350000381469727,\n",
       " 9.5600004196167,\n",
       " 9.59000015258789,\n",
       " 10.65999984741211,\n",
       " 13.199999809265137,\n",
       " 15.1899995803833,\n",
       " 16.459999084472656,\n",
       " 17.530000686645508,\n",
       " 18.299999237060547,\n",
       " 19.15999984741211,\n",
       " 19.729999542236328,\n",
       " 19.899999618530273,\n",
       " 21.479999542236328,\n",
       " 21.520000457763672,\n",
       " 21.610000610351562,\n",
       " 21.770000457763672,\n",
       " 20.719999313354492,\n",
       " 18.520000457763672,\n",
       " 17.600000381469727,\n",
       " 16.860000610351562,\n",
       " 15.399999618530273,\n",
       " 13.960000038146973,\n",
       " 12.9399995803833,\n",
       " 12.5600004196167,\n",
       " 11.989999771118164,\n",
       " 11.789999961853027,\n",
       " 11.649999618530273,\n",
       " 11.75,\n",
       " 13.279999732971191,\n",
       " 13.970000267028809,\n",
       " 14.430000305175781,\n",
       " 15.899999618530273,\n",
       " 17.540000915527344,\n",
       " 17.770000457763672,\n",
       " 18.010000228881836,\n",
       " 19.440000534057617,\n",
       " 20.299999237060547,\n",
       " 19.780000686645508,\n",
       " 19.920000076293945,\n",
       " 19.260000228881836,\n",
       " 19.010000228881836,\n",
       " 18.31999969482422,\n",
       " 17.6200008392334,\n",
       " 17.1200008392334,\n",
       " 16.34000015258789,\n",
       " 15.529999732971191,\n",
       " 15.069999694824219,\n",
       " 14.539999961853027,\n",
       " 14.229999542236328,\n",
       " 13.1899995803833,\n",
       " 13.529999732971191,\n",
       " 13.789999961853027,\n",
       " 15.970000267028809,\n",
       " 16.65999984741211,\n",
       " 18.040000915527344,\n",
       " 17.059999465942383,\n",
       " 18.15999984741211,\n",
       " 19.860000610351562,\n",
       " 20.350000381469727,\n",
       " 18.059999465942383,\n",
       " 17.8700008392334,\n",
       " 17.450000762939453,\n",
       " 16.530000686645508,\n",
       " 16.5,\n",
       " 16.15999984741211,\n",
       " 14.489999771118164,\n",
       " 14.520000457763672,\n",
       " 14.359999656677246,\n",
       " 14.109999656677246,\n",
       " 13.930000305175781,\n",
       " 13.880000114440918,\n",
       " 13.930000305175781,\n",
       " 13.65999984741211,\n",
       " 13.5,\n",
       " 13.539999961853027,\n",
       " 13.9399995803833,\n",
       " 15.710000038146973,\n",
       " 15.789999961853027,\n",
       " 17.06999969482422,\n",
       " 17.899999618530273,\n",
       " 18.270000457763672,\n",
       " 19.5,\n",
       " 19.139999389648438,\n",
       " 17.93000030517578,\n",
       " 19.479999542236328,\n",
       " 18.559999465942383,\n",
       " 18.09000015258789,\n",
       " 18.309999465942383,\n",
       " 18.489999771118164,\n",
       " 16.309999465942383,\n",
       " 13.569999694824219,\n",
       " 13.430000305175781,\n",
       " 12.850000381469727,\n",
       " 12.739999771118164,\n",
       " 12.550000190734863,\n",
       " 12.229999542236328,\n",
       " 11.949999809265137,\n",
       " 11.630000114440918,\n",
       " 11.710000038146973,\n",
       " 11.989999771118164,\n",
       " 13.069999694824219,\n",
       " 14.960000038146973,\n",
       " 16.309999465942383,\n",
       " 16.65999984741211,\n",
       " 18.649999618530273,\n",
       " 19.799999237060547,\n",
       " 20.639999389648438,\n",
       " 20.229999542236328,\n",
       " 19.670000076293945,\n",
       " 19.920000076293945,\n",
       " 18.780000686645508,\n",
       " 17.719999313354492,\n",
       " 17.889999389648438,\n",
       " 17.700000762939453,\n",
       " 16.799999237060547,\n",
       " 15.59000015258789,\n",
       " 14.90999984741211,\n",
       " 14.319999694824219,\n",
       " 13.770000457763672,\n",
       " 13.470000267028809,\n",
       " 13.329999923706055,\n",
       " 12.970000267028809,\n",
       " 13.119999885559082,\n",
       " 13.800000190734863,\n",
       " 13.779999732971191,\n",
       " 14.859999656677246,\n",
       " 15.619999885559082,\n",
       " 16.90999984741211,\n",
       " 18.489999771118164,\n",
       " 19.610000610351562,\n",
       " 19.81999969482422,\n",
       " 18.809999465942383,\n",
       " 16.729999542236328,\n",
       " 17.450000762939453,\n",
       " 16.690000534057617,\n",
       " 18.18000030517578,\n",
       " 17.520000457763672,\n",
       " 15.920000076293945,\n",
       " 14.760000228881836,\n",
       " 14.279999732971191,\n",
       " 13.279999732971191,\n",
       " 11.8100004196167,\n",
       " 11.229999542236328,\n",
       " 10.869999885559082,\n",
       " 10.520000457763672,\n",
       " 9.5600004196167,\n",
       " 9.600000381469727,\n",
       " 10.050000190734863,\n",
       " 12.65999984741211,\n",
       " 14.859999656677246,\n",
       " 16.950000762939453,\n",
       " 18.829999923706055,\n",
       " 18.0,\n",
       " 17.90999984741211,\n",
       " 18.190000534057617,\n",
       " 18.3700008392334,\n",
       " 17.84000015258789,\n",
       " 16.68000030517578,\n",
       " 17.25,\n",
       " 17.290000915527344,\n",
       " 16.860000610351562,\n",
       " 16.6200008392334,\n",
       " 15.930000305175781,\n",
       " 15.579999923706055,\n",
       " 15.279999732971191,\n",
       " 14.65999984741211,\n",
       " 14.289999961853027,\n",
       " 14.0,\n",
       " 13.779999732971191,\n",
       " 13.399999618530273,\n",
       " 13.109999656677246,\n",
       " 13.100000381469727,\n",
       " 13.220000267028809,\n",
       " 13.869999885559082,\n",
       " 14.5600004196167,\n",
       " 15.729999542236328,\n",
       " 16.399999618530273,\n",
       " 17.170000076293945,\n",
       " 17.790000915527344,\n",
       " 17.969999313354492,\n",
       " 18.540000915527344,\n",
       " 18.670000076293945,\n",
       " 18.3799991607666,\n",
       " 16.489999771118164,\n",
       " 16.15999984741211,\n",
       " 14.989999771118164,\n",
       " 14.380000114440918,\n",
       " 13.5600004196167,\n",
       " 12.84000015258789,\n",
       " 12.109999656677246,\n",
       " 12.229999542236328,\n",
       " 11.640000343322754,\n",
       " 11.149999618530273,\n",
       " 12.550000190734863,\n",
       " 12.0600004196167,\n",
       " 13.59000015258789,\n",
       " 15.479999542236328,\n",
       " 17.260000228881836,\n",
       " 18.489999771118164,\n",
       " 19.139999389648438,\n",
       " 19.309999465942383,\n",
       " 18.649999618530273,\n",
       " 17.489999771118164,\n",
       " 16.860000610351562,\n",
       " 18.18000030517578,\n",
       " 19.239999771118164,\n",
       " 15.199999809265137,\n",
       " 17.829999923706055,\n",
       " 17.780000686645508,\n",
       " 16.079999923706055,\n",
       " 16.0,\n",
       " 14.460000038146973,\n",
       " 13.609999656677246,\n",
       " 12.90999984741211,\n",
       " 11.8100004196167,\n",
       " 11.399999618530273,\n",
       " 11.279999732971191,\n",
       " 10.899999618530273,\n",
       " 10.890000343322754,\n",
       " 12.760000228881836,\n",
       " 13.59000015258789,\n",
       " 15.739999771118164,\n",
       " 16.40999984741211,\n",
       " 16.770000457763672,\n",
       " 17.75,\n",
       " 17.549999237060547,\n",
       " 17.280000686645508,\n",
       " 15.279999732971191,\n",
       " 17.59000015258789,\n",
       " 17.8700008392334,\n",
       " 18.0,\n",
       " 17.540000915527344,\n",
       " 17.530000686645508,\n",
       " 15.449999809265137,\n",
       " 15.050000190734863,\n",
       " 14.229999542236328,\n",
       " 14.5,\n",
       " 14.079999923706055,\n",
       " 13.289999961853027,\n",
       " 13.100000381469727,\n",
       " 11.979999542236328,\n",
       " 11.09000015258789,\n",
       " 11.239999771118164,\n",
       " 11.979999542236328,\n",
       " 13.239999771118164,\n",
       " 16.489999771118164,\n",
       " 17.079999923706055,\n",
       " 17.600000381469727,\n",
       " 17.8799991607666,\n",
       " 19.8799991607666,\n",
       " 20.5,\n",
       " 21.030000686645508,\n",
       " 21.790000915527344,\n",
       " 21.31999969482422,\n",
       " 22.25,\n",
       " 20.510000228881836,\n",
       " 20.100000381469727,\n",
       " 19.020000457763672,\n",
       " 18.3700008392334,\n",
       " 18.0,\n",
       " 17.469999313354492,\n",
       " 16.260000228881836,\n",
       " 14.6899995803833,\n",
       " 14.119999885559082,\n",
       " 14.5,\n",
       " 14.40999984741211,\n",
       " 14.479999542236328,\n",
       " 14.979999542236328,\n",
       " 15.920000076293945,\n",
       " 16.850000381469727,\n",
       " 18.299999237060547,\n",
       " 19.049999237060547,\n",
       " 20.399999618530273,\n",
       " 20.56999969482422,\n",
       " 21.510000228881836,\n",
       " 22.489999771118164,\n",
       " 22.940000534057617,\n",
       " 22.690000534057617,\n",
       " 22.1200008392334,\n",
       " 21.799999237060547,\n",
       " 21.559999465942383,\n",
       " 20.81999969482422,\n",
       " 19.329999923706055,\n",
       " 18.799999237060547,\n",
       " 17.90999984741211,\n",
       " 17.34000015258789,\n",
       " 16.860000610351562,\n",
       " 16.670000076293945,\n",
       " 16.31999969482422,\n",
       " 16.09000015258789,\n",
       " 16.079999923706055,\n",
       " 16.420000076293945,\n",
       " 17.260000228881836,\n",
       " 19.8799991607666,\n",
       " 21.440000534057617,\n",
       " 22.469999313354492,\n",
       " 22.610000610351562,\n",
       " 23.010000228881836,\n",
       " 23.049999237060547,\n",
       " 24.079999923706055,\n",
       " 25.65999984741211,\n",
       " 26.799999237060547,\n",
       " 25.969999313354492,\n",
       " 26.290000915527344,\n",
       " 25.649999618530273,\n",
       " 24.18000030517578,\n",
       " 23.030000686645508,\n",
       " 21.290000915527344,\n",
       " 19.780000686645508,\n",
       " 18.93000030517578,\n",
       " 18.15999984741211,\n",
       " 17.260000228881836,\n",
       " 15.859999656677246,\n",
       " 15.770000457763672,\n",
       " 17.18000030517578,\n",
       " 19.219999313354492,\n",
       " 21.709999084472656,\n",
       " 23.559999465942383,\n",
       " 25.59000015258789,\n",
       " 27.489999771118164,\n",
       " 28.860000610351562,\n",
       " 29.56999969482422,\n",
       " 30.309999465942383,\n",
       " 31.440000534057617,\n",
       " 32.09000015258789,\n",
       " 32.790000915527344,\n",
       " 33.31999969482422,\n",
       " 33.04999923706055,\n",
       " 31.940000534057617,\n",
       " 29.700000762939453,\n",
       " 28.059999465942383,\n",
       " 26.530000686645508,\n",
       " 25.389999389648438,\n",
       " 25.31999969482422,\n",
       " 22.360000610351562,\n",
       " 21.200000762939453,\n",
       " 19.860000610351562,\n",
       " 21.399999618530273,\n",
       " 21.100000381469727,\n",
       " 20.600000381469727,\n",
       " 23.989999771118164,\n",
       " 25.8700008392334,\n",
       " 27.0,\n",
       " 28.969999313354492,\n",
       " 31.299999237060547,\n",
       " 31.389999389648438,\n",
       " 32.25,\n",
       " 32.81999969482422,\n",
       " 33.349998474121094,\n",
       " 34.34000015258789,\n",
       " 33.88999938964844,\n",
       " 25.809999465942383,\n",
       " 25.670000076293945,\n",
       " 24.09000015258789,\n",
       " 23.579999923706055,\n",
       " 22.920000076293945,\n",
       " 21.639999389648438,\n",
       " 20.239999771118164,\n",
       " 19.59000015258789,\n",
       " 18.959999084472656,\n",
       " 17.959999084472656,\n",
       " 17.450000762939453,\n",
       " 18.030000686645508,\n",
       " 20.84000015258789,\n",
       " 20.8799991607666,\n",
       " 21.889999389648438,\n",
       " 22.940000534057617,\n",
       " 24.399999618530273,\n",
       " 24.15999984741211,\n",
       " 24.889999389648438,\n",
       " 26.190000534057617,\n",
       " 26.299999237060547,\n",
       " 26.940000534057617,\n",
       " 27.43000030517578,\n",
       " 27.360000610351562,\n",
       " 27.040000915527344,\n",
       " 25.68000030517578,\n",
       " 22.65999984741211,\n",
       " 19.829999923706055,\n",
       " 17.309999465942383,\n",
       " 15.449999809265137,\n",
       " 14.970000267028809,\n",
       " 14.579999923706055,\n",
       " 14.25,\n",
       " 14.050000190734863,\n",
       " 14.34000015258789,\n",
       " 14.119999885559082,\n",
       " 16.540000915527344,\n",
       " 17.1200008392334,\n",
       " 16.93000030517578,\n",
       " 18.31999969482422,\n",
       " 19.100000381469727,\n",
       " 19.899999618530273,\n",
       " 20.6200008392334,\n",
       " 20.670000076293945,\n",
       " 20.809999465942383,\n",
       " 21.1200008392334,\n",
       " 22.010000228881836,\n",
       " 21.610000610351562,\n",
       " 21.34000015258789,\n",
       " 21.010000228881836,\n",
       " 19.81999969482422,\n",
       " 17.989999771118164,\n",
       " 16.489999771118164,\n",
       " 15.350000381469727,\n",
       " 15.449999809265137,\n",
       " 13.5,\n",
       " 13.010000228881836,\n",
       " 12.920000076293945,\n",
       " 11.890000343322754,\n",
       " 11.819999694824219,\n",
       " 11.720000267028809,\n",
       " 14.460000038146973,\n",
       " 17.280000686645508,\n",
       " 17.989999771118164,\n",
       " 18.729999542236328,\n",
       " 19.540000915527344,\n",
       " 19.389999389648438,\n",
       " 20.790000915527344,\n",
       " 21.549999237060547,\n",
       " 21.420000076293945,\n",
       " 21.389999389648438,\n",
       " 21.270000457763672,\n",
       " 20.65999984741211,\n",
       " 19.709999084472656,\n",
       " 18.559999465942383,\n",
       " 17.469999313354492,\n",
       " 17.1200008392334,\n",
       " 17.299999237060547,\n",
       " 15.539999961853027,\n",
       " 15.0,\n",
       " 14.930000305175781,\n",
       " 14.84000015258789,\n",
       " 14.550000190734863,\n",
       " 14.670000076293945,\n",
       " 14.710000038146973,\n",
       " 14.710000038146973,\n",
       " 15.229999542236328,\n",
       " 16.200000762939453,\n",
       " 17.829999923706055,\n",
       " 19.010000228881836,\n",
       " 19.81999969482422,\n",
       " 20.860000610351562,\n",
       " 19.959999084472656,\n",
       " 19.43000030517578,\n",
       " 19.84000015258789,\n",
       " 19.690000534057617,\n",
       " 20.579999923706055,\n",
       " 18.969999313354492,\n",
       " 18.25,\n",
       " 17.270000457763672,\n",
       " 16.520000457763672,\n",
       " 15.380000114440918,\n",
       " 15.0,\n",
       " 14.960000038146973,\n",
       " 14.8100004196167,\n",
       " 14.729999542236328,\n",
       " 14.960000038146973,\n",
       " 15.420000076293945,\n",
       " 16.700000762939453,\n",
       " 17.43000030517578,\n",
       " 19.31999969482422,\n",
       " 19.579999923706055,\n",
       " 21.25,\n",
       " 21.790000915527344,\n",
       " 22.969999313354492,\n",
       " 23.399999618530273,\n",
       " 23.809999465942383,\n",
       " 24.040000915527344,\n",
       " 25.270000457763672,\n",
       " 24.68000030517578,\n",
       " 23.940000534057617,\n",
       " 22.850000381469727,\n",
       " 20.8700008392334,\n",
       " 19.06999969482422,\n",
       " 18.329999923706055,\n",
       " 17.190000534057617,\n",
       " 15.850000381469727,\n",
       " 14.859999656677246,\n",
       " 14.550000190734863,\n",
       " 13.729999542236328,\n",
       " 12.760000228881836,\n",
       " 13.170000076293945,\n",
       " 13.779999732971191,\n",
       " 15.479999542236328,\n",
       " 17.139999389648438,\n",
       " 17.600000381469727,\n",
       " 18.809999465942383,\n",
       " 19.540000915527344,\n",
       " 21.770000457763672,\n",
       " 22.420000076293945,\n",
       " 20.979999542236328,\n",
       " 21.93000030517578,\n",
       " 23.670000076293945,\n",
       " 23.360000610351562,\n",
       " 24.34000015258789,\n",
       " 23.260000228881836,\n",
       " 21.610000610351562,\n",
       " 20.469999313354492,\n",
       " 19.540000915527344,\n",
       " 19.139999389648438,\n",
       " 17.979999542236328,\n",
       " 16.940000534057617,\n",
       " 16.020000457763672,\n",
       " 15.84000015258789,\n",
       " 14.770000457763672,\n",
       " 15.600000381469727,\n",
       " 17.579999923706055,\n",
       " 19.889999389648438,\n",
       " 21.34000015258789,\n",
       " 22.079999923706055,\n",
       " 22.950000762939453,\n",
       " 23.59000015258789,\n",
       " 23.670000076293945,\n",
       " 25.0,\n",
       " 25.40999984741211,\n",
       " 25.600000381469727,\n",
       " 25.43000030517578,\n",
       " 26.049999237060547,\n",
       " 26.079999923706055,\n",
       " 25.399999618530273,\n",
       " 23.200000762939453,\n",
       " 20.84000015258789,\n",
       " 19.579999923706055,\n",
       " 19.260000228881836,\n",
       " 18.5,\n",
       " 17.75,\n",
       " 17.040000915527344,\n",
       " 15.800000190734863,\n",
       " 16.350000381469727,\n",
       " 16.3700008392334,\n",
       " 17.049999237060547,\n",
       " 20.010000228881836,\n",
       " 21.18000030517578,\n",
       " 21.65999984741211,\n",
       " 21.530000686645508,\n",
       " 17.280000686645508,\n",
       " 17.899999618530273,\n",
       " 17.43000030517578,\n",
       " 14.430000305175781,\n",
       " 14.609999656677246,\n",
       " 14.609999656677246,\n",
       " 17.15999984741211,\n",
       " 18.65999984741211,\n",
       " 16.940000534057617,\n",
       " 16.280000686645508,\n",
       " 15.039999961853027,\n",
       " 14.399999618530273,\n",
       " 13.0,\n",
       " 12.970000267028809,\n",
       " 12.15999984741211,\n",
       " 11.739999771118164,\n",
       " 10.600000381469727,\n",
       " 9.609999656677246,\n",
       " 9.729999542236328,\n",
       " 11.430000305175781,\n",
       " 12.390000343322754,\n",
       " 14.59000015258789,\n",
       " 16.68000030517578,\n",
       " 17.079999923706055,\n",
       " 18.420000076293945,\n",
       " 18.059999465942383,\n",
       " 18.670000076293945,\n",
       " 19.110000610351562,\n",
       " 13.149999618530273,\n",
       " 14.789999961853027,\n",
       " 14.5600004196167,\n",
       " 15.300000190734863,\n",
       " 15.279999732971191,\n",
       " 13.960000038146973,\n",
       " 13.220000267028809,\n",
       " 12.449999809265137,\n",
       " 11.279999732971191,\n",
       " 10.4399995803833,\n",
       " 9.279999732971191,\n",
       " 9.140000343322754,\n",
       " 7.699999809265137,\n",
       " 7.300000190734863,\n",
       " 7.03000020980835,\n",
       " 7.71999979019165,\n",
       " 8.739999771118164,\n",
       " 11.170000076293945,\n",
       " 14.859999656677246,\n",
       " 18.459999084472656,\n",
       " 19.030000686645508,\n",
       " 19.34000015258789,\n",
       " 21.15999984741211,\n",
       " 20.93000030517578,\n",
       " 21.93000030517578,\n",
       " 22.549999237060547,\n",
       " 22.049999237060547,\n",
       " 22.209999084472656,\n",
       " 21.530000686645508,\n",
       " 20.579999923706055,\n",
       " 18.469999313354492,\n",
       " 18.299999237060547,\n",
       " 17.260000228881836,\n",
       " 16.049999237060547,\n",
       " 16.149999618530273,\n",
       " 16.030000686645508,\n",
       " 15.229999542236328,\n",
       " 14.819999694824219,\n",
       " 14.430000305175781,\n",
       " 15.15999984741211,\n",
       " 17.760000228881836,\n",
       " 20.18000030517578,\n",
       " 21.780000686645508,\n",
       " 21.149999618530273,\n",
       " 22.56999969482422,\n",
       " 22.770000457763672,\n",
       " 23.43000030517578,\n",
       " 24.459999084472656,\n",
       " 24.979999542236328,\n",
       " 24.860000610351562,\n",
       " 24.110000610351562,\n",
       " 23.25,\n",
       " 21.489999771118164,\n",
       " 20.690000534057617,\n",
       " 15.210000038146973,\n",
       " 14.699999809265137,\n",
       " 14.869999885559082,\n",
       " 14.680000305175781,\n",
       " 14.079999923706055,\n",
       " 13.300000190734863,\n",
       " 12.609999656677246,\n",
       " 12.369999885559082,\n",
       " 12.569999694824219,\n",
       " 12.729999542236328,\n",
       " 13.729999542236328,\n",
       " 14.25,\n",
       " 14.239999771118164,\n",
       " 15.34000015258789,\n",
       " 16.459999084472656,\n",
       " 17.059999465942383,\n",
       " 17.899999618530273,\n",
       " 18.6200008392334,\n",
       " 19.309999465942383,\n",
       " 18.56999969482422,\n",
       " 19.950000762939453,\n",
       " 19.239999771118164,\n",
       " 18.950000762939453,\n",
       " 16.6299991607666,\n",
       " 15.449999809265137,\n",
       " 14.930000305175781,\n",
       " 14.630000114440918,\n",
       " 13.149999618530273,\n",
       " 10.609999656677246,\n",
       " 10.210000038146973,\n",
       " 9.859999656677246,\n",
       " 9.800000190734863,\n",
       " 10.130000114440918,\n",
       " 10.270000457763672,\n",
       " 12.829999923706055,\n",
       " 15.369999885559082,\n",
       " 16.549999237060547,\n",
       " 18.110000610351562,\n",
       " 18.670000076293945,\n",
       " 19.59000015258789,\n",
       " 20.3799991607666,\n",
       " 21.5,\n",
       " 21.600000381469727,\n",
       " 22.56999969482422,\n",
       " 22.350000381469727,\n",
       " 22.6299991607666,\n",
       " 21.290000915527344,\n",
       " 19.760000228881836,\n",
       " 19.1299991607666,\n",
       " 17.1200008392334,\n",
       " 16.079999923706055,\n",
       " 15.859999656677246,\n",
       " 15.479999542236328,\n",
       " 14.720000267028809,\n",
       " 14.390000343322754,\n",
       " 13.449999809265137,\n",
       " 13.239999771118164,\n",
       " 13.640000343322754,\n",
       " 14.859999656677246,\n",
       " 17.520000457763672,\n",
       " 21.190000534057617,\n",
       " 23.360000610351562,\n",
       " 24.239999771118164,\n",
       " 25.920000076293945,\n",
       " 26.829999923706055,\n",
       " 26.65999984741211,\n",
       " 26.31999969482422,\n",
       " 26.280000686645508,\n",
       " 24.959999084472656,\n",
       " 24.209999084472656,\n",
       " 24.110000610351562,\n",
       " 22.780000686645508,\n",
       " 20.920000076293945,\n",
       " 17.959999084472656,\n",
       " 16.989999771118164,\n",
       " 17.15999984741211,\n",
       " 16.81999969482422,\n",
       " 16.3700008392334,\n",
       " 15.380000114440918,\n",
       " 15.300000190734863,\n",
       " 15.539999961853027,\n",
       " 16.020000457763672,\n",
       " 17.0,\n",
       " 18.780000686645508,\n",
       " 19.149999618530273,\n",
       " 20.56999969482422,\n",
       " 20.100000381469727,\n",
       " 22.040000915527344,\n",
       " 23.3799991607666,\n",
       " 23.290000915527344,\n",
       " 23.850000381469727,\n",
       " 24.540000915527344,\n",
       " 24.600000381469727,\n",
       " 24.350000381469727,\n",
       " 23.229999542236328,\n",
       " 22.15999984741211,\n",
       " 21.329999923706055,\n",
       " 20.5,\n",
       " 19.239999771118164,\n",
       " 18.420000076293945,\n",
       " 16.850000381469727,\n",
       " 16.979999542236328,\n",
       " 15.90999984741211,\n",
       " 14.729999542236328,\n",
       " 14.670000076293945,\n",
       " 16.020000457763672,\n",
       " 18.110000610351562,\n",
       " 20.670000076293945,\n",
       " 22.729999542236328,\n",
       " 25.079999923706055,\n",
       " 25.969999313354492,\n",
       " 27.020000457763672,\n",
       " 27.75,\n",
       " 28.950000762939453,\n",
       " 29.360000610351562,\n",
       " 30.34000015258789,\n",
       " 30.670000076293945,\n",
       " 29.68000030517578,\n",
       " 28.6299991607666,\n",
       " 27.329999923706055,\n",
       " 26.75,\n",
       " 24.65999984741211,\n",
       " 23.360000610351562,\n",
       " 21.610000610351562,\n",
       " 20.329999923706055,\n",
       " 19.81999969482422,\n",
       " 19.6200008392334,\n",
       " 18.8799991607666,\n",
       " 18.93000030517578,\n",
       " 20.68000030517578,\n",
       " 23.149999618530273,\n",
       " 26.459999084472656,\n",
       " 28.149999618530273,\n",
       " 28.260000228881836,\n",
       " 28.5,\n",
       " 29.469999313354492,\n",
       " 29.829999923706055,\n",
       " 29.510000228881836,\n",
       " 29.149999618530273,\n",
       " ...]"
      ]
     },
     "execution_count": 38,
     "metadata": {},
     "output_type": "execute_result"
    }
   ],
   "source": [
    "real"
   ]
  },
  {
   "cell_type": "code",
   "execution_count": 39,
   "metadata": {},
   "outputs": [
    {
     "name": "stdout",
     "output_type": "stream",
     "text": [
      "      Predictions  Real Values\n",
      "0       13.880509        13.99\n",
      "1       12.737020        13.46\n",
      "2       12.367966        12.93\n",
      "3       11.983541        12.43\n",
      "4       11.566823        12.17\n",
      "...           ...          ...\n",
      "5081    -1.087812        -0.98\n",
      "5082    -1.484294        -1.40\n",
      "5083    -1.609675        -2.75\n",
      "5084    -3.049457        -2.89\n",
      "5085    -3.034430        -3.93\n",
      "\n",
      "[5086 rows x 2 columns]\n"
     ]
    }
   ],
   "source": [
    "predictions_df = pd.DataFrame(pred, columns=['Predictions'])\n",
    "real_values_df = pd.DataFrame(real, columns=['Real Values'])\n",
    "\n",
    "results_df = pd.concat([predictions_df, real_values_df], axis=1)\n",
    "\n",
    "print(results_df)"
   ]
  },
  {
   "cell_type": "code",
   "execution_count": 40,
   "metadata": {},
   "outputs": [
    {
     "data": {
      "text/plain": [
       "[<matplotlib.lines.Line2D at 0x728c4a0a64d0>]"
      ]
     },
     "execution_count": 40,
     "metadata": {},
     "output_type": "execute_result"
    },
    {
     "data": {
      "image/png": "[encoded data removed]",
      "text/plain": [
       "<Figure size 640x480 with 1 Axes>"
      ]
     },
     "metadata": {},
     "output_type": "display_data"
    }
   ],
   "source": [
    "plt.plot(results_df['Predictions'], label='Predictions')\n",
    "plt.plot(results_df['Real Values'], label='Real Values')"
   ]
  },
  {
   "cell_type": "code",
   "execution_count": 41,
   "metadata": {},
   "outputs": [
    {
     "name": "stdout",
     "output_type": "stream",
     "text": [
      "The R2 score is: 0.9876925567489708\n"
     ]
    }
   ],
   "source": [
    "r2_score = r2_score(results_df['Real Values'], results_df['Predictions'])\n",
    "print('The R2 score is:', r2_score)"
   ]
  },
  {
   "cell_type": "code",
   "execution_count": 42,
   "metadata": {},
   "outputs": [],
   "source": [
    "from sklearn.metrics import mean_squared_error as mse\n",
    "\n",
    "def plot_predictions1(model, dataloader, start=0, end=100):\n",
    "  model.eval()\n",
    "  pred = []\n",
    "  real = []\n",
    "  with torch.no_grad():\n",
    "      for batch_idx, (data, target) in enumerate(tqdm(dataloader, unit='batch')):\n",
    "          data = data.to(device)\n",
    "          target = target.to(device)\n",
    "          \n",
    "          outputs = model(data)\n",
    "          pred.append(outputs.item())\n",
    "          real.append(target.item())\n",
    "  df = pd.DataFrame(data={'Predictions':pred, 'Actuals':real})\n",
    "  plt.plot(df['Predictions'][start:end])\n",
    "  plt.plot(df['Actuals'][start:end])\n",
    "  return df, mse(real, pred)"
   ]
  },
  {
   "cell_type": "code",
   "execution_count": 43,
   "metadata": {},
   "outputs": [
    {
     "data": {
      "application/vnd.jupyter.widget-view+json": {
       "model_id": "8181217ec59d48fc9ed09059be6a6f78",
       "version_major": 2,
       "version_minor": 0
      },
      "text/plain": [
       "  0%|          | 0/5086 [00:00<?, ?batch/s]"
      ]
     },
     "metadata": {},
     "output_type": "display_data"
    },
    {
     "data": {
      "text/plain": [
       "(      Predictions  Actuals\n",
       " 0       13.880509    13.99\n",
       " 1       12.737020    13.46\n",
       " 2       12.367966    12.93\n",
       " 3       11.983541    12.43\n",
       " 4       11.566823    12.17\n",
       " ...           ...      ...\n",
       " 5081    -1.087812    -0.98\n",
       " 5082    -1.484294    -1.40\n",
       " 5083    -1.609675    -2.75\n",
       " 5084    -3.049457    -2.89\n",
       " 5085    -3.034430    -3.93\n",
       " \n",
       " [5086 rows x 2 columns],\n",
       " 0.856847263266785)"
      ]
     },
     "execution_count": 43,
     "metadata": {},
     "output_type": "execute_result"
    },
    {
     "data": {
      "image/png": "[encoded data removed]",
      "text/plain": [
       "<Figure size 640x480 with 1 Axes>"
      ]
     },
     "metadata": {},
     "output_type": "display_data"
    }
   ],
   "source": [
    "plot_predictions1(model, test_dataloader)"
   ]
  },
  {
   "cell_type": "code",
   "execution_count": 44,
   "metadata": {},
   "outputs": [],
   "source": [
    "class ForecastV2(nn.Module):\n",
    "    def __init__(self, input_size, hidden_size, num_layers, output_size):\n",
    "        super(ForecastV2, self).__init__()\n",
    "        self.hidden_size = hidden_size\n",
    "        self.num_layers = num_layers\n",
    "        self.conv1d = nn.Conv1d(input_size, self.hidden_size, kernel_size=2, stride=1, padding=1)\n",
    "        self.flatten = nn.Flatten()\n",
    "        self.linear_1 = nn.Linear(hidden_size*6, 8)\n",
    "        self.linear_2 = nn.Linear(8, output_size)\n",
    "        self.relu= nn.ReLU()\n",
    "        \n",
    "    def forward(self, x):\n",
    "        out = self.conv1d(x)\n",
    "        out = self.flatten(out)\n",
    "        out = self.relu(self.linear_1(out))\n",
    "        out = self.linear_2(out)\n",
    "        return out"
   ]
  },
  {
   "cell_type": "code",
   "execution_count": 45,
   "metadata": {},
   "outputs": [],
   "source": [
    "model1 = ForecastV2(input_size=1, hidden_size=64, num_layers=1, output_size=1).to(device)"
   ]
  },
  {
   "cell_type": "code",
   "execution_count": 46,
   "metadata": {},
   "outputs": [
    {
     "name": "stdout",
     "output_type": "stream",
     "text": [
      "torch.Size([32, 5, 1])\n"
     ]
    }
   ],
   "source": [
    "for data, target in train_dataloader:\n",
    "    print(data.shape)\n",
    "    break"
   ]
  },
  {
   "cell_type": "code",
   "execution_count": 47,
   "metadata": {},
   "outputs": [],
   "source": [
    "criterion2 = nn.MSELoss()\n",
    "optimizer2 = torch.optim.Adam(params=model1.parameters(), lr=0.0001)"
   ]
  },
  {
   "cell_type": "code",
   "execution_count": 48,
   "metadata": {},
   "outputs": [
    {
     "data": {
      "application/vnd.jupyter.widget-view+json": {
       "model_id": "431aa9a2eae94cff9b8ec4160292b0c6",
       "version_major": 2,
       "version_minor": 0
      },
      "text/plain": [
       "Epoch 1:   0%|          | 0/1875 [00:00<?, ?batch/s]"
      ]
     },
     "metadata": {},
     "output_type": "display_data"
    },
    {
     "name": "stdout",
     "output_type": "stream",
     "text": [
      "Epoch: 0, Step: 0, Loss: 0.021458003743489582\n"
     ]
    },
    {
     "data": {
      "application/vnd.jupyter.widget-view+json": {
       "model_id": "806a1479f20d47a094f7f419ca561686",
       "version_major": 2,
       "version_minor": 0
      },
      "text/plain": [
       "Epoch 2:   0%|          | 0/1875 [00:00<?, ?batch/s]"
      ]
     },
     "metadata": {},
     "output_type": "display_data"
    },
    {
     "name": "stdout",
     "output_type": "stream",
     "text": [
      "Epoch: 1, Step: 0, Loss: 3.2935056579505404\n"
     ]
    },
    {
     "data": {
      "application/vnd.jupyter.widget-view+json": {
       "model_id": "ffc077e2742d4d7bae36719eb679f151",
       "version_major": 2,
       "version_minor": 0
      },
      "text/plain": [
       "Epoch 3:   0%|          | 0/1875 [00:00<?, ?batch/s]"
      ]
     },
     "metadata": {},
     "output_type": "display_data"
    },
    {
     "name": "stdout",
     "output_type": "stream",
     "text": [
      "Epoch: 2, Step: 0, Loss: 0.8430828733235598\n"
     ]
    },
    {
     "data": {
      "application/vnd.jupyter.widget-view+json": {
       "model_id": "b823203835174190bce3611778781cf7",
       "version_major": 2,
       "version_minor": 0
      },
      "text/plain": [
       "Epoch 4:   0%|          | 0/1875 [00:00<?, ?batch/s]"
      ]
     },
     "metadata": {},
     "output_type": "display_data"
    },
    {
     "name": "stdout",
     "output_type": "stream",
     "text": [
      "Epoch: 3, Step: 0, Loss: 0.7559016332556804\n"
     ]
    },
    {
     "data": {
      "application/vnd.jupyter.widget-view+json": {
       "model_id": "c74c88ae541d4546b6015a9aec0a2286",
       "version_major": 2,
       "version_minor": 0
      },
      "text/plain": [
       "Epoch 5:   0%|          | 0/1875 [00:00<?, ?batch/s]"
      ]
     },
     "metadata": {},
     "output_type": "display_data"
    },
    {
     "name": "stdout",
     "output_type": "stream",
     "text": [
      "Epoch: 4, Step: 0, Loss: 0.7042841759800911\n"
     ]
    },
    {
     "data": {
      "application/vnd.jupyter.widget-view+json": {
       "model_id": "fd0dd0d741d04cecbb038048af6d5642",
       "version_major": 2,
       "version_minor": 0
      },
      "text/plain": [
       "Epoch 6:   0%|          | 0/1875 [00:00<?, ?batch/s]"
      ]
     },
     "metadata": {},
     "output_type": "display_data"
    },
    {
     "name": "stdout",
     "output_type": "stream",
     "text": [
      "Epoch: 5, Step: 0, Loss: 0.6798864199327925\n"
     ]
    },
    {
     "data": {
      "application/vnd.jupyter.widget-view+json": {
       "model_id": "2e4c63f92ee940c0a920f715d4ae676f",
       "version_major": 2,
       "version_minor": 0
      },
      "text/plain": [
       "Epoch 7:   0%|          | 0/1875 [00:00<?, ?batch/s]"
      ]
     },
     "metadata": {},
     "output_type": "display_data"
    },
    {
     "name": "stdout",
     "output_type": "stream",
     "text": [
      "Epoch: 6, Step: 0, Loss: 0.6708839852253596\n"
     ]
    },
    {
     "data": {
      "application/vnd.jupyter.widget-view+json": {
       "model_id": "c1c88479b22542edb304f5bf1f081f3e",
       "version_major": 2,
       "version_minor": 0
      },
      "text/plain": [
       "Epoch 8:   0%|          | 0/1875 [00:00<?, ?batch/s]"
      ]
     },
     "metadata": {},
     "output_type": "display_data"
    },
    {
     "name": "stdout",
     "output_type": "stream",
     "text": [
      "Epoch: 7, Step: 0, Loss: 0.6663846948881944\n"
     ]
    },
    {
     "data": {
      "application/vnd.jupyter.widget-view+json": {
       "model_id": "0c7c311caedd4c688873efaa99f4f679",
       "version_major": 2,
       "version_minor": 0
      },
      "text/plain": [
       "Epoch 9:   0%|          | 0/1875 [00:00<?, ?batch/s]"
      ]
     },
     "metadata": {},
     "output_type": "display_data"
    },
    {
     "name": "stdout",
     "output_type": "stream",
     "text": [
      "Epoch: 8, Step: 0, Loss: 0.6640556833614906\n"
     ]
    },
    {
     "data": {
      "application/vnd.jupyter.widget-view+json": {
       "model_id": "a2557d7254884f97a99927966f3fb0c0",
       "version_major": 2,
       "version_minor": 0
      },
      "text/plain": [
       "Epoch 10:   0%|          | 0/1875 [00:00<?, ?batch/s]"
      ]
     },
     "metadata": {},
     "output_type": "display_data"
    },
    {
     "name": "stdout",
     "output_type": "stream",
     "text": [
      "Epoch: 9, Step: 0, Loss: 0.6623587975099683\n"
     ]
    },
    {
     "data": {
      "application/vnd.jupyter.widget-view+json": {
       "model_id": "dbf51d75bec04ef1b2d58ff50c445fc4",
       "version_major": 2,
       "version_minor": 0
      },
      "text/plain": [
       "Epoch 11:   0%|          | 0/1875 [00:00<?, ?batch/s]"
      ]
     },
     "metadata": {},
     "output_type": "display_data"
    },
    {
     "name": "stdout",
     "output_type": "stream",
     "text": [
      "Epoch: 10, Step: 0, Loss: 0.6610405001337329\n"
     ]
    },
    {
     "data": {
      "application/vnd.jupyter.widget-view+json": {
       "model_id": "ca6073c7041041ffa183b624c6966569",
       "version_major": 2,
       "version_minor": 0
      },
      "text/plain": [
       "Epoch 12:   0%|          | 0/1875 [00:00<?, ?batch/s]"
      ]
     },
     "metadata": {},
     "output_type": "display_data"
    },
    {
     "name": "stdout",
     "output_type": "stream",
     "text": [
      "Epoch: 11, Step: 0, Loss: 0.6602464632076521\n"
     ]
    },
    {
     "data": {
      "application/vnd.jupyter.widget-view+json": {
       "model_id": "bec07c8ee3674ec09056bac1446ddee2",
       "version_major": 2,
       "version_minor": 0
      },
      "text/plain": [
       "Epoch 13:   0%|          | 0/1875 [00:00<?, ?batch/s]"
      ]
     },
     "metadata": {},
     "output_type": "display_data"
    },
    {
     "name": "stdout",
     "output_type": "stream",
     "text": [
      "Epoch: 12, Step: 0, Loss: 0.659583716365695\n"
     ]
    },
    {
     "data": {
      "application/vnd.jupyter.widget-view+json": {
       "model_id": "812fdb4b7dc249e984a4c8eb03357589",
       "version_major": 2,
       "version_minor": 0
      },
      "text/plain": [
       "Epoch 14:   0%|          | 0/1875 [00:00<?, ?batch/s]"
      ]
     },
     "metadata": {},
     "output_type": "display_data"
    },
    {
     "name": "stdout",
     "output_type": "stream",
     "text": [
      "Epoch: 13, Step: 0, Loss: 0.6591760321050882\n"
     ]
    },
    {
     "data": {
      "application/vnd.jupyter.widget-view+json": {
       "model_id": "b2e78d82fec44a8a9f191420baac47c0",
       "version_major": 2,
       "version_minor": 0
      },
      "text/plain": [
       "Epoch 15:   0%|          | 0/1875 [00:00<?, ?batch/s]"
      ]
     },
     "metadata": {},
     "output_type": "display_data"
    },
    {
     "name": "stdout",
     "output_type": "stream",
     "text": [
      "Epoch: 14, Step: 0, Loss: 0.6590407119673988\n"
     ]
    },
    {
     "data": {
      "application/vnd.jupyter.widget-view+json": {
       "model_id": "139e60f035464bb6b5ab1f5265ec72b8",
       "version_major": 2,
       "version_minor": 0
      },
      "text/plain": [
       "Epoch 16:   0%|          | 0/1875 [00:00<?, ?batch/s]"
      ]
     },
     "metadata": {},
     "output_type": "display_data"
    },
    {
     "name": "stdout",
     "output_type": "stream",
     "text": [
      "Epoch: 15, Step: 0, Loss: 0.6583627841134866\n"
     ]
    },
    {
     "data": {
      "application/vnd.jupyter.widget-view+json": {
       "model_id": "8c0077bcf8654887b11677f24b6ca3be",
       "version_major": 2,
       "version_minor": 0
      },
      "text/plain": [
       "Epoch 17:   0%|          | 0/1875 [00:00<?, ?batch/s]"
      ]
     },
     "metadata": {},
     "output_type": "display_data"
    },
    {
     "name": "stdout",
     "output_type": "stream",
     "text": [
      "Epoch: 16, Step: 0, Loss: 0.6582470041140914\n"
     ]
    },
    {
     "data": {
      "application/vnd.jupyter.widget-view+json": {
       "model_id": "7b452d4763fe4dc59d0609d36714c8d0",
       "version_major": 2,
       "version_minor": 0
      },
      "text/plain": [
       "Epoch 18:   0%|          | 0/1875 [00:00<?, ?batch/s]"
      ]
     },
     "metadata": {},
     "output_type": "display_data"
    },
    {
     "name": "stdout",
     "output_type": "stream",
     "text": [
      "Epoch: 17, Step: 0, Loss: 0.6581273767665029\n"
     ]
    },
    {
     "data": {
      "application/vnd.jupyter.widget-view+json": {
       "model_id": "a6cc97d8371746e8a958830cad650ad9",
       "version_major": 2,
       "version_minor": 0
      },
      "text/plain": [
       "Epoch 19:   0%|          | 0/1875 [00:00<?, ?batch/s]"
      ]
     },
     "metadata": {},
     "output_type": "display_data"
    },
    {
     "name": "stdout",
     "output_type": "stream",
     "text": [
      "Epoch: 18, Step: 0, Loss: 0.6578719870289167\n"
     ]
    },
    {
     "data": {
      "application/vnd.jupyter.widget-view+json": {
       "model_id": "11579d2752784dc883d9e284927bbca2",
       "version_major": 2,
       "version_minor": 0
      },
      "text/plain": [
       "Epoch 20:   0%|          | 0/1875 [00:00<?, ?batch/s]"
      ]
     },
     "metadata": {},
     "output_type": "display_data"
    },
    {
     "name": "stdout",
     "output_type": "stream",
     "text": [
      "Epoch: 19, Step: 0, Loss: 0.657687025932471\n",
      "Loss: 0.506512058341767\n"
     ]
    }
   ],
   "source": [
    "#training loop for model1\n",
    "model1.train()\n",
    "running_loss = 0\n",
    "total_loss = 0\n",
    "\n",
    "for epoch in range(N_EPOCHS):\n",
    "    for batch_idx, (data, target) in enumerate(tqdm(train_dataloader, desc=f'Epoch {epoch+1}', unit='batch')):\n",
    "        data = data.to(device)\n",
    "        target = target.to(device)\n",
    "\n",
    "        optimizer2.zero_grad()\n",
    "        \n",
    "        outputs = model1(data.view(-1, 1, 5))\n",
    "        loss = criterion2(outputs.view(-1), target)\n",
    "        \n",
    "        loss.backward()\n",
    "\n",
    "        optimizer2.step()\n",
    "\n",
    "        running_loss += loss.item()\n",
    "        total_loss += loss.item()\n",
    "\n",
    "        if batch_idx == 0:\n",
    "            print(f'Epoch: {epoch}, Step: {batch_idx}, Loss: {running_loss/len(train_dataloader)}')\n",
    "            running_loss = 0\n",
    "    \n",
    "print('Loss:', total_loss/len(train_dataloader.dataset))"
   ]
  },
  {
   "cell_type": "code",
   "execution_count": 49,
   "metadata": {},
   "outputs": [
    {
     "data": {
      "application/vnd.jupyter.widget-view+json": {
       "model_id": "a9cf447990944699b7598527fd126511",
       "version_major": 2,
       "version_minor": 0
      },
      "text/plain": [
       "  0%|          | 0/5000 [00:00<?, ?batch/s]"
      ]
     },
     "metadata": {},
     "output_type": "display_data"
    },
    {
     "name": "stdout",
     "output_type": "stream",
     "text": [
      "Step: 0, Loss: 0.00036186621189117433\n",
      "Val Loss: 0.5686376781740824\n"
     ]
    }
   ],
   "source": [
    "#validation loop\n",
    "model1.eval()\n",
    "val_loss = 0\n",
    "running_val_loss = 0\n",
    "with torch.no_grad():\n",
    "    for batch_idx, (data, target) in enumerate(tqdm(val_dataloader, unit='batch')):\n",
    "        data = data.to(device)\n",
    "        target = target.to(device)\n",
    "        \n",
    "        outputs = model1(data.view(-1, 1, 5))\n",
    "        loss = criterion2(outputs.view(-1), target)\n",
    "        \n",
    "        val_loss += loss.item()\n",
    "        running_val_loss += loss.item()\n",
    "\n",
    "        if batch_idx == 0:\n",
    "            print(f'Step: {batch_idx}, Loss: {running_val_loss/len(val_dataloader)}')\n",
    "            running_val_loss = 0\n",
    "\n",
    "print('Val Loss:', val_loss/len(val_dataloader.dataset))"
   ]
  },
  {
   "cell_type": "code",
   "execution_count": 50,
   "metadata": {},
   "outputs": [],
   "source": [
    "class ForecastV3(nn.Module):\n",
    "    def __init__(self, input_size, hidden_size, num_layers, output_size):\n",
    "        super(ForecastV3, self).__init__()\n",
    "        self.hidden_size = hidden_size\n",
    "        self.num_layers = num_layers\n",
    "        self.gru = nn.GRU(input_size, self.hidden_size, self.num_layers, batch_first=True)\n",
    "        self.linear_1 = nn.Linear(hidden_size, 8)\n",
    "        self.linear_2 = nn.Linear(8, output_size)\n",
    "        self.relu= nn.ReLU()\n",
    "        \n",
    "    def forward(self, x):\n",
    "        _, h_n = self.gru(x)\n",
    "        x = h_n[-1, :, :]  # This selects the last layer's hidden state for all batches\n",
    "        x = self.linear_1(x)\n",
    "        x = self.relu(x)\n",
    "        x = self.linear_2(x)\n",
    "        return x"
   ]
  },
  {
   "cell_type": "code",
   "execution_count": 51,
   "metadata": {},
   "outputs": [],
   "source": [
    "model2 = ForecastV3(input_size=1, hidden_size=64, num_layers=1, output_size=1).to(device)"
   ]
  },
  {
   "cell_type": "code",
   "execution_count": 52,
   "metadata": {},
   "outputs": [],
   "source": [
    "criterion3 = nn.MSELoss()\n",
    "optimizer3 = torch.optim.Adam(params=model2.parameters(), lr=0.0001)"
   ]
  },
  {
   "cell_type": "code",
   "execution_count": 53,
   "metadata": {},
   "outputs": [
    {
     "data": {
      "application/vnd.jupyter.widget-view+json": {
       "model_id": "d893101c6b5541dd99ac30197621e399",
       "version_major": 2,
       "version_minor": 0
      },
      "text/plain": [
       "Epoch 1:   0%|          | 0/1875 [00:00<?, ?batch/s]"
      ]
     },
     "metadata": {},
     "output_type": "display_data"
    },
    {
     "name": "stdout",
     "output_type": "stream",
     "text": [
      "Epoch: 0, Step: 0, Loss: 0.01811962890625\n"
     ]
    },
    {
     "data": {
      "application/vnd.jupyter.widget-view+json": {
       "model_id": "f7ec42a0c600417d9c8c1456f712c73e",
       "version_major": 2,
       "version_minor": 0
      },
      "text/plain": [
       "Epoch 2:   0%|          | 0/1875 [00:00<?, ?batch/s]"
      ]
     },
     "metadata": {},
     "output_type": "display_data"
    },
    {
     "name": "stdout",
     "output_type": "stream",
     "text": [
      "Epoch: 1, Step: 0, Loss: 75.22822117205263\n"
     ]
    },
    {
     "data": {
      "application/vnd.jupyter.widget-view+json": {
       "model_id": "edbeb906d1b54b90928fafc2290824c8",
       "version_major": 2,
       "version_minor": 0
      },
      "text/plain": [
       "Epoch 3:   0%|          | 0/1875 [00:00<?, ?batch/s]"
      ]
     },
     "metadata": {},
     "output_type": "display_data"
    },
    {
     "name": "stdout",
     "output_type": "stream",
     "text": [
      "Epoch: 2, Step: 0, Loss: 12.302507292446494\n"
     ]
    },
    {
     "data": {
      "application/vnd.jupyter.widget-view+json": {
       "model_id": "e950f9227fa94185980a322fd498fd2b",
       "version_major": 2,
       "version_minor": 0
      },
      "text/plain": [
       "Epoch 4:   0%|          | 0/1875 [00:00<?, ?batch/s]"
      ]
     },
     "metadata": {},
     "output_type": "display_data"
    },
    {
     "name": "stdout",
     "output_type": "stream",
     "text": [
      "Epoch: 3, Step: 0, Loss: 3.539600054644545\n"
     ]
    },
    {
     "data": {
      "application/vnd.jupyter.widget-view+json": {
       "model_id": "e164a7a92d9149efbca60a38838e4d60",
       "version_major": 2,
       "version_minor": 0
      },
      "text/plain": [
       "Epoch 5:   0%|          | 0/1875 [00:00<?, ?batch/s]"
      ]
     },
     "metadata": {},
     "output_type": "display_data"
    },
    {
     "name": "stdout",
     "output_type": "stream",
     "text": [
      "Epoch: 4, Step: 0, Loss: 1.67546624430269\n"
     ]
    },
    {
     "data": {
      "application/vnd.jupyter.widget-view+json": {
       "model_id": "e9e10f224fce41fbab5018f6d97e9dac",
       "version_major": 2,
       "version_minor": 0
      },
      "text/plain": [
       "Epoch 6:   0%|          | 0/1875 [00:00<?, ?batch/s]"
      ]
     },
     "metadata": {},
     "output_type": "display_data"
    },
    {
     "name": "stdout",
     "output_type": "stream",
     "text": [
      "Epoch: 5, Step: 0, Loss: 1.088176093623042\n"
     ]
    },
    {
     "data": {
      "application/vnd.jupyter.widget-view+json": {
       "model_id": "f759f481d141494d87c932189b639900",
       "version_major": 2,
       "version_minor": 0
      },
      "text/plain": [
       "Epoch 7:   0%|          | 0/1875 [00:00<?, ?batch/s]"
      ]
     },
     "metadata": {},
     "output_type": "display_data"
    },
    {
     "name": "stdout",
     "output_type": "stream",
     "text": [
      "Epoch: 6, Step: 0, Loss: 0.8591066266099612\n"
     ]
    },
    {
     "data": {
      "application/vnd.jupyter.widget-view+json": {
       "model_id": "879e731c6f9045a192fd72e2ce49c5d4",
       "version_major": 2,
       "version_minor": 0
      },
      "text/plain": [
       "Epoch 8:   0%|          | 0/1875 [00:00<?, ?batch/s]"
      ]
     },
     "metadata": {},
     "output_type": "display_data"
    },
    {
     "name": "stdout",
     "output_type": "stream",
     "text": [
      "Epoch: 7, Step: 0, Loss: 0.7548072195445498\n"
     ]
    },
    {
     "data": {
      "application/vnd.jupyter.widget-view+json": {
       "model_id": "0daf0db33a8e418d96d10f284086286b",
       "version_major": 2,
       "version_minor": 0
      },
      "text/plain": [
       "Epoch 9:   0%|          | 0/1875 [00:00<?, ?batch/s]"
      ]
     },
     "metadata": {},
     "output_type": "display_data"
    },
    {
     "name": "stdout",
     "output_type": "stream",
     "text": [
      "Epoch: 8, Step: 0, Loss: 0.7029994393505156\n"
     ]
    },
    {
     "data": {
      "application/vnd.jupyter.widget-view+json": {
       "model_id": "c49228e3323a443cb47f065c19909896",
       "version_major": 2,
       "version_minor": 0
      },
      "text/plain": [
       "Epoch 10:   0%|          | 0/1875 [00:00<?, ?batch/s]"
      ]
     },
     "metadata": {},
     "output_type": "display_data"
    },
    {
     "name": "stdout",
     "output_type": "stream",
     "text": [
      "Epoch: 9, Step: 0, Loss: 0.6752526352368295\n"
     ]
    },
    {
     "data": {
      "application/vnd.jupyter.widget-view+json": {
       "model_id": "86991a31c1b3479bbcb4688e5cfeafd5",
       "version_major": 2,
       "version_minor": 0
      },
      "text/plain": [
       "Epoch 11:   0%|          | 0/1875 [00:00<?, ?batch/s]"
      ]
     },
     "metadata": {},
     "output_type": "display_data"
    },
    {
     "name": "stdout",
     "output_type": "stream",
     "text": [
      "Epoch: 10, Step: 0, Loss: 0.6597327782029907\n"
     ]
    },
    {
     "data": {
      "application/vnd.jupyter.widget-view+json": {
       "model_id": "acda891f76e24f92b6bfe7ce5405adec",
       "version_major": 2,
       "version_minor": 0
      },
      "text/plain": [
       "Epoch 12:   0%|          | 0/1875 [00:00<?, ?batch/s]"
      ]
     },
     "metadata": {},
     "output_type": "display_data"
    },
    {
     "name": "stdout",
     "output_type": "stream",
     "text": [
      "Epoch: 11, Step: 0, Loss: 0.6507860055088996\n"
     ]
    },
    {
     "data": {
      "application/vnd.jupyter.widget-view+json": {
       "model_id": "cf8a4c67e0ae4d628d7b20a58138d1b0",
       "version_major": 2,
       "version_minor": 0
      },
      "text/plain": [
       "Epoch 13:   0%|          | 0/1875 [00:00<?, ?batch/s]"
      ]
     },
     "metadata": {},
     "output_type": "display_data"
    },
    {
     "name": "stdout",
     "output_type": "stream",
     "text": [
      "Epoch: 12, Step: 0, Loss: 0.6453311275700728\n"
     ]
    },
    {
     "data": {
      "application/vnd.jupyter.widget-view+json": {
       "model_id": "17e1cdba65af4f6bbac43caf8f70d757",
       "version_major": 2,
       "version_minor": 0
      },
      "text/plain": [
       "Epoch 14:   0%|          | 0/1875 [00:00<?, ?batch/s]"
      ]
     },
     "metadata": {},
     "output_type": "display_data"
    },
    {
     "name": "stdout",
     "output_type": "stream",
     "text": [
      "Epoch: 13, Step: 0, Loss: 0.6417337454674145\n"
     ]
    },
    {
     "data": {
      "application/vnd.jupyter.widget-view+json": {
       "model_id": "e59b739270d447df995c988783fd6b64",
       "version_major": 2,
       "version_minor": 0
      },
      "text/plain": [
       "Epoch 15:   0%|          | 0/1875 [00:00<?, ?batch/s]"
      ]
     },
     "metadata": {},
     "output_type": "display_data"
    },
    {
     "name": "stdout",
     "output_type": "stream",
     "text": [
      "Epoch: 14, Step: 0, Loss: 0.6391914719161887\n"
     ]
    },
    {
     "data": {
      "application/vnd.jupyter.widget-view+json": {
       "model_id": "fe2e25d95a5747b58a7a395382e74479",
       "version_major": 2,
       "version_minor": 0
      },
      "text/plain": [
       "Epoch 16:   0%|          | 0/1875 [00:00<?, ?batch/s]"
      ]
     },
     "metadata": {},
     "output_type": "display_data"
    },
    {
     "name": "stdout",
     "output_type": "stream",
     "text": [
      "Epoch: 15, Step: 0, Loss: 0.6373005502286057\n"
     ]
    },
    {
     "data": {
      "application/vnd.jupyter.widget-view+json": {
       "model_id": "9e7611e8130f4f4ba871b0a5c1d83bf9",
       "version_major": 2,
       "version_minor": 0
      },
      "text/plain": [
       "Epoch 17:   0%|          | 0/1875 [00:00<?, ?batch/s]"
      ]
     },
     "metadata": {},
     "output_type": "display_data"
    },
    {
     "name": "stdout",
     "output_type": "stream",
     "text": [
      "Epoch: 16, Step: 0, Loss: 0.6358090889724592\n"
     ]
    },
    {
     "data": {
      "application/vnd.jupyter.widget-view+json": {
       "model_id": "67e6e43bb14c4f4785a7407f27fd3020",
       "version_major": 2,
       "version_minor": 0
      },
      "text/plain": [
       "Epoch 18:   0%|          | 0/1875 [00:00<?, ?batch/s]"
      ]
     },
     "metadata": {},
     "output_type": "display_data"
    },
    {
     "name": "stdout",
     "output_type": "stream",
     "text": [
      "Epoch: 17, Step: 0, Loss: 0.6346256206919749\n"
     ]
    },
    {
     "data": {
      "application/vnd.jupyter.widget-view+json": {
       "model_id": "7fde871d1ec841be8787993ce9d37d06",
       "version_major": 2,
       "version_minor": 0
      },
      "text/plain": [
       "Epoch 19:   0%|          | 0/1875 [00:00<?, ?batch/s]"
      ]
     },
     "metadata": {},
     "output_type": "display_data"
    },
    {
     "name": "stdout",
     "output_type": "stream",
     "text": [
      "Epoch: 18, Step: 0, Loss: 0.6336480810721715\n"
     ]
    },
    {
     "data": {
      "application/vnd.jupyter.widget-view+json": {
       "model_id": "05044065d77045f39bc639ec7531ff2e",
       "version_major": 2,
       "version_minor": 0
      },
      "text/plain": [
       "Epoch 20:   0%|          | 0/1875 [00:00<?, ?batch/s]"
      ]
     },
     "metadata": {},
     "output_type": "display_data"
    },
    {
     "name": "stdout",
     "output_type": "stream",
     "text": [
      "Epoch: 19, Step: 0, Loss: 0.632786106069386\n",
      "Loss: 3.2464721116768196\n"
     ]
    }
   ],
   "source": [
    "#training loop for model2\n",
    "model2.train()\n",
    "running_loss = 0\n",
    "total_loss = 0\n",
    "\n",
    "for epoch in range(N_EPOCHS):\n",
    "    for batch_idx, (data, target) in enumerate(tqdm(train_dataloader, desc=f'Epoch {epoch+1}', unit='batch')):\n",
    "        data = data.to(device)\n",
    "        target = target.to(device)\n",
    "\n",
    "        optimizer3.zero_grad()\n",
    "        \n",
    "        outputs = model2(data)\n",
    "        loss = criterion3(outputs.view(-1), target)\n",
    "        \n",
    "        loss.backward()\n",
    "\n",
    "        optimizer3.step()\n",
    "\n",
    "        running_loss += loss.item()\n",
    "        total_loss += loss.item()\n",
    "\n",
    "        if batch_idx == 0:\n",
    "            print(f'Epoch: {epoch}, Step: {batch_idx}, Loss: {running_loss/len(train_dataloader)}')\n",
    "            running_loss = 0\n",
    "    \n",
    "print('Loss:', total_loss/len(train_dataloader.dataset))"
   ]
  },
  {
   "cell_type": "code",
   "execution_count": 54,
   "metadata": {},
   "outputs": [
    {
     "data": {
      "application/vnd.jupyter.widget-view+json": {
       "model_id": "3d1962e8c0764363bfd6a6783facd071",
       "version_major": 2,
       "version_minor": 0
      },
      "text/plain": [
       "  0%|          | 0/5000 [00:00<?, ?batch/s]"
      ]
     },
     "metadata": {},
     "output_type": "display_data"
    },
    {
     "name": "stdout",
     "output_type": "stream",
     "text": [
      "Step: 0, Loss: 0.0003664721727371216\n",
      "Val Loss: 0.5234182065101888\n"
     ]
    }
   ],
   "source": [
    "#validation loop for model2\n",
    "model2.eval()\n",
    "val_loss = 0\n",
    "running_val_loss = 0\n",
    "with torch.no_grad():\n",
    "    for batch_idx, (data, target) in enumerate(tqdm(val_dataloader, unit='batch')):\n",
    "        data = data.to(device)\n",
    "        target = target.to(device)\n",
    "        \n",
    "        outputs = model2(data)\n",
    "        loss = criterion3(outputs.view(-1), target)\n",
    "        \n",
    "        val_loss += loss.item()\n",
    "        running_val_loss += loss.item()\n",
    "\n",
    "        if batch_idx == 0:\n",
    "            print(f'Step: {batch_idx}, Loss: {running_val_loss/len(val_dataloader)}')\n",
    "            running_val_loss = 0\n",
    "\n",
    "print('Val Loss:', val_loss/len(val_dataloader.dataset))"
   ]
  },
  {
   "cell_type": "code",
   "execution_count": 55,
   "metadata": {},
   "outputs": [
    {
     "data": {
      "text/plain": [
       "Date Time\n",
       "2009-01-01 01:00:00   -8.05\n",
       "2009-01-01 02:00:00   -8.88\n",
       "2009-01-01 03:00:00   -8.81\n",
       "2009-01-01 04:00:00   -9.05\n",
       "2009-01-01 05:00:00   -9.63\n",
       "                       ... \n",
       "2016-12-31 19:10:00   -0.98\n",
       "2016-12-31 20:10:00   -1.40\n",
       "2016-12-31 21:10:00   -2.75\n",
       "2016-12-31 22:10:00   -2.89\n",
       "2016-12-31 23:10:00   -3.93\n",
       "Name: T (degC), Length: 70091, dtype: float64"
      ]
     },
     "execution_count": 55,
     "metadata": {},
     "output_type": "execute_result"
    }
   ],
   "source": [
    "temp"
   ]
  },
  {
   "cell_type": "code",
   "execution_count": 56,
   "metadata": {},
   "outputs": [
    {
     "data": {
      "text/html": [
       "<div>\n",
       "<style scoped>\n",
       "    .dataframe tbody tr th:only-of-type {\n",
       "        vertical-align: middle;\n",
       "    }\n",
       "\n",
       "    .dataframe tbody tr th {\n",
       "        vertical-align: top;\n",
       "    }\n",
       "\n",
       "    .dataframe thead th {\n",
       "        text-align: right;\n",
       "    }\n",
       "</style>\n",
       "<table border=\"1\" class=\"dataframe\">\n",
       "  <thead>\n",
       "    <tr style=\"text-align: right;\">\n",
       "      <th></th>\n",
       "      <th>Temperature</th>\n",
       "      <th>Seconds</th>\n",
       "    </tr>\n",
       "    <tr>\n",
       "      <th>Date Time</th>\n",
       "      <th></th>\n",
       "      <th></th>\n",
       "    </tr>\n",
       "  </thead>\n",
       "  <tbody>\n",
       "    <tr>\n",
       "      <th>2009-01-01 01:00:00</th>\n",
       "      <td>-8.05</td>\n",
       "      <td>1.230772e+09</td>\n",
       "    </tr>\n",
       "    <tr>\n",
       "      <th>2009-01-01 02:00:00</th>\n",
       "      <td>-8.88</td>\n",
       "      <td>1.230775e+09</td>\n",
       "    </tr>\n",
       "    <tr>\n",
       "      <th>2009-01-01 03:00:00</th>\n",
       "      <td>-8.81</td>\n",
       "      <td>1.230779e+09</td>\n",
       "    </tr>\n",
       "    <tr>\n",
       "      <th>2009-01-01 04:00:00</th>\n",
       "      <td>-9.05</td>\n",
       "      <td>1.230782e+09</td>\n",
       "    </tr>\n",
       "    <tr>\n",
       "      <th>2009-01-01 05:00:00</th>\n",
       "      <td>-9.63</td>\n",
       "      <td>1.230786e+09</td>\n",
       "    </tr>\n",
       "    <tr>\n",
       "      <th>...</th>\n",
       "      <td>...</td>\n",
       "      <td>...</td>\n",
       "    </tr>\n",
       "    <tr>\n",
       "      <th>2016-12-31 19:10:00</th>\n",
       "      <td>-0.98</td>\n",
       "      <td>1.483211e+09</td>\n",
       "    </tr>\n",
       "    <tr>\n",
       "      <th>2016-12-31 20:10:00</th>\n",
       "      <td>-1.40</td>\n",
       "      <td>1.483215e+09</td>\n",
       "    </tr>\n",
       "    <tr>\n",
       "      <th>2016-12-31 21:10:00</th>\n",
       "      <td>-2.75</td>\n",
       "      <td>1.483219e+09</td>\n",
       "    </tr>\n",
       "    <tr>\n",
       "      <th>2016-12-31 22:10:00</th>\n",
       "      <td>-2.89</td>\n",
       "      <td>1.483222e+09</td>\n",
       "    </tr>\n",
       "    <tr>\n",
       "      <th>2016-12-31 23:10:00</th>\n",
       "      <td>-3.93</td>\n",
       "      <td>1.483226e+09</td>\n",
       "    </tr>\n",
       "  </tbody>\n",
       "</table>\n",
       "<p>70091 rows × 2 columns</p>\n",
       "</div>"
      ],
      "text/plain": [
       "                     Temperature       Seconds\n",
       "Date Time                                     \n",
       "2009-01-01 01:00:00        -8.05  1.230772e+09\n",
       "2009-01-01 02:00:00        -8.88  1.230775e+09\n",
       "2009-01-01 03:00:00        -8.81  1.230779e+09\n",
       "2009-01-01 04:00:00        -9.05  1.230782e+09\n",
       "2009-01-01 05:00:00        -9.63  1.230786e+09\n",
       "...                          ...           ...\n",
       "2016-12-31 19:10:00        -0.98  1.483211e+09\n",
       "2016-12-31 20:10:00        -1.40  1.483215e+09\n",
       "2016-12-31 21:10:00        -2.75  1.483219e+09\n",
       "2016-12-31 22:10:00        -2.89  1.483222e+09\n",
       "2016-12-31 23:10:00        -3.93  1.483226e+09\n",
       "\n",
       "[70091 rows x 2 columns]"
      ]
     },
     "execution_count": 56,
     "metadata": {},
     "output_type": "execute_result"
    }
   ],
   "source": [
    "temp_df = pd.DataFrame({'Temperature': temp})\n",
    "temp_df['Seconds'] = temp_df.index.map(pd.Timestamp.timestamp)\n",
    "temp_df"
   ]
  },
  {
   "cell_type": "code",
   "execution_count": 57,
   "metadata": {},
   "outputs": [],
   "source": [
    "day = 24*24*60\n",
    "year = (365.2425)*day\n",
    "temp_df['Day sin'] = np.sin(temp_df['Seconds'] * (2 * np.pi / day))"
   ]
  },
  {
   "cell_type": "code",
   "execution_count": 58,
   "metadata": {},
   "outputs": [
    {
     "data": {
      "text/html": [
       "<div>\n",
       "<style scoped>\n",
       "    .dataframe tbody tr th:only-of-type {\n",
       "        vertical-align: middle;\n",
       "    }\n",
       "\n",
       "    .dataframe tbody tr th {\n",
       "        vertical-align: top;\n",
       "    }\n",
       "\n",
       "    .dataframe thead th {\n",
       "        text-align: right;\n",
       "    }\n",
       "</style>\n",
       "<table border=\"1\" class=\"dataframe\">\n",
       "  <thead>\n",
       "    <tr style=\"text-align: right;\">\n",
       "      <th></th>\n",
       "      <th>Temperature</th>\n",
       "      <th>Seconds</th>\n",
       "      <th>Day sin</th>\n",
       "    </tr>\n",
       "    <tr>\n",
       "      <th>Date Time</th>\n",
       "      <th></th>\n",
       "      <th></th>\n",
       "      <th></th>\n",
       "    </tr>\n",
       "  </thead>\n",
       "  <tbody>\n",
       "    <tr>\n",
       "      <th>2009-01-01 01:00:00</th>\n",
       "      <td>-8.05</td>\n",
       "      <td>1.230772e+09</td>\n",
       "      <td>-0.608761</td>\n",
       "    </tr>\n",
       "    <tr>\n",
       "      <th>2009-01-01 02:00:00</th>\n",
       "      <td>-8.88</td>\n",
       "      <td>1.230775e+09</td>\n",
       "      <td>-0.965926</td>\n",
       "    </tr>\n",
       "    <tr>\n",
       "      <th>2009-01-01 03:00:00</th>\n",
       "      <td>-8.81</td>\n",
       "      <td>1.230779e+09</td>\n",
       "      <td>-0.923880</td>\n",
       "    </tr>\n",
       "    <tr>\n",
       "      <th>2009-01-01 04:00:00</th>\n",
       "      <td>-9.05</td>\n",
       "      <td>1.230782e+09</td>\n",
       "      <td>-0.500000</td>\n",
       "    </tr>\n",
       "    <tr>\n",
       "      <th>2009-01-01 05:00:00</th>\n",
       "      <td>-9.63</td>\n",
       "      <td>1.230786e+09</td>\n",
       "      <td>0.130526</td>\n",
       "    </tr>\n",
       "    <tr>\n",
       "      <th>...</th>\n",
       "      <td>...</td>\n",
       "      <td>...</td>\n",
       "      <td>...</td>\n",
       "    </tr>\n",
       "    <tr>\n",
       "      <th>2016-12-31 19:10:00</th>\n",
       "      <td>-0.98</td>\n",
       "      <td>1.483211e+09</td>\n",
       "      <td>-0.021815</td>\n",
       "    </tr>\n",
       "    <tr>\n",
       "      <th>2016-12-31 20:10:00</th>\n",
       "      <td>-1.40</td>\n",
       "      <td>1.483215e+09</td>\n",
       "      <td>0.591310</td>\n",
       "    </tr>\n",
       "    <tr>\n",
       "      <th>2016-12-31 21:10:00</th>\n",
       "      <td>-2.75</td>\n",
       "      <td>1.483219e+09</td>\n",
       "      <td>0.960050</td>\n",
       "    </tr>\n",
       "    <tr>\n",
       "      <th>2016-12-31 22:10:00</th>\n",
       "      <td>-2.89</td>\n",
       "      <td>1.483222e+09</td>\n",
       "      <td>0.932008</td>\n",
       "    </tr>\n",
       "    <tr>\n",
       "      <th>2016-12-31 23:10:00</th>\n",
       "      <td>-3.93</td>\n",
       "      <td>1.483226e+09</td>\n",
       "      <td>0.518773</td>\n",
       "    </tr>\n",
       "  </tbody>\n",
       "</table>\n",
       "<p>70091 rows × 3 columns</p>\n",
       "</div>"
      ],
      "text/plain": [
       "                     Temperature       Seconds   Day sin\n",
       "Date Time                                               \n",
       "2009-01-01 01:00:00        -8.05  1.230772e+09 -0.608761\n",
       "2009-01-01 02:00:00        -8.88  1.230775e+09 -0.965926\n",
       "2009-01-01 03:00:00        -8.81  1.230779e+09 -0.923880\n",
       "2009-01-01 04:00:00        -9.05  1.230782e+09 -0.500000\n",
       "2009-01-01 05:00:00        -9.63  1.230786e+09  0.130526\n",
       "...                          ...           ...       ...\n",
       "2016-12-31 19:10:00        -0.98  1.483211e+09 -0.021815\n",
       "2016-12-31 20:10:00        -1.40  1.483215e+09  0.591310\n",
       "2016-12-31 21:10:00        -2.75  1.483219e+09  0.960050\n",
       "2016-12-31 22:10:00        -2.89  1.483222e+09  0.932008\n",
       "2016-12-31 23:10:00        -3.93  1.483226e+09  0.518773\n",
       "\n",
       "[70091 rows x 3 columns]"
      ]
     },
     "execution_count": 58,
     "metadata": {},
     "output_type": "execute_result"
    }
   ],
   "source": [
    "temp_df"
   ]
  },
  {
   "cell_type": "code",
   "execution_count": 59,
   "metadata": {},
   "outputs": [
    {
     "data": {
      "text/plain": [
       "<Axes: xlabel='Date Time'>"
      ]
     },
     "execution_count": 59,
     "metadata": {},
     "output_type": "execute_result"
    },
    {
     "data": {
      "image/png": "[encoded data removed]",
      "text/plain": [
       "<Figure size 640x480 with 1 Axes>"
      ]
     },
     "metadata": {},
     "output_type": "display_data"
    }
   ],
   "source": [
    "temp_df['Day sin'].plot()"
   ]
  },
  {
   "cell_type": "code",
   "execution_count": 60,
   "metadata": {},
   "outputs": [],
   "source": [
    "temp_df['Day cos'] = np.cos(temp_df['Seconds'] * (2 * np.pi / day))\n",
    "temp_df['Year sin'] = np.sin(temp_df['Seconds'] * (2 * np.pi / year))\n",
    "temp_df['Year cos'] = np.cos(temp_df['Seconds'] * (2 * np.pi / year))"
   ]
  },
  {
   "cell_type": "code",
   "execution_count": 61,
   "metadata": {},
   "outputs": [
    {
     "data": {
      "text/html": [
       "<div>\n",
       "<style scoped>\n",
       "    .dataframe tbody tr th:only-of-type {\n",
       "        vertical-align: middle;\n",
       "    }\n",
       "\n",
       "    .dataframe tbody tr th {\n",
       "        vertical-align: top;\n",
       "    }\n",
       "\n",
       "    .dataframe thead th {\n",
       "        text-align: right;\n",
       "    }\n",
       "</style>\n",
       "<table border=\"1\" class=\"dataframe\">\n",
       "  <thead>\n",
       "    <tr style=\"text-align: right;\">\n",
       "      <th></th>\n",
       "      <th>Temperature</th>\n",
       "      <th>Seconds</th>\n",
       "      <th>Day sin</th>\n",
       "      <th>Day cos</th>\n",
       "      <th>Year sin</th>\n",
       "      <th>Year cos</th>\n",
       "    </tr>\n",
       "    <tr>\n",
       "      <th>Date Time</th>\n",
       "      <th></th>\n",
       "      <th></th>\n",
       "      <th></th>\n",
       "      <th></th>\n",
       "      <th></th>\n",
       "      <th></th>\n",
       "    </tr>\n",
       "  </thead>\n",
       "  <tbody>\n",
       "    <tr>\n",
       "      <th>2009-01-01 01:00:00</th>\n",
       "      <td>-8.05</td>\n",
       "      <td>1.230772e+09</td>\n",
       "      <td>-0.608761</td>\n",
       "      <td>-0.793353</td>\n",
       "      <td>-0.025121</td>\n",
       "      <td>-0.999684</td>\n",
       "    </tr>\n",
       "    <tr>\n",
       "      <th>2009-01-01 02:00:00</th>\n",
       "      <td>-8.88</td>\n",
       "      <td>1.230775e+09</td>\n",
       "      <td>-0.965926</td>\n",
       "      <td>-0.258819</td>\n",
       "      <td>-0.026912</td>\n",
       "      <td>-0.999638</td>\n",
       "    </tr>\n",
       "    <tr>\n",
       "      <th>2009-01-01 03:00:00</th>\n",
       "      <td>-8.81</td>\n",
       "      <td>1.230779e+09</td>\n",
       "      <td>-0.923880</td>\n",
       "      <td>0.382683</td>\n",
       "      <td>-0.028703</td>\n",
       "      <td>-0.999588</td>\n",
       "    </tr>\n",
       "    <tr>\n",
       "      <th>2009-01-01 04:00:00</th>\n",
       "      <td>-9.05</td>\n",
       "      <td>1.230782e+09</td>\n",
       "      <td>-0.500000</td>\n",
       "      <td>0.866025</td>\n",
       "      <td>-0.030494</td>\n",
       "      <td>-0.999535</td>\n",
       "    </tr>\n",
       "    <tr>\n",
       "      <th>2009-01-01 05:00:00</th>\n",
       "      <td>-9.63</td>\n",
       "      <td>1.230786e+09</td>\n",
       "      <td>0.130526</td>\n",
       "      <td>0.991445</td>\n",
       "      <td>-0.032285</td>\n",
       "      <td>-0.999479</td>\n",
       "    </tr>\n",
       "    <tr>\n",
       "      <th>...</th>\n",
       "      <td>...</td>\n",
       "      <td>...</td>\n",
       "      <td>...</td>\n",
       "      <td>...</td>\n",
       "      <td>...</td>\n",
       "      <td>...</td>\n",
       "    </tr>\n",
       "    <tr>\n",
       "      <th>2016-12-31 19:10:00</th>\n",
       "      <td>-0.98</td>\n",
       "      <td>1.483211e+09</td>\n",
       "      <td>-0.021815</td>\n",
       "      <td>0.999762</td>\n",
       "      <td>-0.017250</td>\n",
       "      <td>-0.999851</td>\n",
       "    </tr>\n",
       "    <tr>\n",
       "      <th>2016-12-31 20:10:00</th>\n",
       "      <td>-1.40</td>\n",
       "      <td>1.483215e+09</td>\n",
       "      <td>0.591310</td>\n",
       "      <td>0.806445</td>\n",
       "      <td>-0.019041</td>\n",
       "      <td>-0.999819</td>\n",
       "    </tr>\n",
       "    <tr>\n",
       "      <th>2016-12-31 21:10:00</th>\n",
       "      <td>-2.75</td>\n",
       "      <td>1.483219e+09</td>\n",
       "      <td>0.960050</td>\n",
       "      <td>0.279829</td>\n",
       "      <td>-0.020833</td>\n",
       "      <td>-0.999783</td>\n",
       "    </tr>\n",
       "    <tr>\n",
       "      <th>2016-12-31 22:10:00</th>\n",
       "      <td>-2.89</td>\n",
       "      <td>1.483222e+09</td>\n",
       "      <td>0.932008</td>\n",
       "      <td>-0.362438</td>\n",
       "      <td>-0.022624</td>\n",
       "      <td>-0.999744</td>\n",
       "    </tr>\n",
       "    <tr>\n",
       "      <th>2016-12-31 23:10:00</th>\n",
       "      <td>-3.93</td>\n",
       "      <td>1.483226e+09</td>\n",
       "      <td>0.518773</td>\n",
       "      <td>-0.854912</td>\n",
       "      <td>-0.024416</td>\n",
       "      <td>-0.999702</td>\n",
       "    </tr>\n",
       "  </tbody>\n",
       "</table>\n",
       "<p>70091 rows × 6 columns</p>\n",
       "</div>"
      ],
      "text/plain": [
       "                     Temperature       Seconds   Day sin   Day cos  Year sin  \\\n",
       "Date Time                                                                      \n",
       "2009-01-01 01:00:00        -8.05  1.230772e+09 -0.608761 -0.793353 -0.025121   \n",
       "2009-01-01 02:00:00        -8.88  1.230775e+09 -0.965926 -0.258819 -0.026912   \n",
       "2009-01-01 03:00:00        -8.81  1.230779e+09 -0.923880  0.382683 -0.028703   \n",
       "2009-01-01 04:00:00        -9.05  1.230782e+09 -0.500000  0.866025 -0.030494   \n",
       "2009-01-01 05:00:00        -9.63  1.230786e+09  0.130526  0.991445 -0.032285   \n",
       "...                          ...           ...       ...       ...       ...   \n",
       "2016-12-31 19:10:00        -0.98  1.483211e+09 -0.021815  0.999762 -0.017250   \n",
       "2016-12-31 20:10:00        -1.40  1.483215e+09  0.591310  0.806445 -0.019041   \n",
       "2016-12-31 21:10:00        -2.75  1.483219e+09  0.960050  0.279829 -0.020833   \n",
       "2016-12-31 22:10:00        -2.89  1.483222e+09  0.932008 -0.362438 -0.022624   \n",
       "2016-12-31 23:10:00        -3.93  1.483226e+09  0.518773 -0.854912 -0.024416   \n",
       "\n",
       "                     Year cos  \n",
       "Date Time                      \n",
       "2009-01-01 01:00:00 -0.999684  \n",
       "2009-01-01 02:00:00 -0.999638  \n",
       "2009-01-01 03:00:00 -0.999588  \n",
       "2009-01-01 04:00:00 -0.999535  \n",
       "2009-01-01 05:00:00 -0.999479  \n",
       "...                       ...  \n",
       "2016-12-31 19:10:00 -0.999851  \n",
       "2016-12-31 20:10:00 -0.999819  \n",
       "2016-12-31 21:10:00 -0.999783  \n",
       "2016-12-31 22:10:00 -0.999744  \n",
       "2016-12-31 23:10:00 -0.999702  \n",
       "\n",
       "[70091 rows x 6 columns]"
      ]
     },
     "execution_count": 61,
     "metadata": {},
     "output_type": "execute_result"
    }
   ],
   "source": [
    "temp_df"
   ]
  },
  {
   "cell_type": "code",
   "execution_count": 62,
   "metadata": {},
   "outputs": [],
   "source": [
    "temp_df.drop(['Seconds'], axis=1, inplace=True)"
   ]
  },
  {
   "cell_type": "code",
   "execution_count": 63,
   "metadata": {},
   "outputs": [
    {
     "data": {
      "text/html": [
       "<div>\n",
       "<style scoped>\n",
       "    .dataframe tbody tr th:only-of-type {\n",
       "        vertical-align: middle;\n",
       "    }\n",
       "\n",
       "    .dataframe tbody tr th {\n",
       "        vertical-align: top;\n",
       "    }\n",
       "\n",
       "    .dataframe thead th {\n",
       "        text-align: right;\n",
       "    }\n",
       "</style>\n",
       "<table border=\"1\" class=\"dataframe\">\n",
       "  <thead>\n",
       "    <tr style=\"text-align: right;\">\n",
       "      <th></th>\n",
       "      <th>Temperature</th>\n",
       "      <th>Day sin</th>\n",
       "      <th>Day cos</th>\n",
       "      <th>Year sin</th>\n",
       "      <th>Year cos</th>\n",
       "    </tr>\n",
       "    <tr>\n",
       "      <th>Date Time</th>\n",
       "      <th></th>\n",
       "      <th></th>\n",
       "      <th></th>\n",
       "      <th></th>\n",
       "      <th></th>\n",
       "    </tr>\n",
       "  </thead>\n",
       "  <tbody>\n",
       "    <tr>\n",
       "      <th>2009-01-01 01:00:00</th>\n",
       "      <td>-8.05</td>\n",
       "      <td>-0.608761</td>\n",
       "      <td>-0.793353</td>\n",
       "      <td>-0.025121</td>\n",
       "      <td>-0.999684</td>\n",
       "    </tr>\n",
       "    <tr>\n",
       "      <th>2009-01-01 02:00:00</th>\n",
       "      <td>-8.88</td>\n",
       "      <td>-0.965926</td>\n",
       "      <td>-0.258819</td>\n",
       "      <td>-0.026912</td>\n",
       "      <td>-0.999638</td>\n",
       "    </tr>\n",
       "    <tr>\n",
       "      <th>2009-01-01 03:00:00</th>\n",
       "      <td>-8.81</td>\n",
       "      <td>-0.923880</td>\n",
       "      <td>0.382683</td>\n",
       "      <td>-0.028703</td>\n",
       "      <td>-0.999588</td>\n",
       "    </tr>\n",
       "    <tr>\n",
       "      <th>2009-01-01 04:00:00</th>\n",
       "      <td>-9.05</td>\n",
       "      <td>-0.500000</td>\n",
       "      <td>0.866025</td>\n",
       "      <td>-0.030494</td>\n",
       "      <td>-0.999535</td>\n",
       "    </tr>\n",
       "    <tr>\n",
       "      <th>2009-01-01 05:00:00</th>\n",
       "      <td>-9.63</td>\n",
       "      <td>0.130526</td>\n",
       "      <td>0.991445</td>\n",
       "      <td>-0.032285</td>\n",
       "      <td>-0.999479</td>\n",
       "    </tr>\n",
       "    <tr>\n",
       "      <th>...</th>\n",
       "      <td>...</td>\n",
       "      <td>...</td>\n",
       "      <td>...</td>\n",
       "      <td>...</td>\n",
       "      <td>...</td>\n",
       "    </tr>\n",
       "    <tr>\n",
       "      <th>2016-12-31 19:10:00</th>\n",
       "      <td>-0.98</td>\n",
       "      <td>-0.021815</td>\n",
       "      <td>0.999762</td>\n",
       "      <td>-0.017250</td>\n",
       "      <td>-0.999851</td>\n",
       "    </tr>\n",
       "    <tr>\n",
       "      <th>2016-12-31 20:10:00</th>\n",
       "      <td>-1.40</td>\n",
       "      <td>0.591310</td>\n",
       "      <td>0.806445</td>\n",
       "      <td>-0.019041</td>\n",
       "      <td>-0.999819</td>\n",
       "    </tr>\n",
       "    <tr>\n",
       "      <th>2016-12-31 21:10:00</th>\n",
       "      <td>-2.75</td>\n",
       "      <td>0.960050</td>\n",
       "      <td>0.279829</td>\n",
       "      <td>-0.020833</td>\n",
       "      <td>-0.999783</td>\n",
       "    </tr>\n",
       "    <tr>\n",
       "      <th>2016-12-31 22:10:00</th>\n",
       "      <td>-2.89</td>\n",
       "      <td>0.932008</td>\n",
       "      <td>-0.362438</td>\n",
       "      <td>-0.022624</td>\n",
       "      <td>-0.999744</td>\n",
       "    </tr>\n",
       "    <tr>\n",
       "      <th>2016-12-31 23:10:00</th>\n",
       "      <td>-3.93</td>\n",
       "      <td>0.518773</td>\n",
       "      <td>-0.854912</td>\n",
       "      <td>-0.024416</td>\n",
       "      <td>-0.999702</td>\n",
       "    </tr>\n",
       "  </tbody>\n",
       "</table>\n",
       "<p>70091 rows × 5 columns</p>\n",
       "</div>"
      ],
      "text/plain": [
       "                     Temperature   Day sin   Day cos  Year sin  Year cos\n",
       "Date Time                                                               \n",
       "2009-01-01 01:00:00        -8.05 -0.608761 -0.793353 -0.025121 -0.999684\n",
       "2009-01-01 02:00:00        -8.88 -0.965926 -0.258819 -0.026912 -0.999638\n",
       "2009-01-01 03:00:00        -8.81 -0.923880  0.382683 -0.028703 -0.999588\n",
       "2009-01-01 04:00:00        -9.05 -0.500000  0.866025 -0.030494 -0.999535\n",
       "2009-01-01 05:00:00        -9.63  0.130526  0.991445 -0.032285 -0.999479\n",
       "...                          ...       ...       ...       ...       ...\n",
       "2016-12-31 19:10:00        -0.98 -0.021815  0.999762 -0.017250 -0.999851\n",
       "2016-12-31 20:10:00        -1.40  0.591310  0.806445 -0.019041 -0.999819\n",
       "2016-12-31 21:10:00        -2.75  0.960050  0.279829 -0.020833 -0.999783\n",
       "2016-12-31 22:10:00        -2.89  0.932008 -0.362438 -0.022624 -0.999744\n",
       "2016-12-31 23:10:00        -3.93  0.518773 -0.854912 -0.024416 -0.999702\n",
       "\n",
       "[70091 rows x 5 columns]"
      ]
     },
     "execution_count": 63,
     "metadata": {},
     "output_type": "execute_result"
    }
   ],
   "source": [
    "temp_df"
   ]
  },
  {
   "cell_type": "code",
   "execution_count": 64,
   "metadata": {},
   "outputs": [],
   "source": [
    "#temp_df['Seconds'] = temp_df.index.map(pd.Timestamp.timestamp)\n"
   ]
  },
  {
   "cell_type": "code",
   "execution_count": 65,
   "metadata": {},
   "outputs": [
    {
     "data": {
      "text/html": [
       "<div>\n",
       "<style scoped>\n",
       "    .dataframe tbody tr th:only-of-type {\n",
       "        vertical-align: middle;\n",
       "    }\n",
       "\n",
       "    .dataframe tbody tr th {\n",
       "        vertical-align: top;\n",
       "    }\n",
       "\n",
       "    .dataframe thead th {\n",
       "        text-align: right;\n",
       "    }\n",
       "</style>\n",
       "<table border=\"1\" class=\"dataframe\">\n",
       "  <thead>\n",
       "    <tr style=\"text-align: right;\">\n",
       "      <th></th>\n",
       "      <th>Temperature</th>\n",
       "      <th>Day sin</th>\n",
       "      <th>Day cos</th>\n",
       "      <th>Year sin</th>\n",
       "      <th>Year cos</th>\n",
       "    </tr>\n",
       "    <tr>\n",
       "      <th>Date Time</th>\n",
       "      <th></th>\n",
       "      <th></th>\n",
       "      <th></th>\n",
       "      <th></th>\n",
       "      <th></th>\n",
       "    </tr>\n",
       "  </thead>\n",
       "  <tbody>\n",
       "    <tr>\n",
       "      <th>2009-01-01 01:00:00</th>\n",
       "      <td>-8.05</td>\n",
       "      <td>-0.608761</td>\n",
       "      <td>-0.793353</td>\n",
       "      <td>-0.025121</td>\n",
       "      <td>-0.999684</td>\n",
       "    </tr>\n",
       "    <tr>\n",
       "      <th>2009-01-01 02:00:00</th>\n",
       "      <td>-8.88</td>\n",
       "      <td>-0.965926</td>\n",
       "      <td>-0.258819</td>\n",
       "      <td>-0.026912</td>\n",
       "      <td>-0.999638</td>\n",
       "    </tr>\n",
       "    <tr>\n",
       "      <th>2009-01-01 03:00:00</th>\n",
       "      <td>-8.81</td>\n",
       "      <td>-0.923880</td>\n",
       "      <td>0.382683</td>\n",
       "      <td>-0.028703</td>\n",
       "      <td>-0.999588</td>\n",
       "    </tr>\n",
       "    <tr>\n",
       "      <th>2009-01-01 04:00:00</th>\n",
       "      <td>-9.05</td>\n",
       "      <td>-0.500000</td>\n",
       "      <td>0.866025</td>\n",
       "      <td>-0.030494</td>\n",
       "      <td>-0.999535</td>\n",
       "    </tr>\n",
       "    <tr>\n",
       "      <th>2009-01-01 05:00:00</th>\n",
       "      <td>-9.63</td>\n",
       "      <td>0.130526</td>\n",
       "      <td>0.991445</td>\n",
       "      <td>-0.032285</td>\n",
       "      <td>-0.999479</td>\n",
       "    </tr>\n",
       "  </tbody>\n",
       "</table>\n",
       "</div>"
      ],
      "text/plain": [
       "                     Temperature   Day sin   Day cos  Year sin  Year cos\n",
       "Date Time                                                               \n",
       "2009-01-01 01:00:00        -8.05 -0.608761 -0.793353 -0.025121 -0.999684\n",
       "2009-01-01 02:00:00        -8.88 -0.965926 -0.258819 -0.026912 -0.999638\n",
       "2009-01-01 03:00:00        -8.81 -0.923880  0.382683 -0.028703 -0.999588\n",
       "2009-01-01 04:00:00        -9.05 -0.500000  0.866025 -0.030494 -0.999535\n",
       "2009-01-01 05:00:00        -9.63  0.130526  0.991445 -0.032285 -0.999479"
      ]
     },
     "execution_count": 65,
     "metadata": {},
     "output_type": "execute_result"
    }
   ],
   "source": [
    "temp_df.head()"
   ]
  },
  {
   "cell_type": "code",
   "execution_count": 66,
   "metadata": {},
   "outputs": [],
   "source": [
    "#temp_df['Day cos'] = np.cos(temp_df['Seconds'] * (2 * np.pi / day))\n"
   ]
  },
  {
   "cell_type": "code",
   "execution_count": 67,
   "metadata": {},
   "outputs": [],
   "source": [
    "#Taking multiple variables instead of one for the time step:\n",
    "def df_to_x_y2(df, window_size=6):\n",
    "    df_as_numpy = df.to_numpy()\n",
    "    X = []\n",
    "    y = []\n",
    "    for i in range(len(df_as_numpy) - window_size):\n",
    "        row = [r for r in df_as_numpy[i:i+window_size]]\n",
    "        X.append(row)\n",
    "        label = df_as_numpy[i+window_size][0]\n",
    "        y.append(label)\n",
    "    return np.array(X), np.array(y)"
   ]
  },
  {
   "cell_type": "code",
   "execution_count": 68,
   "metadata": {},
   "outputs": [
    {
     "data": {
      "text/plain": [
       "((70085, 6, 5), (70085,))"
      ]
     },
     "execution_count": 68,
     "metadata": {},
     "output_type": "execute_result"
    }
   ],
   "source": [
    "X2, y2 = df_to_x_y2(temp_df)\n",
    "X2.shape, y2.shape"
   ]
  },
  {
   "cell_type": "code",
   "execution_count": 69,
   "metadata": {},
   "outputs": [],
   "source": [
    "X_train2 = X2[:60000]\n",
    "y_train2 = y2[:60000]\n",
    "X_val2 = X2[60000:65000]\n",
    "y_val2 = y2[60000:65000]\n",
    "X_test2 = X2[65000:]\n",
    "y_test2 = y2[65000:]"
   ]
  },
  {
   "cell_type": "code",
   "execution_count": 70,
   "metadata": {},
   "outputs": [
    {
     "data": {
      "text/plain": [
       "((60000, 6, 5), (60000,), (5000, 6, 5), (5000,), (5085, 6, 5), (5085,))"
      ]
     },
     "execution_count": 70,
     "metadata": {},
     "output_type": "execute_result"
    }
   ],
   "source": [
    "X_train2.shape, y_train2.shape, X_val2.shape, y_val2.shape, X_test2.shape, y_test2.shape"
   ]
  },
  {
   "cell_type": "code",
   "execution_count": 71,
   "metadata": {},
   "outputs": [],
   "source": [
    "X_train2 = torch.tensor(X_train2).float()\n",
    "y_train2 = torch.tensor(y_train2).float()\n",
    "X_val2 = torch.tensor(X_val2).float()\n",
    "y_val2 = torch.tensor(y_val2).float()\n",
    "X_test2 = torch.tensor(X_test2).float()\n",
    "y_test2 = torch.tensor(y_test2).float()"
   ]
  },
  {
   "cell_type": "code",
   "execution_count": 72,
   "metadata": {},
   "outputs": [],
   "source": [
    "X_train2_mean = torch.mean(X_train2[:, :, 0])\n",
    "X_train2_std = torch.std(X_train2[:, :, 0])\n"
   ]
  },
  {
   "cell_type": "code",
   "execution_count": 73,
   "metadata": {},
   "outputs": [],
   "source": [
    "def preprocess(X):\n",
    "    X[:, :, 0] = (X[:, :, 0] - X_train2_mean) / X_train2_std\n",
    "    return X"
   ]
  },
  {
   "cell_type": "code",
   "execution_count": 74,
   "metadata": {},
   "outputs": [
    {
     "data": {
      "text/plain": [
       "tensor([[[ 1.0401e+00,  1.3053e-01, -9.9144e-01,  1.9400e-01,  9.8100e-01],\n",
       "         [ 9.9073e-01, -5.0000e-01, -8.6603e-01,  1.9576e-01,  9.8065e-01],\n",
       "         [ 8.4969e-01, -9.2388e-01, -3.8268e-01,  1.9751e-01,  9.8030e-01],\n",
       "         [ 7.5566e-01, -9.6593e-01,  2.5882e-01,  1.9927e-01,  9.7994e-01],\n",
       "         [ 6.6634e-01, -6.0876e-01,  7.9335e-01,  2.0103e-01,  9.7959e-01],\n",
       "         [ 5.3705e-01, -1.7912e-11,  1.0000e+00,  2.0278e-01,  9.7922e-01]],\n",
       "\n",
       "        [[ 9.9073e-01, -5.0000e-01, -8.6603e-01,  1.9576e-01,  9.8065e-01],\n",
       "         [ 8.4969e-01, -9.2388e-01, -3.8268e-01,  1.9751e-01,  9.8030e-01],\n",
       "         [ 7.5566e-01, -9.6593e-01,  2.5882e-01,  1.9927e-01,  9.7994e-01],\n",
       "         [ 6.6634e-01, -6.0876e-01,  7.9335e-01,  2.0103e-01,  9.7959e-01],\n",
       "         [ 5.3705e-01, -1.7912e-11,  1.0000e+00,  2.0278e-01,  9.7922e-01],\n",
       "         [ 4.7476e-01,  6.0876e-01,  7.9335e-01,  2.0454e-01,  9.7886e-01]],\n",
       "\n",
       "        [[ 8.4969e-01, -9.2388e-01, -3.8268e-01,  1.9751e-01,  9.8030e-01],\n",
       "         [ 7.5566e-01, -9.6593e-01,  2.5882e-01,  1.9927e-01,  9.7994e-01],\n",
       "         [ 6.6634e-01, -6.0876e-01,  7.9335e-01,  2.0103e-01,  9.7959e-01],\n",
       "         [ 5.3705e-01, -1.7912e-11,  1.0000e+00,  2.0278e-01,  9.7922e-01],\n",
       "         [ 4.7476e-01,  6.0876e-01,  7.9335e-01,  2.0454e-01,  9.7886e-01],\n",
       "         [ 4.1247e-01,  9.6593e-01,  2.5882e-01,  2.0629e-01,  9.7849e-01]],\n",
       "\n",
       "        ...,\n",
       "\n",
       "        [[-5.2310e-01, -4.8099e-01, -8.7673e-01, -1.0083e-02, -9.9995e-01],\n",
       "         [-8.2046e-01, -9.1531e-01, -4.0275e-01, -1.1874e-02, -9.9993e-01],\n",
       "         [-9.5563e-01, -9.7134e-01,  2.3769e-01, -1.3666e-02, -9.9991e-01],\n",
       "         [-1.1566e+00, -6.2592e-01,  7.7988e-01, -1.5458e-02, -9.9988e-01],\n",
       "         [-1.2224e+00, -2.1815e-02,  9.9976e-01, -1.7250e-02, -9.9985e-01],\n",
       "         [-1.2718e+00,  5.9131e-01,  8.0644e-01, -1.9041e-02, -9.9982e-01]],\n",
       "\n",
       "        [[-8.2046e-01, -9.1531e-01, -4.0275e-01, -1.1874e-02, -9.9993e-01],\n",
       "         [-9.5563e-01, -9.7134e-01,  2.3769e-01, -1.3666e-02, -9.9991e-01],\n",
       "         [-1.1566e+00, -6.2592e-01,  7.7988e-01, -1.5458e-02, -9.9988e-01],\n",
       "         [-1.2224e+00, -2.1815e-02,  9.9976e-01, -1.7250e-02, -9.9985e-01],\n",
       "         [-1.2718e+00,  5.9131e-01,  8.0644e-01, -1.9041e-02, -9.9982e-01],\n",
       "         [-1.4305e+00,  9.6005e-01,  2.7983e-01, -2.0833e-02, -9.9978e-01]],\n",
       "\n",
       "        [[-9.5563e-01, -9.7134e-01,  2.3769e-01, -1.3666e-02, -9.9991e-01],\n",
       "         [-1.1566e+00, -6.2592e-01,  7.7988e-01, -1.5458e-02, -9.9988e-01],\n",
       "         [-1.2224e+00, -2.1815e-02,  9.9976e-01, -1.7250e-02, -9.9985e-01],\n",
       "         [-1.2718e+00,  5.9131e-01,  8.0644e-01, -1.9041e-02, -9.9982e-01],\n",
       "         [-1.4305e+00,  9.6005e-01,  2.7983e-01, -2.0833e-02, -9.9978e-01],\n",
       "         [-1.4469e+00,  9.3201e-01, -3.6244e-01, -2.2625e-02, -9.9974e-01]]])"
      ]
     },
     "execution_count": 74,
     "metadata": {},
     "output_type": "execute_result"
    }
   ],
   "source": [
    "preprocess(X_train2)\n",
    "preprocess(X_val2)\n",
    "preprocess(X_test2)"
   ]
  },
  {
   "cell_type": "code",
   "execution_count": 75,
   "metadata": {},
   "outputs": [],
   "source": [
    "train2 = TensorDataset(X_train2, y_train2)\n",
    "val2 = TensorDataset(X_val2, y_val2)\n",
    "test2 = TensorDataset(X_test2, y_test2)"
   ]
  },
  {
   "cell_type": "code",
   "execution_count": 76,
   "metadata": {},
   "outputs": [],
   "source": [
    "train_dataloader2 = DataLoader(train2, batch_size=32, shuffle=False)\n",
    "val_dataloader2 = DataLoader(val2, batch_size=1, shuffle=False)\n",
    "test_dataloader2 = DataLoader(test2, batch_size=1, shuffle=False)"
   ]
  },
  {
   "cell_type": "code",
   "execution_count": 77,
   "metadata": {},
   "outputs": [
    {
     "data": {
      "text/plain": [
       "torch.Size([5085, 6, 5])"
      ]
     },
     "execution_count": 77,
     "metadata": {},
     "output_type": "execute_result"
    }
   ],
   "source": [
    "X_test2.shape"
   ]
  },
  {
   "cell_type": "code",
   "execution_count": 78,
   "metadata": {},
   "outputs": [],
   "source": [
    "model4 = Forecast(input_size=5, hidden_size=64, num_layers=1, output_size=1).to(device)"
   ]
  },
  {
   "cell_type": "code",
   "execution_count": 79,
   "metadata": {},
   "outputs": [
    {
     "data": {
      "application/vnd.jupyter.widget-view+json": {
       "model_id": "f8374d0f38904121b1e16bdc9e57f7b7",
       "version_major": 2,
       "version_minor": 0
      },
      "text/plain": [
       "Epoch 20:   0%|          | 0/1875 [00:00<?, ?batch/s]"
      ]
     },
     "metadata": {},
     "output_type": "display_data"
    },
    {
     "name": "stdout",
     "output_type": "stream",
     "text": [
      "torch.Size([32, 6, 5])\n"
     ]
    }
   ],
   "source": [
    "for batch_idx, (data, target) in enumerate(tqdm(train_dataloader2, desc=f'Epoch {epoch+1}', unit='batch')):\n",
    "        data = data.to(device)\n",
    "        target = target.to(device)\n",
    "print(data.shape)"
   ]
  },
  {
   "cell_type": "code",
   "execution_count": 80,
   "metadata": {},
   "outputs": [
    {
     "data": {
      "text/plain": [
       "'class Forecast(nn.Module):\\n    def __init__(self, input_size, hidden_size, num_layers, output_size):\\n        super(Forecast, self).__init__()\\n        self.hidden_size = hidden_size\\n        self.num_layers = num_layers\\n        self.lstm = nn.LSTM(input_size, self.hidden_size, self.num_layers, batch_first=True)\\n        self.linear_1 = nn.Linear(hidden_size, 8)\\n        self.linear_2 = nn.Linear(8, output_size)\\n        self.relu= nn.ReLU()\\n        \\n    def forward(self, x):\\n        h0 = torch.zeros(self.num_layers, x.size(0), self.hidden_size).to(device).float()\\n        c0 = torch.zeros(self.num_layers, x.size(0), self.hidden_size).to(device).float()\\n        \\n        out, _ = self.lstm(x, (h0, c0))\\n        out = out[:, -1, :]\\n        out = self.relu(self.linear_1(out))\\n        out = self.linear_2(out)\\n        return out'"
      ]
     },
     "execution_count": 80,
     "metadata": {},
     "output_type": "execute_result"
    }
   ],
   "source": [
    "'''class Forecast(nn.Module):\n",
    "    def __init__(self, input_size, hidden_size, num_layers, output_size):\n",
    "        super(Forecast, self).__init__()\n",
    "        self.hidden_size = hidden_size\n",
    "        self.num_layers = num_layers\n",
    "        self.lstm = nn.LSTM(input_size, self.hidden_size, self.num_layers, batch_first=True)\n",
    "        self.linear_1 = nn.Linear(hidden_size, 8)\n",
    "        self.linear_2 = nn.Linear(8, output_size)\n",
    "        self.relu= nn.ReLU()\n",
    "        \n",
    "    def forward(self, x):\n",
    "        h0 = torch.zeros(self.num_layers, x.size(0), self.hidden_size).to(device).float()\n",
    "        c0 = torch.zeros(self.num_layers, x.size(0), self.hidden_size).to(device).float()\n",
    "        \n",
    "        out, _ = self.lstm(x, (h0, c0))\n",
    "        out = out[:, -1, :]\n",
    "        out = self.relu(self.linear_1(out))\n",
    "        out = self.linear_2(out)\n",
    "        return out'''"
   ]
  },
  {
   "cell_type": "code",
   "execution_count": 81,
   "metadata": {},
   "outputs": [],
   "source": [
    "criterion4 = nn.MSELoss()\n",
    "optimizer4 = torch.optim.Adam(params=model4.parameters(), lr=0.0001)"
   ]
  },
  {
   "cell_type": "code",
   "execution_count": 82,
   "metadata": {},
   "outputs": [
    {
     "data": {
      "application/vnd.jupyter.widget-view+json": {
       "model_id": "d59abc5a997744cb967897f37f27d0dc",
       "version_major": 2,
       "version_minor": 0
      },
      "text/plain": [
       "Epoch 1:   0%|          | 0/1875 [00:00<?, ?batch/s]"
      ]
     },
     "metadata": {},
     "output_type": "display_data"
    },
    {
     "name": "stdout",
     "output_type": "stream",
     "text": [
      "Epoch: 0, Step: 0, Loss: 0.0138441650390625\n"
     ]
    },
    {
     "data": {
      "application/vnd.jupyter.widget-view+json": {
       "model_id": "d6d8c59bc9004e7fb289b7b496c6e439",
       "version_major": 2,
       "version_minor": 0
      },
      "text/plain": [
       "Epoch 2:   0%|          | 0/1875 [00:00<?, ?batch/s]"
      ]
     },
     "metadata": {},
     "output_type": "display_data"
    },
    {
     "name": "stdout",
     "output_type": "stream",
     "text": [
      "Epoch: 1, Step: 0, Loss: 163.59389602399668\n"
     ]
    },
    {
     "data": {
      "application/vnd.jupyter.widget-view+json": {
       "model_id": "f5820b45d864496cab82025ce55916d8",
       "version_major": 2,
       "version_minor": 0
      },
      "text/plain": [
       "Epoch 3:   0%|          | 0/1875 [00:00<?, ?batch/s]"
      ]
     },
     "metadata": {},
     "output_type": "display_data"
    },
    {
     "name": "stdout",
     "output_type": "stream",
     "text": [
      "Epoch: 2, Step: 0, Loss: 159.06303252141873\n"
     ]
    },
    {
     "data": {
      "application/vnd.jupyter.widget-view+json": {
       "model_id": "5fee409b75704ca79db1167e089bdecd",
       "version_major": 2,
       "version_minor": 0
      },
      "text/plain": [
       "Epoch 4:   0%|          | 0/1875 [00:00<?, ?batch/s]"
      ]
     },
     "metadata": {},
     "output_type": "display_data"
    },
    {
     "name": "stdout",
     "output_type": "stream",
     "text": [
      "Epoch: 3, Step: 0, Loss: 154.79160470589795\n"
     ]
    },
    {
     "data": {
      "application/vnd.jupyter.widget-view+json": {
       "model_id": "1382229de08b47718821918d901b9146",
       "version_major": 2,
       "version_minor": 0
      },
      "text/plain": [
       "Epoch 5:   0%|          | 0/1875 [00:00<?, ?batch/s]"
      ]
     },
     "metadata": {},
     "output_type": "display_data"
    },
    {
     "name": "stdout",
     "output_type": "stream",
     "text": [
      "Epoch: 4, Step: 0, Loss: 151.61682780255475\n"
     ]
    },
    {
     "data": {
      "application/vnd.jupyter.widget-view+json": {
       "model_id": "a9f17259e96f4d02bad74cabc1c6f38e",
       "version_major": 2,
       "version_minor": 0
      },
      "text/plain": [
       "Epoch 6:   0%|          | 0/1875 [00:00<?, ?batch/s]"
      ]
     },
     "metadata": {},
     "output_type": "display_data"
    },
    {
     "name": "stdout",
     "output_type": "stream",
     "text": [
      "Epoch: 5, Step: 0, Loss: 148.5922840756496\n"
     ]
    },
    {
     "data": {
      "application/vnd.jupyter.widget-view+json": {
       "model_id": "594ab6c4a79e4d7a8c8d6e3e4ebb59ee",
       "version_major": 2,
       "version_minor": 0
      },
      "text/plain": [
       "Epoch 7:   0%|          | 0/1875 [00:00<?, ?batch/s]"
      ]
     },
     "metadata": {},
     "output_type": "display_data"
    },
    {
     "name": "stdout",
     "output_type": "stream",
     "text": [
      "Epoch: 6, Step: 0, Loss: 145.64873402072985\n"
     ]
    },
    {
     "data": {
      "application/vnd.jupyter.widget-view+json": {
       "model_id": "426cb64fb1254cf5b47bae4ef7b9316b",
       "version_major": 2,
       "version_minor": 0
      },
      "text/plain": [
       "Epoch 8:   0%|          | 0/1875 [00:00<?, ?batch/s]"
      ]
     },
     "metadata": {},
     "output_type": "display_data"
    },
    {
     "name": "stdout",
     "output_type": "stream",
     "text": [
      "Epoch: 7, Step: 0, Loss: 142.76985858896177\n"
     ]
    },
    {
     "data": {
      "application/vnd.jupyter.widget-view+json": {
       "model_id": "a0c7f71c1cf0411298cc0d54914e6a7d",
       "version_major": 2,
       "version_minor": 0
      },
      "text/plain": [
       "Epoch 9:   0%|          | 0/1875 [00:00<?, ?batch/s]"
      ]
     },
     "metadata": {},
     "output_type": "display_data"
    },
    {
     "name": "stdout",
     "output_type": "stream",
     "text": [
      "Epoch: 8, Step: 0, Loss: 139.94898551361163\n"
     ]
    },
    {
     "data": {
      "application/vnd.jupyter.widget-view+json": {
       "model_id": "5a0cacba16f64c979866b5b00075b52a",
       "version_major": 2,
       "version_minor": 0
      },
      "text/plain": [
       "Epoch 10:   0%|          | 0/1875 [00:00<?, ?batch/s]"
      ]
     },
     "metadata": {},
     "output_type": "display_data"
    },
    {
     "name": "stdout",
     "output_type": "stream",
     "text": [
      "Epoch: 9, Step: 0, Loss: 137.1861844262918\n"
     ]
    },
    {
     "data": {
      "application/vnd.jupyter.widget-view+json": {
       "model_id": "78f9919299b5414c9ee9cabe70a1baee",
       "version_major": 2,
       "version_minor": 0
      },
      "text/plain": [
       "Epoch 11:   0%|          | 0/1875 [00:00<?, ?batch/s]"
      ]
     },
     "metadata": {},
     "output_type": "display_data"
    },
    {
     "name": "stdout",
     "output_type": "stream",
     "text": [
      "Epoch: 10, Step: 0, Loss: 134.4759256245653\n"
     ]
    },
    {
     "data": {
      "application/vnd.jupyter.widget-view+json": {
       "model_id": "7461a1a3b4094a5b98f16697eac681cf",
       "version_major": 2,
       "version_minor": 0
      },
      "text/plain": [
       "Epoch 12:   0%|          | 0/1875 [00:00<?, ?batch/s]"
      ]
     },
     "metadata": {},
     "output_type": "display_data"
    },
    {
     "name": "stdout",
     "output_type": "stream",
     "text": [
      "Epoch: 11, Step: 0, Loss: 131.817484077696\n"
     ]
    },
    {
     "data": {
      "application/vnd.jupyter.widget-view+json": {
       "model_id": "ddc1f24eb0bd4057aaaabb1f8fcdc169",
       "version_major": 2,
       "version_minor": 0
      },
      "text/plain": [
       "Epoch 13:   0%|          | 0/1875 [00:00<?, ?batch/s]"
      ]
     },
     "metadata": {},
     "output_type": "display_data"
    },
    {
     "name": "stdout",
     "output_type": "stream",
     "text": [
      "Epoch: 12, Step: 0, Loss: 129.20741614317694\n"
     ]
    },
    {
     "data": {
      "application/vnd.jupyter.widget-view+json": {
       "model_id": "4546cd09d54e4d96828ee52fad6793ac",
       "version_major": 2,
       "version_minor": 0
      },
      "text/plain": [
       "Epoch 14:   0%|          | 0/1875 [00:00<?, ?batch/s]"
      ]
     },
     "metadata": {},
     "output_type": "display_data"
    },
    {
     "name": "stdout",
     "output_type": "stream",
     "text": [
      "Epoch: 13, Step: 0, Loss: 126.64441404994527\n"
     ]
    },
    {
     "data": {
      "application/vnd.jupyter.widget-view+json": {
       "model_id": "6f430b59670a409d9b30856aae2079d4",
       "version_major": 2,
       "version_minor": 0
      },
      "text/plain": [
       "Epoch 15:   0%|          | 0/1875 [00:00<?, ?batch/s]"
      ]
     },
     "metadata": {},
     "output_type": "display_data"
    },
    {
     "name": "stdout",
     "output_type": "stream",
     "text": [
      "Epoch: 14, Step: 0, Loss: 124.12676343660156\n"
     ]
    },
    {
     "data": {
      "application/vnd.jupyter.widget-view+json": {
       "model_id": "75b3425702df4d56850541c34f5b31a0",
       "version_major": 2,
       "version_minor": 0
      },
      "text/plain": [
       "Epoch 16:   0%|          | 0/1875 [00:00<?, ?batch/s]"
      ]
     },
     "metadata": {},
     "output_type": "display_data"
    },
    {
     "name": "stdout",
     "output_type": "stream",
     "text": [
      "Epoch: 15, Step: 0, Loss: 121.6529276514848\n"
     ]
    },
    {
     "data": {
      "application/vnd.jupyter.widget-view+json": {
       "model_id": "af8ca1d476a54dbfb1758d1f0efdcd67",
       "version_major": 2,
       "version_minor": 0
      },
      "text/plain": [
       "Epoch 17:   0%|          | 0/1875 [00:00<?, ?batch/s]"
      ]
     },
     "metadata": {},
     "output_type": "display_data"
    },
    {
     "name": "stdout",
     "output_type": "stream",
     "text": [
      "Epoch: 16, Step: 0, Loss: 119.2226487911274\n"
     ]
    },
    {
     "data": {
      "application/vnd.jupyter.widget-view+json": {
       "model_id": "f4ed5a29ee4c473d8ce9426d99f22e85",
       "version_major": 2,
       "version_minor": 0
      },
      "text/plain": [
       "Epoch 18:   0%|          | 0/1875 [00:00<?, ?batch/s]"
      ]
     },
     "metadata": {},
     "output_type": "display_data"
    },
    {
     "name": "stdout",
     "output_type": "stream",
     "text": [
      "Epoch: 17, Step: 0, Loss: 116.83362103543878\n"
     ]
    },
    {
     "data": {
      "application/vnd.jupyter.widget-view+json": {
       "model_id": "aa0659714af345a9876028c54f33d86c",
       "version_major": 2,
       "version_minor": 0
      },
      "text/plain": [
       "Epoch 19:   0%|          | 0/1875 [00:00<?, ?batch/s]"
      ]
     },
     "metadata": {},
     "output_type": "display_data"
    },
    {
     "name": "stdout",
     "output_type": "stream",
     "text": [
      "Epoch: 18, Step: 0, Loss: 114.48510806171596\n"
     ]
    },
    {
     "data": {
      "application/vnd.jupyter.widget-view+json": {
       "model_id": "3dd3a07438914f75b176414fded97bb8",
       "version_major": 2,
       "version_minor": 0
      },
      "text/plain": [
       "Epoch 20:   0%|          | 0/1875 [00:00<?, ?batch/s]"
      ]
     },
     "metadata": {},
     "output_type": "display_data"
    },
    {
     "name": "stdout",
     "output_type": "stream",
     "text": [
      "Epoch: 19, Step: 0, Loss: 112.17601324450821\n",
      "Loss: 83.86783708556473\n"
     ]
    }
   ],
   "source": [
    "#training loop for model4\n",
    "model4.train()\n",
    "running_loss = 0\n",
    "total_loss = 0\n",
    "\n",
    "for epoch in range(N_EPOCHS):\n",
    "    for batch_idx, (data, target) in enumerate(tqdm(train_dataloader2, desc=f'Epoch {epoch+1}', unit='batch')):\n",
    "        data = data.to(device)\n",
    "        target = target.to(device)\n",
    "\n",
    "        optimizer4.zero_grad()\n",
    "        \n",
    "        outputs = model4(data)\n",
    "        loss = criterion4(outputs.view(-1), target)\n",
    "        \n",
    "        loss.backward()\n",
    "\n",
    "        optimizer4.step()\n",
    "\n",
    "        running_loss += loss.item()\n",
    "        total_loss += loss.item()\n",
    "\n",
    "        if batch_idx == 0:\n",
    "            print(f'Epoch: {epoch}, Step: {batch_idx}, Loss: {running_loss/len(train_dataloader2)}')\n",
    "            running_loss = 0\n",
    "    \n",
    "print('Loss:', total_loss/len(train_dataloader2.dataset))"
   ]
  },
  {
   "cell_type": "code",
   "execution_count": 83,
   "metadata": {},
   "outputs": [
    {
     "data": {
      "application/vnd.jupyter.widget-view+json": {
       "model_id": "18d048ddc93c4403a70034739911bbe8",
       "version_major": 2,
       "version_minor": 0
      },
      "text/plain": [
       "  0%|          | 0/5085 [00:00<?, ?batch/s]"
      ]
     },
     "metadata": {},
     "output_type": "display_data"
    },
    {
     "data": {
      "text/plain": [
       "(      Predictions  Actuals\n",
       " 0        2.738438    13.46\n",
       " 1        2.738438    12.93\n",
       " 2        2.738438    12.43\n",
       " 3        2.738438    12.17\n",
       " 4        2.738438    11.55\n",
       " ...           ...      ...\n",
       " 5080     1.458862    -0.98\n",
       " 5081     0.151845    -1.40\n",
       " 5082    -0.756858    -2.75\n",
       " 5083    -1.513993    -2.89\n",
       " 5084    -2.074824    -3.93\n",
       " \n",
       " [5085 rows x 2 columns],\n",
       " 165.84082160739106)"
      ]
     },
     "execution_count": 83,
     "metadata": {},
     "output_type": "execute_result"
    },
    {
     "data": {
      "image/png": "[encoded data removed]",
      "text/plain": [
       "<Figure size 640x480 with 1 Axes>"
      ]
     },
     "metadata": {},
     "output_type": "display_data"
    }
   ],
   "source": [
    "plot_predictions1(model4, test_dataloader2)"
   ]
  },
  {
   "cell_type": "code",
   "execution_count": 84,
   "metadata": {},
   "outputs": [
    {
     "data": {
      "text/html": [
       "<div>\n",
       "<style scoped>\n",
       "    .dataframe tbody tr th:only-of-type {\n",
       "        vertical-align: middle;\n",
       "    }\n",
       "\n",
       "    .dataframe tbody tr th {\n",
       "        vertical-align: top;\n",
       "    }\n",
       "\n",
       "    .dataframe thead th {\n",
       "        text-align: right;\n",
       "    }\n",
       "</style>\n",
       "<table border=\"1\" class=\"dataframe\">\n",
       "  <thead>\n",
       "    <tr style=\"text-align: right;\">\n",
       "      <th></th>\n",
       "      <th>p (mbar)</th>\n",
       "      <th>Temperature</th>\n",
       "      <th>Day sin</th>\n",
       "      <th>Day cos</th>\n",
       "      <th>Year sin</th>\n",
       "      <th>Year cos</th>\n",
       "    </tr>\n",
       "    <tr>\n",
       "      <th>Date Time</th>\n",
       "      <th></th>\n",
       "      <th></th>\n",
       "      <th></th>\n",
       "      <th></th>\n",
       "      <th></th>\n",
       "      <th></th>\n",
       "    </tr>\n",
       "  </thead>\n",
       "  <tbody>\n",
       "    <tr>\n",
       "      <th>2009-01-01 01:00:00</th>\n",
       "      <td>996.50</td>\n",
       "      <td>-8.05</td>\n",
       "      <td>-0.608761</td>\n",
       "      <td>-0.793353</td>\n",
       "      <td>-0.025121</td>\n",
       "      <td>-0.999684</td>\n",
       "    </tr>\n",
       "    <tr>\n",
       "      <th>2009-01-01 02:00:00</th>\n",
       "      <td>996.62</td>\n",
       "      <td>-8.88</td>\n",
       "      <td>-0.965926</td>\n",
       "      <td>-0.258819</td>\n",
       "      <td>-0.026912</td>\n",
       "      <td>-0.999638</td>\n",
       "    </tr>\n",
       "    <tr>\n",
       "      <th>2009-01-01 03:00:00</th>\n",
       "      <td>996.84</td>\n",
       "      <td>-8.81</td>\n",
       "      <td>-0.923880</td>\n",
       "      <td>0.382683</td>\n",
       "      <td>-0.028703</td>\n",
       "      <td>-0.999588</td>\n",
       "    </tr>\n",
       "    <tr>\n",
       "      <th>2009-01-01 04:00:00</th>\n",
       "      <td>996.99</td>\n",
       "      <td>-9.05</td>\n",
       "      <td>-0.500000</td>\n",
       "      <td>0.866025</td>\n",
       "      <td>-0.030494</td>\n",
       "      <td>-0.999535</td>\n",
       "    </tr>\n",
       "    <tr>\n",
       "      <th>2009-01-01 05:00:00</th>\n",
       "      <td>997.46</td>\n",
       "      <td>-9.63</td>\n",
       "      <td>0.130526</td>\n",
       "      <td>0.991445</td>\n",
       "      <td>-0.032285</td>\n",
       "      <td>-0.999479</td>\n",
       "    </tr>\n",
       "  </tbody>\n",
       "</table>\n",
       "</div>"
      ],
      "text/plain": [
       "                     p (mbar)  Temperature   Day sin   Day cos  Year sin  \\\n",
       "Date Time                                                                  \n",
       "2009-01-01 01:00:00    996.50        -8.05 -0.608761 -0.793353 -0.025121   \n",
       "2009-01-01 02:00:00    996.62        -8.88 -0.965926 -0.258819 -0.026912   \n",
       "2009-01-01 03:00:00    996.84        -8.81 -0.923880  0.382683 -0.028703   \n",
       "2009-01-01 04:00:00    996.99        -9.05 -0.500000  0.866025 -0.030494   \n",
       "2009-01-01 05:00:00    997.46        -9.63  0.130526  0.991445 -0.032285   \n",
       "\n",
       "                     Year cos  \n",
       "Date Time                      \n",
       "2009-01-01 01:00:00 -0.999684  \n",
       "2009-01-01 02:00:00 -0.999638  \n",
       "2009-01-01 03:00:00 -0.999588  \n",
       "2009-01-01 04:00:00 -0.999535  \n",
       "2009-01-01 05:00:00 -0.999479  "
      ]
     },
     "execution_count": 84,
     "metadata": {},
     "output_type": "execute_result"
    }
   ],
   "source": [
    "p_temp_df = pd.concat([df['p (mbar)'], temp_df], axis=1)\n",
    "p_temp_df.head()"
   ]
  },
  {
   "cell_type": "code",
   "execution_count": 85,
   "metadata": {},
   "outputs": [],
   "source": [
    "#Taking multiple variables instead of one for the time step:\n",
    "def df_to_x_y3(df, window_size=7):\n",
    "    df_as_numpy = df.to_numpy()\n",
    "    X = []\n",
    "    y = []\n",
    "    for i in range(len(df_as_numpy) - window_size):\n",
    "        row = [r for r in df_as_numpy[i:i+window_size]]\n",
    "        X.append(row)\n",
    "        label = [df_as_numpy[i+window_size][0], df_as_numpy[i+window_size][1]]\n",
    "        y.append(label)\n",
    "    return np.array(X), np.array(y)"
   ]
  },
  {
   "cell_type": "code",
   "execution_count": 86,
   "metadata": {},
   "outputs": [],
   "source": [
    "X3, y3 = df_to_x_y3(p_temp_df)"
   ]
  },
  {
   "cell_type": "code",
   "execution_count": 87,
   "metadata": {},
   "outputs": [
    {
     "data": {
      "text/plain": [
       "((70084, 7, 6), (70084, 2))"
      ]
     },
     "execution_count": 87,
     "metadata": {},
     "output_type": "execute_result"
    }
   ],
   "source": [
    "X3.shape, y3.shape"
   ]
  },
  {
   "cell_type": "code",
   "execution_count": 88,
   "metadata": {},
   "outputs": [],
   "source": [
    "X3_train = X3[:60000]\n",
    "y3_train = y3[:60000]\n",
    "X3_val = X3[60000:65000]\n",
    "y3_val = y3[60000:65000]\n",
    "X3_test = X3[65000:]\n",
    "y3_test = y3[65000:]"
   ]
  },
  {
   "cell_type": "code",
   "execution_count": 89,
   "metadata": {},
   "outputs": [],
   "source": [
    "X3_train = torch.tensor(X3_train).float()\n",
    "y3_train = torch.tensor(y3_train).float()\n",
    "X3_val = torch.tensor(X3_val).float()\n",
    "y3_val = torch.tensor(y3_val).float()\n",
    "X3_test = torch.tensor(X3_test).float()\n",
    "y3_test = torch.tensor(y3_test).float()"
   ]
  },
  {
   "cell_type": "code",
   "execution_count": 90,
   "metadata": {},
   "outputs": [],
   "source": [
    "p_training_mean3 = torch.mean(X3_train[:, :, 0])\n",
    "p_training_std3 = torch.std(X3_train[:, :, 0])\n",
    "temp_training_mean3 = torch.mean(X3_train[:, :, 1])\n",
    "temp_training_std3 = torch.std(X3_train[:, :, 1])\n",
    "def preprocess2(X):\n",
    "    X[:, :, 0] = (X[:, :, 0] - p_training_mean3) / p_training_std3\n",
    "    X[:, :, 1] = (X[:, :, 1] - temp_training_mean3) / temp_training_std3\n",
    "    return X"
   ]
  },
  {
   "cell_type": "code",
   "execution_count": 91,
   "metadata": {},
   "outputs": [
    {
     "data": {
      "text/plain": [
       "tensor([[[ 9.1274e-01, -2.0535e+00, -6.0876e-01, -7.9335e-01, -2.5121e-02,\n",
       "          -9.9968e-01],\n",
       "         [ 9.2729e-01, -2.1510e+00, -9.6593e-01, -2.5882e-01, -2.6912e-02,\n",
       "          -9.9964e-01],\n",
       "         [ 9.5398e-01, -2.1428e+00, -9.2388e-01,  3.8268e-01, -2.8703e-02,\n",
       "          -9.9959e-01],\n",
       "         ...,\n",
       "         [ 1.0292e+00, -2.2392e+00,  1.3053e-01,  9.9144e-01, -3.2285e-02,\n",
       "          -9.9948e-01],\n",
       "         [ 1.0595e+00, -2.2439e+00,  7.0711e-01,  7.0711e-01, -3.4076e-02,\n",
       "          -9.9942e-01],\n",
       "         [ 1.1347e+00, -2.1851e+00,  9.9144e-01,  1.3053e-01, -3.5867e-02,\n",
       "          -9.9936e-01]],\n",
       "\n",
       "        [[ 9.2729e-01, -2.1510e+00, -9.6593e-01, -2.5882e-01, -2.6912e-02,\n",
       "          -9.9964e-01],\n",
       "         [ 9.5398e-01, -2.1428e+00, -9.2388e-01,  3.8268e-01, -2.8703e-02,\n",
       "          -9.9959e-01],\n",
       "         [ 9.7216e-01, -2.1710e+00, -5.0000e-01,  8.6603e-01, -3.0494e-02,\n",
       "          -9.9953e-01],\n",
       "         ...,\n",
       "         [ 1.0595e+00, -2.2439e+00,  7.0711e-01,  7.0711e-01, -3.4076e-02,\n",
       "          -9.9942e-01],\n",
       "         [ 1.1347e+00, -2.1851e+00,  9.9144e-01,  1.3053e-01, -3.5867e-02,\n",
       "          -9.9936e-01],\n",
       "         [ 1.2365e+00, -2.0593e+00,  8.6603e-01, -5.0000e-01, -3.7658e-02,\n",
       "          -9.9929e-01]],\n",
       "\n",
       "        [[ 9.5398e-01, -2.1428e+00, -9.2388e-01,  3.8268e-01, -2.8703e-02,\n",
       "          -9.9959e-01],\n",
       "         [ 9.7216e-01, -2.1710e+00, -5.0000e-01,  8.6603e-01, -3.0494e-02,\n",
       "          -9.9953e-01],\n",
       "         [ 1.0292e+00, -2.2392e+00,  1.3053e-01,  9.9144e-01, -3.2285e-02,\n",
       "          -9.9948e-01],\n",
       "         ...,\n",
       "         [ 1.1347e+00, -2.1851e+00,  9.9144e-01,  1.3053e-01, -3.5867e-02,\n",
       "          -9.9936e-01],\n",
       "         [ 1.2365e+00, -2.0593e+00,  8.6603e-01, -5.0000e-01, -3.7658e-02,\n",
       "          -9.9929e-01],\n",
       "         [ 1.2996e+00, -2.0076e+00,  3.8268e-01, -9.2388e-01, -3.9449e-02,\n",
       "          -9.9922e-01]],\n",
       "\n",
       "        ...,\n",
       "\n",
       "        [[ 6.8477e-01, -8.6987e-01,  8.6603e-01, -5.0000e-01, -6.0905e-01,\n",
       "          -7.9313e-01],\n",
       "         [ 7.3570e-01, -8.4048e-01,  3.8268e-01, -9.2388e-01, -6.1047e-01,\n",
       "          -7.9204e-01],\n",
       "         [ 7.1993e-01, -5.5370e-01, -2.5882e-01, -9.6593e-01, -6.1189e-01,\n",
       "          -7.9095e-01],\n",
       "         ...,\n",
       "         [ 6.7507e-01,  5.3965e-02, -1.0000e+00, -2.8444e-11, -6.1472e-01,\n",
       "          -7.8875e-01],\n",
       "         [ 6.5203e-01,  4.8297e-01, -7.9335e-01,  6.0876e-01, -6.1613e-01,\n",
       "          -7.8764e-01],\n",
       "         [ 6.1443e-01,  7.0629e-01, -2.5882e-01,  9.6593e-01, -6.1754e-01,\n",
       "          -7.8654e-01]],\n",
       "\n",
       "        [[ 7.3570e-01, -8.4048e-01,  3.8268e-01, -9.2388e-01, -6.1047e-01,\n",
       "          -7.9204e-01],\n",
       "         [ 7.1993e-01, -5.5370e-01, -2.5882e-01, -9.6593e-01, -6.1189e-01,\n",
       "          -7.9095e-01],\n",
       "         [ 7.0296e-01, -3.9385e-01, -7.9335e-01, -6.0876e-01, -6.1330e-01,\n",
       "          -7.8985e-01],\n",
       "         ...,\n",
       "         [ 6.5203e-01,  4.8297e-01, -7.9335e-01,  6.0876e-01, -6.1613e-01,\n",
       "          -7.8764e-01],\n",
       "         [ 6.1443e-01,  7.0629e-01, -2.5882e-01,  9.6593e-01, -6.1754e-01,\n",
       "          -7.8654e-01],\n",
       "         [ 5.9504e-01,  7.1922e-01,  3.8268e-01,  9.2388e-01, -6.1895e-01,\n",
       "          -7.8543e-01]],\n",
       "\n",
       "        [[ 7.1993e-01, -5.5370e-01, -2.5882e-01, -9.6593e-01, -6.1189e-01,\n",
       "          -7.9095e-01],\n",
       "         [ 7.0296e-01, -3.9385e-01, -7.9335e-01, -6.0876e-01, -6.1330e-01,\n",
       "          -7.8985e-01],\n",
       "         [ 6.7507e-01,  5.3965e-02, -1.0000e+00, -2.8444e-11, -6.1472e-01,\n",
       "          -7.8875e-01],\n",
       "         ...,\n",
       "         [ 6.1443e-01,  7.0629e-01, -2.5882e-01,  9.6593e-01, -6.1754e-01,\n",
       "          -7.8654e-01],\n",
       "         [ 5.9504e-01,  7.1922e-01,  3.8268e-01,  9.2388e-01, -6.1895e-01,\n",
       "          -7.8543e-01],\n",
       "         [ 6.0474e-01,  5.4056e-01,  8.6603e-01,  5.0000e-01, -6.2035e-01,\n",
       "          -7.8432e-01]]])"
      ]
     },
     "execution_count": 91,
     "metadata": {},
     "output_type": "execute_result"
    }
   ],
   "source": [
    "preprocess2(X3_train)"
   ]
  },
  {
   "cell_type": "code",
   "execution_count": 92,
   "metadata": {},
   "outputs": [],
   "source": [
    "def preprocess2_y(y):\n",
    "    y[:, 0] = (y[:, 0] - p_training_mean3) / p_training_std3\n",
    "    y[:, 1] = (y[:, 1] - temp_training_mean3) / temp_training_std3\n",
    "    return y"
   ]
  },
  {
   "cell_type": "code",
   "execution_count": 93,
   "metadata": {},
   "outputs": [
    {
     "data": {
      "text/plain": [
       "tensor([[ 1.2365, -2.0593],\n",
       "        [ 1.2996, -2.0076],\n",
       "        [ 1.3699, -1.9347],\n",
       "        ...,\n",
       "        [ 0.5950,  0.7192],\n",
       "        [ 0.6047,  0.5406],\n",
       "        [ 0.6193,  0.4994]])"
      ]
     },
     "execution_count": 93,
     "metadata": {},
     "output_type": "execute_result"
    }
   ],
   "source": [
    "preprocess2_y(y3_train)"
   ]
  },
  {
   "cell_type": "code",
   "execution_count": 94,
   "metadata": {},
   "outputs": [
    {
     "data": {
      "text/plain": [
       "tensor([[[-1.0735e+00,  1.0401e+00,  1.3053e-01, -9.9144e-01,  1.9400e-01,\n",
       "           9.8100e-01],\n",
       "         [-1.0081e+00,  9.9073e-01, -5.0000e-01, -8.6603e-01,  1.9576e-01,\n",
       "           9.8065e-01],\n",
       "         [-9.5107e-01,  8.4968e-01, -9.2388e-01, -3.8268e-01,  1.9751e-01,\n",
       "           9.8030e-01],\n",
       "         ...,\n",
       "         [-8.8073e-01,  6.6633e-01, -6.0876e-01,  7.9335e-01,  2.0103e-01,\n",
       "           9.7959e-01],\n",
       "         [-8.2980e-01,  5.3704e-01, -1.7912e-11,  1.0000e+00,  2.0278e-01,\n",
       "           9.7922e-01],\n",
       "         [-8.0192e-01,  4.7474e-01,  6.0876e-01,  7.9335e-01,  2.0454e-01,\n",
       "           9.7886e-01]],\n",
       "\n",
       "        [[-1.0081e+00,  9.9073e-01, -5.0000e-01, -8.6603e-01,  1.9576e-01,\n",
       "           9.8065e-01],\n",
       "         [-9.5107e-01,  8.4968e-01, -9.2388e-01, -3.8268e-01,  1.9751e-01,\n",
       "           9.8030e-01],\n",
       "         [-9.1469e-01,  7.5566e-01, -9.6593e-01,  2.5882e-01,  1.9927e-01,\n",
       "           9.7994e-01],\n",
       "         ...,\n",
       "         [-8.2980e-01,  5.3704e-01, -1.7912e-11,  1.0000e+00,  2.0278e-01,\n",
       "           9.7922e-01],\n",
       "         [-8.0192e-01,  4.7474e-01,  6.0876e-01,  7.9335e-01,  2.0454e-01,\n",
       "           9.7886e-01],\n",
       "         [-7.9343e-01,  4.1245e-01,  9.6593e-01,  2.5882e-01,  2.0629e-01,\n",
       "           9.7849e-01]],\n",
       "\n",
       "        [[-9.5107e-01,  8.4968e-01, -9.2388e-01, -3.8268e-01,  1.9751e-01,\n",
       "           9.8030e-01],\n",
       "         [-9.1469e-01,  7.5566e-01, -9.6593e-01,  2.5882e-01,  1.9927e-01,\n",
       "           9.7994e-01],\n",
       "         [-8.8073e-01,  6.6633e-01, -6.0876e-01,  7.9335e-01,  2.0103e-01,\n",
       "           9.7959e-01],\n",
       "         ...,\n",
       "         [-8.0192e-01,  4.7474e-01,  6.0876e-01,  7.9335e-01,  2.0454e-01,\n",
       "           9.7886e-01],\n",
       "         [-7.9343e-01,  4.1245e-01,  9.6593e-01,  2.5882e-01,  2.0629e-01,\n",
       "           9.7849e-01],\n",
       "         [-7.6311e-01,  3.5368e-01,  9.2388e-01, -3.8268e-01,  2.0804e-01,\n",
       "           9.7812e-01]],\n",
       "\n",
       "        ...,\n",
       "\n",
       "        [[ 1.7313e+00, -6.1952e-01,  1.5212e-01, -9.8836e-01, -8.2907e-03,\n",
       "          -9.9997e-01],\n",
       "         [ 1.7119e+00, -5.2314e-01, -4.8099e-01, -8.7673e-01, -1.0083e-02,\n",
       "          -9.9995e-01],\n",
       "         [ 1.6452e+00, -8.2050e-01, -9.1531e-01, -4.0275e-01, -1.1874e-02,\n",
       "          -9.9993e-01],\n",
       "         ...,\n",
       "         [ 1.6124e+00, -1.1567e+00, -6.2592e-01,  7.7988e-01, -1.5458e-02,\n",
       "          -9.9988e-01],\n",
       "         [ 1.6015e+00, -1.2225e+00, -2.1815e-02,  9.9976e-01, -1.7250e-02,\n",
       "          -9.9985e-01],\n",
       "         [ 1.5069e+00, -1.2718e+00,  5.9131e-01,  8.0644e-01, -1.9041e-02,\n",
       "          -9.9982e-01]],\n",
       "\n",
       "        [[ 1.7119e+00, -5.2314e-01, -4.8099e-01, -8.7673e-01, -1.0083e-02,\n",
       "          -9.9995e-01],\n",
       "         [ 1.6452e+00, -8.2050e-01, -9.1531e-01, -4.0275e-01, -1.1874e-02,\n",
       "          -9.9993e-01],\n",
       "         [ 1.6318e+00, -9.5567e-01, -9.7134e-01,  2.3769e-01, -1.3666e-02,\n",
       "          -9.9991e-01],\n",
       "         ...,\n",
       "         [ 1.6015e+00, -1.2225e+00, -2.1815e-02,  9.9976e-01, -1.7250e-02,\n",
       "          -9.9985e-01],\n",
       "         [ 1.5069e+00, -1.2718e+00,  5.9131e-01,  8.0644e-01, -1.9041e-02,\n",
       "          -9.9982e-01],\n",
       "         [ 1.4815e+00, -1.4305e+00,  9.6005e-01,  2.7983e-01, -2.0833e-02,\n",
       "          -9.9978e-01]],\n",
       "\n",
       "        [[ 1.6452e+00, -8.2050e-01, -9.1531e-01, -4.0275e-01, -1.1874e-02,\n",
       "          -9.9993e-01],\n",
       "         [ 1.6318e+00, -9.5567e-01, -9.7134e-01,  2.3769e-01, -1.3666e-02,\n",
       "          -9.9991e-01],\n",
       "         [ 1.6124e+00, -1.1567e+00, -6.2592e-01,  7.7988e-01, -1.5458e-02,\n",
       "          -9.9988e-01],\n",
       "         ...,\n",
       "         [ 1.5069e+00, -1.2718e+00,  5.9131e-01,  8.0644e-01, -1.9041e-02,\n",
       "          -9.9982e-01],\n",
       "         [ 1.4815e+00, -1.4305e+00,  9.6005e-01,  2.7983e-01, -2.0833e-02,\n",
       "          -9.9978e-01],\n",
       "         [ 1.4160e+00, -1.4470e+00,  9.3201e-01, -3.6244e-01, -2.2625e-02,\n",
       "          -9.9974e-01]]])"
      ]
     },
     "execution_count": 94,
     "metadata": {},
     "output_type": "execute_result"
    }
   ],
   "source": [
    "preprocess2_y(y3_val)\n",
    "preprocess2_y(y3_test)\n",
    "preprocess2(X3_val)\n",
    "preprocess2(X3_test)"
   ]
  },
  {
   "cell_type": "code",
   "execution_count": 95,
   "metadata": {},
   "outputs": [],
   "source": [
    "train3 = TensorDataset(X3_train, y3_train)\n",
    "val3 = TensorDataset(X3_val, y3_val)\n",
    "test3 = TensorDataset(X3_test, y3_test)"
   ]
  },
  {
   "cell_type": "code",
   "execution_count": 96,
   "metadata": {},
   "outputs": [],
   "source": [
    "train_dataloader3 = DataLoader(train3, batch_size=32, shuffle=False)\n",
    "val_dataloader3 = DataLoader(val3, batch_size=1, shuffle=False)\n",
    "test_dataloader3 = DataLoader(test3, batch_size=1, shuffle=False)"
   ]
  },
  {
   "cell_type": "code",
   "execution_count": 97,
   "metadata": {},
   "outputs": [
    {
     "name": "stdout",
     "output_type": "stream",
     "text": [
      "torch.Size([32, 7, 6])\n"
     ]
    }
   ],
   "source": [
    "for data, target in train_dataloader3:\n",
    "    print(data.shape)\n",
    "    break"
   ]
  },
  {
   "cell_type": "code",
   "execution_count": 104,
   "metadata": {},
   "outputs": [],
   "source": [
    "model_5 = Forecast(input_size=6, hidden_size=64, num_layers=1, output_size=2).to(device)\n",
    "criterion5 = nn.MSELoss()\n",
    "optimizer5 = torch.optim.Adam(params=model_5.parameters(), lr=0.0001)"
   ]
  },
  {
   "cell_type": "code",
   "execution_count": 146,
   "metadata": {},
   "outputs": [
    {
     "data": {
      "application/vnd.jupyter.widget-view+json": {
       "model_id": "82e0266b081849bf9cee8f2124bb39f8",
       "version_major": 2,
       "version_minor": 0
      },
      "text/plain": [
       "Epoch 1:   0%|          | 0/1875 [00:00<?, ?batch/s]"
      ]
     },
     "metadata": {},
     "output_type": "display_data"
    },
    {
     "name": "stdout",
     "output_type": "stream",
     "text": [
      "Epoch: 0, Step: 0, Loss: 1.4222651720046998e-06\n"
     ]
    },
    {
     "data": {
      "application/vnd.jupyter.widget-view+json": {
       "model_id": "4fe71b8c7f374da8801a80be002c01ef",
       "version_major": 2,
       "version_minor": 0
      },
      "text/plain": [
       "Epoch 2:   0%|          | 0/1875 [00:00<?, ?batch/s]"
      ]
     },
     "metadata": {},
     "output_type": "display_data"
    },
    {
     "name": "stdout",
     "output_type": "stream",
     "text": [
      "Epoch: 1, Step: 0, Loss: 0.005906426441110671\n"
     ]
    },
    {
     "data": {
      "application/vnd.jupyter.widget-view+json": {
       "model_id": "b0d4280c2de8409d88ace1a1f437a663",
       "version_major": 2,
       "version_minor": 0
      },
      "text/plain": [
       "Epoch 3:   0%|          | 0/1875 [00:00<?, ?batch/s]"
      ]
     },
     "metadata": {},
     "output_type": "display_data"
    },
    {
     "name": "stdout",
     "output_type": "stream",
     "text": [
      "Epoch: 2, Step: 0, Loss: 0.005897954143661384\n"
     ]
    },
    {
     "data": {
      "application/vnd.jupyter.widget-view+json": {
       "model_id": "7454b8bc2b444c038c470adacf0977ee",
       "version_major": 2,
       "version_minor": 0
      },
      "text/plain": [
       "Epoch 4:   0%|          | 0/1875 [00:00<?, ?batch/s]"
      ]
     },
     "metadata": {},
     "output_type": "display_data"
    },
    {
     "name": "stdout",
     "output_type": "stream",
     "text": [
      "Epoch: 3, Step: 0, Loss: 0.005887051326502114\n"
     ]
    },
    {
     "data": {
      "application/vnd.jupyter.widget-view+json": {
       "model_id": "7709adb5884949789cb6f6da717d0025",
       "version_major": 2,
       "version_minor": 0
      },
      "text/plain": [
       "Epoch 5:   0%|          | 0/1875 [00:00<?, ?batch/s]"
      ]
     },
     "metadata": {},
     "output_type": "display_data"
    },
    {
     "name": "stdout",
     "output_type": "stream",
     "text": [
      "Epoch: 4, Step: 0, Loss: 0.005796636222163215\n"
     ]
    },
    {
     "data": {
      "application/vnd.jupyter.widget-view+json": {
       "model_id": "a33d31c8a33d4760a49c099928f49a58",
       "version_major": 2,
       "version_minor": 0
      },
      "text/plain": [
       "Epoch 6:   0%|          | 0/1875 [00:00<?, ?batch/s]"
      ]
     },
     "metadata": {},
     "output_type": "display_data"
    },
    {
     "name": "stdout",
     "output_type": "stream",
     "text": [
      "Epoch: 5, Step: 0, Loss: 0.0057498096986363335\n"
     ]
    },
    {
     "data": {
      "application/vnd.jupyter.widget-view+json": {
       "model_id": "a5bbd999ed74409692e6a616d5944a20",
       "version_major": 2,
       "version_minor": 0
      },
      "text/plain": [
       "Epoch 7:   0%|          | 0/1875 [00:00<?, ?batch/s]"
      ]
     },
     "metadata": {},
     "output_type": "display_data"
    },
    {
     "name": "stdout",
     "output_type": "stream",
     "text": [
      "Epoch: 6, Step: 0, Loss: 0.005786542622248331\n"
     ]
    },
    {
     "data": {
      "application/vnd.jupyter.widget-view+json": {
       "model_id": "dccd6672ec2b4fdda88e44063df1a404",
       "version_major": 2,
       "version_minor": 0
      },
      "text/plain": [
       "Epoch 8:   0%|          | 0/1875 [00:00<?, ?batch/s]"
      ]
     },
     "metadata": {},
     "output_type": "display_data"
    },
    {
     "name": "stdout",
     "output_type": "stream",
     "text": [
      "Epoch: 7, Step: 0, Loss: 0.005797032054839656\n"
     ]
    },
    {
     "data": {
      "application/vnd.jupyter.widget-view+json": {
       "model_id": "387144d70d2446eab581702a9fdae6b0",
       "version_major": 2,
       "version_minor": 0
      },
      "text/plain": [
       "Epoch 9:   0%|          | 0/1875 [00:00<?, ?batch/s]"
      ]
     },
     "metadata": {},
     "output_type": "display_data"
    },
    {
     "name": "stdout",
     "output_type": "stream",
     "text": [
      "Epoch: 8, Step: 0, Loss: 0.005813179822374756\n"
     ]
    },
    {
     "data": {
      "application/vnd.jupyter.widget-view+json": {
       "model_id": "df5cb31931c140128e214fbeaa2e704b",
       "version_major": 2,
       "version_minor": 0
      },
      "text/plain": [
       "Epoch 10:   0%|          | 0/1875 [00:00<?, ?batch/s]"
      ]
     },
     "metadata": {},
     "output_type": "display_data"
    },
    {
     "name": "stdout",
     "output_type": "stream",
     "text": [
      "Epoch: 9, Step: 0, Loss: 0.0057895266387145965\n"
     ]
    },
    {
     "data": {
      "application/vnd.jupyter.widget-view+json": {
       "model_id": "1c2a0dc6bccc449896c8ef599b99402e",
       "version_major": 2,
       "version_minor": 0
      },
      "text/plain": [
       "Epoch 11:   0%|          | 0/1875 [00:00<?, ?batch/s]"
      ]
     },
     "metadata": {},
     "output_type": "display_data"
    },
    {
     "name": "stdout",
     "output_type": "stream",
     "text": [
      "Epoch: 10, Step: 0, Loss: 0.0057331217814081655\n"
     ]
    },
    {
     "data": {
      "application/vnd.jupyter.widget-view+json": {
       "model_id": "bc4978197ddb4b53a015c990cd9853ab",
       "version_major": 2,
       "version_minor": 0
      },
      "text/plain": [
       "Epoch 12:   0%|          | 0/1875 [00:00<?, ?batch/s]"
      ]
     },
     "metadata": {},
     "output_type": "display_data"
    },
    {
     "name": "stdout",
     "output_type": "stream",
     "text": [
      "Epoch: 11, Step: 0, Loss: 0.005702148263622075\n"
     ]
    },
    {
     "data": {
      "application/vnd.jupyter.widget-view+json": {
       "model_id": "b08557bbbb494e2291e64147cf5b50be",
       "version_major": 2,
       "version_minor": 0
      },
      "text/plain": [
       "Epoch 13:   0%|          | 0/1875 [00:00<?, ?batch/s]"
      ]
     },
     "metadata": {},
     "output_type": "display_data"
    },
    {
     "name": "stdout",
     "output_type": "stream",
     "text": [
      "Epoch: 12, Step: 0, Loss: 0.005710579069393377\n"
     ]
    },
    {
     "data": {
      "application/vnd.jupyter.widget-view+json": {
       "model_id": "fcf773bfc7894796b15ba1e85a368ea6",
       "version_major": 2,
       "version_minor": 0
      },
      "text/plain": [
       "Epoch 14:   0%|          | 0/1875 [00:00<?, ?batch/s]"
      ]
     },
     "metadata": {},
     "output_type": "display_data"
    },
    {
     "name": "stdout",
     "output_type": "stream",
     "text": [
      "Epoch: 13, Step: 0, Loss: 0.005731893241064002\n"
     ]
    },
    {
     "data": {
      "application/vnd.jupyter.widget-view+json": {
       "model_id": "4ec5fc1916e94d6c860300ac1369932b",
       "version_major": 2,
       "version_minor": 0
      },
      "text/plain": [
       "Epoch 15:   0%|          | 0/1875 [00:00<?, ?batch/s]"
      ]
     },
     "metadata": {},
     "output_type": "display_data"
    },
    {
     "name": "stdout",
     "output_type": "stream",
     "text": [
      "Epoch: 14, Step: 0, Loss: 0.005732655104560156\n"
     ]
    },
    {
     "data": {
      "application/vnd.jupyter.widget-view+json": {
       "model_id": "ff912b7f93814d0788706f325b5d2a1e",
       "version_major": 2,
       "version_minor": 0
      },
      "text/plain": [
       "Epoch 16:   0%|          | 0/1875 [00:00<?, ?batch/s]"
      ]
     },
     "metadata": {},
     "output_type": "display_data"
    },
    {
     "name": "stdout",
     "output_type": "stream",
     "text": [
      "Epoch: 15, Step: 0, Loss: 0.0057112585828329124\n"
     ]
    },
    {
     "data": {
      "application/vnd.jupyter.widget-view+json": {
       "model_id": "aab92cf78f374cdb83bb487a01c88e7f",
       "version_major": 2,
       "version_minor": 0
      },
      "text/plain": [
       "Epoch 17:   0%|          | 0/1875 [00:00<?, ?batch/s]"
      ]
     },
     "metadata": {},
     "output_type": "display_data"
    },
    {
     "name": "stdout",
     "output_type": "stream",
     "text": [
      "Epoch: 16, Step: 0, Loss: 0.005686616031701366\n"
     ]
    },
    {
     "data": {
      "application/vnd.jupyter.widget-view+json": {
       "model_id": "14c911f37042426f8cf3ca0b8ea532ab",
       "version_major": 2,
       "version_minor": 0
      },
      "text/plain": [
       "Epoch 18:   0%|          | 0/1875 [00:00<?, ?batch/s]"
      ]
     },
     "metadata": {},
     "output_type": "display_data"
    },
    {
     "name": "stdout",
     "output_type": "stream",
     "text": [
      "Epoch: 17, Step: 0, Loss: 0.0056666793050554895\n"
     ]
    },
    {
     "data": {
      "application/vnd.jupyter.widget-view+json": {
       "model_id": "754460d9575446c1be447fd4491f2cff",
       "version_major": 2,
       "version_minor": 0
      },
      "text/plain": [
       "Epoch 19:   0%|          | 0/1875 [00:00<?, ?batch/s]"
      ]
     },
     "metadata": {},
     "output_type": "display_data"
    },
    {
     "name": "stdout",
     "output_type": "stream",
     "text": [
      "Epoch: 18, Step: 0, Loss: 0.005655113073779891\n"
     ]
    },
    {
     "data": {
      "application/vnd.jupyter.widget-view+json": {
       "model_id": "605d1dbc6c1b482fa13af22d806a7f0e",
       "version_major": 2,
       "version_minor": 0
      },
      "text/plain": [
       "Epoch 20:   0%|          | 0/1875 [00:00<?, ?batch/s]"
      ]
     },
     "metadata": {},
     "output_type": "display_data"
    },
    {
     "name": "stdout",
     "output_type": "stream",
     "text": [
      "Epoch: 19, Step: 0, Loss: 0.005649288462847471\n",
      "The total loss is: 0.003595105591476507\n"
     ]
    }
   ],
   "source": [
    "model_5.train()\n",
    "running_loss = 0\n",
    "total_loss = 0\n",
    "for epoch in range(N_EPOCHS):\n",
    "    for batch_idx, (data, target) in enumerate(tqdm(train_dataloader3, unit='batch', desc=f'Epoch {epoch+1}')):\n",
    "        data = data.to(device)\n",
    "        target = target.to(device)\n",
    "\n",
    "        optimizer5.zero_grad()\n",
    "        outputs = model_5(data)\n",
    "        loss = criterion5(outputs, target)\n",
    "\n",
    "        running_loss += loss.item()\n",
    "        total_loss += loss.item()\n",
    "\n",
    "        loss.backward()\n",
    "\n",
    "        optimizer5.step()\n",
    "\n",
    "        if batch_idx == 0:\n",
    "            print(f'Epoch: {epoch}, Step: {batch_idx}, Loss: {running_loss/len(train_dataloader3)}')\n",
    "            running_loss = 0\n",
    "\n",
    "total_loss = total_loss/len(train_dataloader3.dataset)\n",
    "\n",
    "print(f'The total loss is: {total_loss}')"
   ]
  },
  {
   "cell_type": "code",
   "execution_count": 147,
   "metadata": {},
   "outputs": [],
   "source": [
    "def plot_predictions2(model, dataloader, start=0, end=100):\n",
    "  model.eval()\n",
    "  pred_press, pred_temp = [], []\n",
    "  real_press, real_temp = [], []\n",
    "  with torch.no_grad():\n",
    "      for batch_idx, (data, target) in enumerate(tqdm(dataloader, unit='batch')):\n",
    "          data = data.to(device)\n",
    "          target = target.to(device)\n",
    "          \n",
    "          outputs = model(data)\n",
    "          pred_press.append(outputs[0][0].item())\n",
    "          pred_temp.append(outputs[0][1].item())\n",
    "          real_press.append(target[0][0].item())\n",
    "          real_temp.append(target[0][1].item())\n",
    "  df = pd.DataFrame(data={'Temperature Predictions': pred_temp,\n",
    "                          'Temperature Actuals': real_temp,\n",
    "                          'Pressure Predictions': pred_press,\n",
    "                          'Pressure Actuals': real_press})\n",
    "  plt.plot(df['Temperature Predictions'][start:end])\n",
    "  plt.plot(df['Temperature Actuals'][start:end])\n",
    "  plt.plot(df['Pressure Predictions'][start:end])\n",
    "  plt.plot(df['Pressure Actuals'][start:end])\n",
    "  return df[start:end]"
   ]
  },
  {
   "cell_type": "code",
   "execution_count": 148,
   "metadata": {},
   "outputs": [
    {
     "data": {
      "application/vnd.jupyter.widget-view+json": {
       "model_id": "da6818811b39452d81ffbd995de55d20",
       "version_major": 2,
       "version_minor": 0
      },
      "text/plain": [
       "  0%|          | 0/5084 [00:00<?, ?batch/s]"
      ]
     },
     "metadata": {},
     "output_type": "display_data"
    },
    {
     "data": {
      "text/html": [
       "<div>\n",
       "<style scoped>\n",
       "    .dataframe tbody tr th:only-of-type {\n",
       "        vertical-align: middle;\n",
       "    }\n",
       "\n",
       "    .dataframe tbody tr th {\n",
       "        vertical-align: top;\n",
       "    }\n",
       "\n",
       "    .dataframe thead th {\n",
       "        text-align: right;\n",
       "    }\n",
       "</style>\n",
       "<table border=\"1\" class=\"dataframe\">\n",
       "  <thead>\n",
       "    <tr style=\"text-align: right;\">\n",
       "      <th></th>\n",
       "      <th>Temperature Predictions</th>\n",
       "      <th>Temperature Actuals</th>\n",
       "      <th>Pressure Predictions</th>\n",
       "      <th>Pressure Actuals</th>\n",
       "    </tr>\n",
       "  </thead>\n",
       "  <tbody>\n",
       "    <tr>\n",
       "      <th>0</th>\n",
       "      <td>0.477851</td>\n",
       "      <td>0.412450</td>\n",
       "      <td>-0.741895</td>\n",
       "      <td>-0.793427</td>\n",
       "    </tr>\n",
       "    <tr>\n",
       "      <th>1</th>\n",
       "      <td>0.427154</td>\n",
       "      <td>0.353682</td>\n",
       "      <td>-0.746188</td>\n",
       "      <td>-0.763112</td>\n",
       "    </tr>\n",
       "    <tr>\n",
       "      <th>2</th>\n",
       "      <td>0.365860</td>\n",
       "      <td>0.323123</td>\n",
       "      <td>-0.711716</td>\n",
       "      <td>-0.721879</td>\n",
       "    </tr>\n",
       "    <tr>\n",
       "      <th>3</th>\n",
       "      <td>0.344978</td>\n",
       "      <td>0.250251</td>\n",
       "      <td>-0.659919</td>\n",
       "      <td>-0.652758</td>\n",
       "    </tr>\n",
       "    <tr>\n",
       "      <th>4</th>\n",
       "      <td>0.268228</td>\n",
       "      <td>0.254952</td>\n",
       "      <td>-0.576516</td>\n",
       "      <td>-0.652758</td>\n",
       "    </tr>\n",
       "    <tr>\n",
       "      <th>...</th>\n",
       "      <td>...</td>\n",
       "      <td>...</td>\n",
       "      <td>...</td>\n",
       "      <td>...</td>\n",
       "    </tr>\n",
       "    <tr>\n",
       "      <th>95</th>\n",
       "      <td>0.762184</td>\n",
       "      <td>0.716869</td>\n",
       "      <td>-0.376155</td>\n",
       "      <td>-0.416301</td>\n",
       "    </tr>\n",
       "    <tr>\n",
       "      <th>96</th>\n",
       "      <td>0.715204</td>\n",
       "      <td>0.687485</td>\n",
       "      <td>-0.376668</td>\n",
       "      <td>-0.399323</td>\n",
       "    </tr>\n",
       "    <tr>\n",
       "      <th>97</th>\n",
       "      <td>0.694622</td>\n",
       "      <td>0.663977</td>\n",
       "      <td>-0.358529</td>\n",
       "      <td>-0.399323</td>\n",
       "    </tr>\n",
       "    <tr>\n",
       "      <th>98</th>\n",
       "      <td>0.677648</td>\n",
       "      <td>0.641646</td>\n",
       "      <td>-0.361133</td>\n",
       "      <td>-0.400536</td>\n",
       "    </tr>\n",
       "    <tr>\n",
       "      <th>99</th>\n",
       "      <td>0.655146</td>\n",
       "      <td>0.653399</td>\n",
       "      <td>-0.363699</td>\n",
       "      <td>-0.369007</td>\n",
       "    </tr>\n",
       "  </tbody>\n",
       "</table>\n",
       "<p>100 rows × 4 columns</p>\n",
       "</div>"
      ],
      "text/plain": [
       "    Temperature Predictions  Temperature Actuals  Pressure Predictions  \\\n",
       "0                  0.477851             0.412450             -0.741895   \n",
       "1                  0.427154             0.353682             -0.746188   \n",
       "2                  0.365860             0.323123             -0.711716   \n",
       "3                  0.344978             0.250251             -0.659919   \n",
       "4                  0.268228             0.254952             -0.576516   \n",
       "..                      ...                  ...                   ...   \n",
       "95                 0.762184             0.716869             -0.376155   \n",
       "96                 0.715204             0.687485             -0.376668   \n",
       "97                 0.694622             0.663977             -0.358529   \n",
       "98                 0.677648             0.641646             -0.361133   \n",
       "99                 0.655146             0.653399             -0.363699   \n",
       "\n",
       "    Pressure Actuals  \n",
       "0          -0.793427  \n",
       "1          -0.763112  \n",
       "2          -0.721879  \n",
       "3          -0.652758  \n",
       "4          -0.652758  \n",
       "..               ...  \n",
       "95         -0.416301  \n",
       "96         -0.399323  \n",
       "97         -0.399323  \n",
       "98         -0.400536  \n",
       "99         -0.369007  \n",
       "\n",
       "[100 rows x 4 columns]"
      ]
     },
     "execution_count": 148,
     "metadata": {},
     "output_type": "execute_result"
    },
    {
     "data": {
      "image/png": "[encoded data removed]",
      "text/plain": [
       "<Figure size 640x480 with 1 Axes>"
      ]
     },
     "metadata": {},
     "output_type": "display_data"
    }
   ],
   "source": [
    "plot_predictions2(model_5, test_dataloader3)"
   ]
  },
  {
   "cell_type": "code",
   "execution_count": 158,
   "metadata": {},
   "outputs": [
    {
     "data": {
      "text/plain": [
       "(tensor(988.9730), tensor(8.2465), tensor(9.4209), tensor(8.5080))"
      ]
     },
     "execution_count": 158,
     "metadata": {},
     "output_type": "execute_result"
    }
   ],
   "source": [
    "p_training_mean3, p_training_std3, temp_training_mean3, temp_training_std3"
   ]
  },
  {
   "cell_type": "code",
   "execution_count": 197,
   "metadata": {},
   "outputs": [],
   "source": [
    "def preprocess_temp(arr):\n",
    "    arr = (arr * temp_training_std3.to(device)) + temp_training_mean3.to(device)\n",
    "    return (arr.cpu().numpy())\n",
    "\n",
    "def preprocess_p(arr):\n",
    "    arr = (arr * p_training_std3.to(device)) + p_training_mean3.to(device)\n",
    "    return (arr.cpu().numpy())"
   ]
  },
  {
   "cell_type": "code",
   "execution_count": 198,
   "metadata": {},
   "outputs": [],
   "source": [
    "def plot_predictions3(model, dataloader, start=0, end=100):\n",
    "  model.eval()\n",
    "  pred_press, pred_temp = [], []\n",
    "  real_press, real_temp = [], []\n",
    "  with torch.no_grad():\n",
    "      for batch_idx, (data, target) in enumerate(tqdm(dataloader, unit='batch')):\n",
    "          data = data.to(device)\n",
    "          target = target.to(device)\n",
    "          \n",
    "          outputs = model(data)\n",
    "          for i in range(len(outputs)):\n",
    "              pred_press.append(preprocess_p((outputs[i][0].item())))\n",
    "              pred_temp.append(preprocess_temp((outputs[i][1].item())))\n",
    "              real_press.append(preprocess_p((target[i][0].item())))\n",
    "              real_temp.append(preprocess_temp((target[i][1].item())))\n",
    "  df = pd.DataFrame(data={'Temperature Predictions': pred_temp,\n",
    "                          'Temperature Actuals': real_temp,\n",
    "                          'Pressure Predictions': pred_press,\n",
    "                          'Pressure Actuals': real_press})\n",
    "  plt.plot(df['Temperature Predictions'][start:end])\n",
    "  plt.plot(df['Temperature Actuals'][start:end])\n",
    "  plt.plot(df['Pressure Predictions'][start:end])\n",
    "  plt.plot(df['Pressure Actuals'][start:end])\n",
    "  return df[start:end]"
   ]
  },
  {
   "cell_type": "code",
   "execution_count": 199,
   "metadata": {},
   "outputs": [
    {
     "data": {
      "application/vnd.jupyter.widget-view+json": {
       "model_id": "9796e253ad534aa197697107da0c5d01",
       "version_major": 2,
       "version_minor": 0
      },
      "text/plain": [
       "  0%|          | 0/5084 [00:00<?, ?batch/s]"
      ]
     },
     "metadata": {},
     "output_type": "display_data"
    },
    {
     "data": {
      "image/png": "[encoded data removed]",
      "text/plain": [
       "<Figure size 640x480 with 1 Axes>"
      ]
     },
     "metadata": {},
     "output_type": "display_data"
    }
   ],
   "source": [
    "post_processed_df = plot_predictions3(model_5, test_dataloader3)"
   ]
  },
  {
   "cell_type": "code",
   "execution_count": 200,
   "metadata": {},
   "outputs": [
    {
     "data": {
      "text/html": [
       "<div>\n",
       "<style scoped>\n",
       "    .dataframe tbody tr th:only-of-type {\n",
       "        vertical-align: middle;\n",
       "    }\n",
       "\n",
       "    .dataframe tbody tr th {\n",
       "        vertical-align: top;\n",
       "    }\n",
       "\n",
       "    .dataframe thead th {\n",
       "        text-align: right;\n",
       "    }\n",
       "</style>\n",
       "<table border=\"1\" class=\"dataframe\">\n",
       "  <thead>\n",
       "    <tr style=\"text-align: right;\">\n",
       "      <th></th>\n",
       "      <th>Temperature Predictions</th>\n",
       "      <th>Temperature Actuals</th>\n",
       "      <th>Pressure Predictions</th>\n",
       "      <th>Pressure Actuals</th>\n",
       "    </tr>\n",
       "  </thead>\n",
       "  <tbody>\n",
       "    <tr>\n",
       "      <th>0</th>\n",
       "      <td>13.486431</td>\n",
       "      <td>12.93</td>\n",
       "      <td>982.855</td>\n",
       "      <td>982.43</td>\n",
       "    </tr>\n",
       "    <tr>\n",
       "      <th>1</th>\n",
       "      <td>13.055102</td>\n",
       "      <td>12.43</td>\n",
       "      <td>982.8196</td>\n",
       "      <td>982.68</td>\n",
       "    </tr>\n",
       "    <tr>\n",
       "      <th>2</th>\n",
       "      <td>12.533608</td>\n",
       "      <td>12.17</td>\n",
       "      <td>983.1038</td>\n",
       "      <td>983.02</td>\n",
       "    </tr>\n",
       "    <tr>\n",
       "      <th>3</th>\n",
       "      <td>12.355943</td>\n",
       "      <td>11.55</td>\n",
       "      <td>983.531</td>\n",
       "      <td>983.59</td>\n",
       "    </tr>\n",
       "    <tr>\n",
       "      <th>4</th>\n",
       "      <td>11.702951</td>\n",
       "      <td>11.59</td>\n",
       "      <td>984.21875</td>\n",
       "      <td>983.59</td>\n",
       "    </tr>\n",
       "    <tr>\n",
       "      <th>...</th>\n",
       "      <td>...</td>\n",
       "      <td>...</td>\n",
       "      <td>...</td>\n",
       "      <td>...</td>\n",
       "    </tr>\n",
       "    <tr>\n",
       "      <th>95</th>\n",
       "      <td>15.90554</td>\n",
       "      <td>15.52</td>\n",
       "      <td>985.87103</td>\n",
       "      <td>985.54</td>\n",
       "    </tr>\n",
       "    <tr>\n",
       "      <th>96</th>\n",
       "      <td>15.505837</td>\n",
       "      <td>15.27</td>\n",
       "      <td>985.8668</td>\n",
       "      <td>985.68</td>\n",
       "    </tr>\n",
       "    <tr>\n",
       "      <th>97</th>\n",
       "      <td>15.330724</td>\n",
       "      <td>15.07</td>\n",
       "      <td>986.0164</td>\n",
       "      <td>985.68</td>\n",
       "    </tr>\n",
       "    <tr>\n",
       "      <th>98</th>\n",
       "      <td>15.186308</td>\n",
       "      <td>14.88</td>\n",
       "      <td>985.99493</td>\n",
       "      <td>985.67</td>\n",
       "    </tr>\n",
       "    <tr>\n",
       "      <th>99</th>\n",
       "      <td>14.994863</td>\n",
       "      <td>14.98</td>\n",
       "      <td>985.97375</td>\n",
       "      <td>985.93</td>\n",
       "    </tr>\n",
       "  </tbody>\n",
       "</table>\n",
       "<p>100 rows × 4 columns</p>\n",
       "</div>"
      ],
      "text/plain": [
       "   Temperature Predictions Temperature Actuals Pressure Predictions  \\\n",
       "0                13.486431               12.93              982.855   \n",
       "1                13.055102               12.43             982.8196   \n",
       "2                12.533608               12.17             983.1038   \n",
       "3                12.355943               11.55              983.531   \n",
       "4                11.702951               11.59            984.21875   \n",
       "..                     ...                 ...                  ...   \n",
       "95                15.90554               15.52            985.87103   \n",
       "96               15.505837               15.27             985.8668   \n",
       "97               15.330724               15.07             986.0164   \n",
       "98               15.186308               14.88            985.99493   \n",
       "99               14.994863               14.98            985.97375   \n",
       "\n",
       "   Pressure Actuals  \n",
       "0            982.43  \n",
       "1            982.68  \n",
       "2            983.02  \n",
       "3            983.59  \n",
       "4            983.59  \n",
       "..              ...  \n",
       "95           985.54  \n",
       "96           985.68  \n",
       "97           985.68  \n",
       "98           985.67  \n",
       "99           985.93  \n",
       "\n",
       "[100 rows x 4 columns]"
      ]
     },
     "execution_count": 200,
     "metadata": {},
     "output_type": "execute_result"
    }
   ],
   "source": [
    "post_processed_df"
   ]
  },
  {
   "cell_type": "code",
   "execution_count": 201,
   "metadata": {},
   "outputs": [
    {
     "data": {
      "text/plain": [
       "[<matplotlib.lines.Line2D at 0x728bb2ad48e0>]"
      ]
     },
     "execution_count": 201,
     "metadata": {},
     "output_type": "execute_result"
    },
    {
     "data": {
      "image/png": "[encoded data removed]",
      "text/plain": [
       "<Figure size 640x480 with 1 Axes>"
      ]
     },
     "metadata": {},
     "output_type": "display_data"
    }
   ],
   "source": [
    "start, end = 0, 100\n",
    "plt.plot(post_processed_df['Temperature Predictions'][start:end])\n",
    "plt.plot(post_processed_df['Temperature Actuals'][start:end])"
   ]
  },
  {
   "cell_type": "code",
   "execution_count": 202,
   "metadata": {},
   "outputs": [
    {
     "data": {
      "text/plain": [
       "[<matplotlib.lines.Line2D at 0x728ba9227580>]"
      ]
     },
     "execution_count": 202,
     "metadata": {},
     "output_type": "execute_result"
    },
    {
     "data": {
      "image/png": "[encoded data removed]",
      "text/plain": [
       "<Figure size 640x480 with 1 Axes>"
      ]
     },
     "metadata": {},
     "output_type": "display_data"
    }
   ],
   "source": [
    "plt.plot(post_processed_df['Pressure Predictions'][start:end])\n",
    "plt.plot(post_processed_df['Pressure Actuals'][start:end])"
   ]
  },
  {
   "cell_type": "code",
   "execution_count": null,
   "metadata": {},
   "outputs": [],
   "source": []
  }
 ],
 "metadata": {
  "kernelspec": {
   "display_name": "Python 3 (ipykernel)",
   "language": "python",
   "name": "python3"
  },
  "language_info": {
   "codemirror_mode": {
    "name": "ipython",
    "version": 3
   },
   "file_extension": ".py",
   "mimetype": "text/x-python",
   "name": "python",
   "nbconvert_exporter": "python",
   "pygments_lexer": "ipython3",
   "version": "3.10.12"
  }
 },
 "nbformat": 4,
 "nbformat_minor": 2
}
